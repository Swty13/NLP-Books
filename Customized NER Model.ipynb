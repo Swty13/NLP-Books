{
 "cells": [
  {
   "cell_type": "code",
   "execution_count": 73,
   "metadata": {},
   "outputs": [],
   "source": [
    "import spacy\n",
    "from spacy.pipeline import EntityRuler"
   ]
  },
  {
   "cell_type": "code",
   "execution_count": null,
   "metadata": {},
   "outputs": [],
   "source": [
    "nlp = spacy.load('en_core_web_sm', disable = ['ner'])"
   ]
  },
  {
   "cell_type": "code",
   "execution_count": null,
   "metadata": {},
   "outputs": [],
   "source": [
    "skillrule = EntityRuler(nlp, overwrite_ents=True)"
   ]
  },
  {
   "cell_type": "code",
   "execution_count": 77,
   "metadata": {},
   "outputs": [
    {
     "name": "stdout",
     "output_type": "stream",
     "text": [
      "data science | SKILL  |  29  |  41\n",
      "sales | SKILL  |  46  |  51\n"
     ]
    }
   ],
   "source": [
    "\n",
    "skills = [\"data science\",'python','java','c/c++','mailing','sales']\n",
    "for s in skills:\n",
    "    skillrule.add_patterns([{\"label\": \"SKILL\", \"pattern\": s}])\n",
    "\n",
    "\n",
    "skillrule.name = 'Skills'\n",
    "nlp.add_pipe(skillrule)\n",
    "\n"
   ]
  },
  {
   "cell_type": "code",
   "execution_count": null,
   "metadata": {},
   "outputs": [],
   "source": [
    "doc = nlp(\"I have skill of data minning,data science and sales meetings,claims knowlwdge,ligitimate.Medical office experience and to do direct mail.\")\n"
   ]
  },
  {
   "cell_type": "code",
   "execution_count": null,
   "metadata": {},
   "outputs": [],
   "source": [
    "\n",
    "for ent in doc.ents:\n",
    "    print(ent.text , '|', ent.label_,\" | \",ent.start_char,\" | \", ent.end_char)"
   ]
  }
 ],
 "metadata": {
  "kernelspec": {
   "display_name": "Python 3",
   "language": "python",
   "name": "python3"
  },
  "language_info": {
   "codemirror_mode": {
    "name": "ipython",
    "version": 3
   },
   "file_extension": ".py",
   "mimetype": "text/x-python",
   "name": "python",
   "nbconvert_exporter": "python",
   "pygments_lexer": "ipython3",
   "version": "3.6.9"
  }
 },
 "nbformat": 4,
 "nbformat_minor": 2
}

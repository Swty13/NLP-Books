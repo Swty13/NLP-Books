{
 "cells": [
  {
   "cell_type": "code",
   "execution_count": 1,
   "metadata": {},
   "outputs": [],
   "source": [
    "#Import libraries\n",
    "import spacy\n",
    "from spacy.pipeline import EntityRuler\n",
    "import pandas as pd"
   ]
  },
  {
   "cell_type": "code",
   "execution_count": 2,
   "metadata": {},
   "outputs": [],
   "source": [
    "nlp = spacy.load('en_core_web_sm', disable = ['ner'])"
   ]
  },
  {
   "cell_type": "code",
   "execution_count": 3,
   "metadata": {},
   "outputs": [],
   "source": [
    "skillrule = EntityRuler(nlp, overwrite_ents=True)"
   ]
  },
  {
   "cell_type": "code",
   "execution_count": 37,
   "metadata": {},
   "outputs": [],
   "source": [
    "##Read file and make list of skills\n",
    "file=pd.read_csv(\"skill_list.csv\")\n",
    "skill=file['skills']\n",
    "skill_list=list(skill)"
   ]
  },
  {
   "cell_type": "code",
   "execution_count": 8,
   "metadata": {},
   "outputs": [],
   "source": [
    "#Add labels and skill list to the NER rule\n",
    "for s in skill_list:\n",
    "    skillrule.add_patterns([{\"label\": \"SKILL\", \"pattern\": s}])\n",
    "\n",
    "skillrule.name = 'Skills'\n",
    "nlp.add_pipe(skillrule)"
   ]
  },
  {
   "cell_type": "code",
   "execution_count": 35,
   "metadata": {},
   "outputs": [],
   "source": [
    "doc=nlp(\"Design, develop, troubleshoot ,data mining ,data science ,claims knowledge and debug software programs for databases, \\\n",
    "applications, tools, networks etc.As a member of the software engineering division, \\\n",
    "you will assist in defining and developing software for tasks associated with the developing, \\\n",
    "debugging or designing of software applications or operating systems. Provide technical leadership \\\n",
    "to other software developers. Specify, design and implement modest changes to \\\n",
    "existing software architecture to meet changing needs.\")"
   ]
  },
  {
   "cell_type": "code",
   "execution_count": 36,
   "metadata": {},
   "outputs": [
    {
     "name": "stdout",
     "output_type": "stream",
     "text": [
      "data mining | SKILL  |  31  |  42\n",
      "claims knowledge | SKILL  |  58  |  74\n"
     ]
    }
   ],
   "source": [
    "##Test the data \n",
    "for ent in doc.ents:\n",
    "    print(ent.text , '|', ent.label_,\" | \",ent.start_char,\" | \", ent.end_char)"
   ]
  },
  {
   "cell_type": "code",
   "execution_count": null,
   "metadata": {},
   "outputs": [],
   "source": []
  }
 ],
 "metadata": {
  "kernelspec": {
   "display_name": "Python 3",
   "language": "python",
   "name": "python3"
  },
  "language_info": {
   "codemirror_mode": {
    "name": "ipython",
    "version": 3
   },
   "file_extension": ".py",
   "mimetype": "text/x-python",
   "name": "python",
   "nbconvert_exporter": "python",
   "pygments_lexer": "ipython3",
   "version": "3.6.9"
  }
 },
 "nbformat": 4,
 "nbformat_minor": 2
}

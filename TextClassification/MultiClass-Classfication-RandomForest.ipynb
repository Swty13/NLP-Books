{
 "cells": [
  {
   "cell_type": "markdown",
   "metadata": {},
   "source": [
    "# MultiClass-Classification-SentenceTransformer"
   ]
  },
  {
   "cell_type": "markdown",
   "metadata": {},
   "source": [
    "Dataset contains text from works of fiction written by spooky authors of the public domain: Edgar Allan Poe, HP Lovecraft and Mary Shelley. The data was prepared by chunking larger texts into sentences using CoreNLP's MaxEnt sentence tokenizer, so you may notice the odd non-sentence here and there. Our objective is to accurately identify the author of the sentences in the data set."
   ]
  },
  {
   "cell_type": "markdown",
   "metadata": {},
   "source": [
    "### Import Libraries"
   ]
  },
  {
   "cell_type": "code",
   "execution_count": 29,
   "metadata": {},
   "outputs": [],
   "source": [
    "import pandas as pd\n",
    "import numpy as np\n",
    "import seaborn as sns\n",
    "from sklearn.model_selection import train_test_split\n",
    "from sklearn.ensemble import RandomForestClassifier\n",
    "from sklearn.metrics import confusion_matrix\n",
    "from sklearn.metrics import roc_curve, auc,roc_auc_score\n",
    "import matplotlib.pyplot as plt\n",
    "from sklearn.metrics import f1_score,classification_report,accuracy_score\n",
    "from sklearn.metrics import precision_score,recall_score\n",
    "from sklearn.svm import LinearSVC\n",
    "from sklearn.naive_bayes import MultinomialNB\n",
    "from sklearn.linear_model import LogisticRegression\n",
    "from sklearn.model_selection import cross_val_score\n",
    "from sklearn.metrics import confusion_matrix\n",
    "from sklearn import metrics"
   ]
  },
  {
   "cell_type": "code",
   "execution_count": 2,
   "metadata": {},
   "outputs": [
    {
     "data": {
      "text/html": [
       "<div>\n",
       "<style scoped>\n",
       "    .dataframe tbody tr th:only-of-type {\n",
       "        vertical-align: middle;\n",
       "    }\n",
       "\n",
       "    .dataframe tbody tr th {\n",
       "        vertical-align: top;\n",
       "    }\n",
       "\n",
       "    .dataframe thead th {\n",
       "        text-align: right;\n",
       "    }\n",
       "</style>\n",
       "<table border=\"1\" class=\"dataframe\">\n",
       "  <thead>\n",
       "    <tr style=\"text-align: right;\">\n",
       "      <th></th>\n",
       "      <th>id</th>\n",
       "      <th>text</th>\n",
       "      <th>author</th>\n",
       "    </tr>\n",
       "  </thead>\n",
       "  <tbody>\n",
       "    <tr>\n",
       "      <th>0</th>\n",
       "      <td>id26305</td>\n",
       "      <td>This process, however, afforded me no means of...</td>\n",
       "      <td>EAP</td>\n",
       "    </tr>\n",
       "    <tr>\n",
       "      <th>1</th>\n",
       "      <td>id17569</td>\n",
       "      <td>It never once occurred to me that the fumbling...</td>\n",
       "      <td>HPL</td>\n",
       "    </tr>\n",
       "    <tr>\n",
       "      <th>2</th>\n",
       "      <td>id11008</td>\n",
       "      <td>In his left hand was a gold snuff box, from wh...</td>\n",
       "      <td>EAP</td>\n",
       "    </tr>\n",
       "    <tr>\n",
       "      <th>3</th>\n",
       "      <td>id27763</td>\n",
       "      <td>How lovely is spring As we looked from Windsor...</td>\n",
       "      <td>MWS</td>\n",
       "    </tr>\n",
       "    <tr>\n",
       "      <th>4</th>\n",
       "      <td>id12958</td>\n",
       "      <td>Finding nothing else, not even gold, the Super...</td>\n",
       "      <td>HPL</td>\n",
       "    </tr>\n",
       "  </tbody>\n",
       "</table>\n",
       "</div>"
      ],
      "text/plain": [
       "        id                                               text author\n",
       "0  id26305  This process, however, afforded me no means of...    EAP\n",
       "1  id17569  It never once occurred to me that the fumbling...    HPL\n",
       "2  id11008  In his left hand was a gold snuff box, from wh...    EAP\n",
       "3  id27763  How lovely is spring As we looked from Windsor...    MWS\n",
       "4  id12958  Finding nothing else, not even gold, the Super...    HPL"
      ]
     },
     "execution_count": 2,
     "metadata": {},
     "output_type": "execute_result"
    }
   ],
   "source": [
    "df=pd.read_csv(\"train_multi.csv\")\n",
    "df.dropna(inplace=True)\n",
    "df.head()"
   ]
  },
  {
   "cell_type": "code",
   "execution_count": 3,
   "metadata": {
    "scrolled": true
   },
   "outputs": [
    {
     "data": {
      "text/plain": [
       "EAP    7900\n",
       "MWS    6044\n",
       "HPL    5635\n",
       "Name: author, dtype: int64"
      ]
     },
     "execution_count": 3,
     "metadata": {},
     "output_type": "execute_result"
    }
   ],
   "source": [
    "## No of unique labels with their distribution\n",
    "df['author'].value_counts()"
   ]
  },
  {
   "cell_type": "markdown",
   "metadata": {},
   "source": [
    "> Dataset is almost Balanced with 3 classes"
   ]
  },
  {
   "cell_type": "code",
   "execution_count": 4,
   "metadata": {
    "scrolled": true
   },
   "outputs": [
    {
     "name": "stderr",
     "output_type": "stream",
     "text": [
      "/home/azure/.pyenv/versions/mlflow_env/lib/python3.8/site-packages/seaborn/_decorators.py:36: FutureWarning: Pass the following variable as a keyword arg: x. From version 0.12, the only valid positional argument will be `data`, and passing other arguments without an explicit keyword will result in an error or misinterpretation.\n",
      "  warnings.warn(\n"
     ]
    },
    {
     "data": {
      "text/plain": [
       "<AxesSubplot:xlabel='author', ylabel='count'>"
      ]
     },
     "execution_count": 4,
     "metadata": {},
     "output_type": "execute_result"
    },
    {
     "data": {
      "image/png": "[encoded data removed]",
      "text/plain": [
       "<Figure size 360x360 with 1 Axes>"
      ]
     },
     "metadata": {},
     "output_type": "display_data"
    }
   ],
   "source": [
    "sns.set(rc={'figure.figsize':(5,5)})\n",
    "sns.countplot(df['author'])"
   ]
  },
  {
   "cell_type": "markdown",
   "metadata": {},
   "source": [
    "### Text Cleaning"
   ]
  },
  {
   "cell_type": "code",
   "execution_count": 5,
   "metadata": {},
   "outputs": [],
   "source": [
    "from bs4 import BeautifulSoup\n",
    "import re\n",
    "def sanitize_text(document):\n",
    "    if document == None:\n",
    "        document = \"\"\n",
    "    review_text = BeautifulSoup(document, 'html5lib').get_text()\n",
    "\n",
    "    review_text = re.sub(\"[^a-zA-Z]\", \" \", review_text)\n",
    "    review_text = re.sub(r'([a-z](?=[A-Z])|[A-Z](?=[A-Z][a-z]))', r'\\1 ', review_text)\n",
    "\n",
    "#     review_text = review_text.lower()\n",
    "    review_text_list = review_text.split(\" \")\n",
    "    review_text_list = [x.strip() for x in review_text_list]\n",
    "    review_text = \" \".join(review_text_list)\n",
    "\n",
    "    document = re.sub(' +', ' ', review_text).strip()\n",
    "    return document\n",
    "df['clean_text']=df['text'].apply(lambda x:sanitize_text(x))"
   ]
  },
  {
   "cell_type": "code",
   "execution_count": 6,
   "metadata": {
    "scrolled": true
   },
   "outputs": [
    {
     "data": {
      "text/plain": [
       "{'EAP': 0, 'HPL': 1, 'MWS': 2}"
      ]
     },
     "execution_count": 6,
     "metadata": {},
     "output_type": "execute_result"
    }
   ],
   "source": [
    "possible_labels = df.author.unique()\n",
    "\n",
    "label_dict = {}\n",
    "for index, possible_label in enumerate(possible_labels):\n",
    "    label_dict[possible_label] = index\n",
    "label_dict"
   ]
  },
  {
   "cell_type": "code",
   "execution_count": 7,
   "metadata": {},
   "outputs": [],
   "source": [
    "df['label'] = df.author.replace(label_dict)"
   ]
  },
  {
   "cell_type": "markdown",
   "metadata": {},
   "source": [
    "### For Encoding\n",
    "\n",
    "> We use 'stsb-roberta-large' from Sentence Transformer Model"
   ]
  },
  {
   "cell_type": "code",
   "execution_count": 8,
   "metadata": {
    "scrolled": true
   },
   "outputs": [
    {
     "name": "stderr",
     "output_type": "stream",
     "text": [
      "2022-08-04 06:41:08.951981: W tensorflow/stream_executor/platform/default/dso_loader.cc:64] Could not load dynamic library 'libcudart.so.11.0'; dlerror: libcudart.so.11.0: cannot open shared object file: No such file or directory; LD_LIBRARY_PATH: /usr/local/lib:\n",
      "2022-08-04 06:41:08.952027: I tensorflow/stream_executor/cuda/cudart_stub.cc:29] Ignore above cudart dlerror if you do not have a GPU set up on your machine.\n"
     ]
    }
   ],
   "source": [
    "from sentence_transformers import SentenceTransformer\n",
    "model = SentenceTransformer('stsb-roberta-large')"
   ]
  },
  {
   "cell_type": "code",
   "execution_count": 9,
   "metadata": {},
   "outputs": [],
   "source": [
    "embed = model.encode(df['clean_text'].tolist(),convert_to_tensor=False, convert_to_numpy=True,normalize_embeddings=True)"
   ]
  },
  {
   "cell_type": "code",
   "execution_count": 10,
   "metadata": {},
   "outputs": [
    {
     "data": {
      "text/plain": [
       "(19579, 1024)"
      ]
     },
     "execution_count": 10,
     "metadata": {},
     "output_type": "execute_result"
    }
   ],
   "source": [
    "embed.shape"
   ]
  },
  {
   "cell_type": "code",
   "execution_count": 11,
   "metadata": {},
   "outputs": [],
   "source": [
    "x_train, x_test, y_train, y_test = train_test_split(embed, df['label'], test_size = .25, random_state = 18,stratify=df.label.values)"
   ]
  },
  {
   "cell_type": "code",
   "execution_count": 12,
   "metadata": {},
   "outputs": [
    {
     "data": {
      "text/plain": [
       "((14684, 1024), (4895, 1024))"
      ]
     },
     "execution_count": 12,
     "metadata": {},
     "output_type": "execute_result"
    }
   ],
   "source": [
    "x_train.shape,x_test.shape"
   ]
  },
  {
   "cell_type": "code",
   "execution_count": 13,
   "metadata": {},
   "outputs": [
    {
     "name": "stderr",
     "output_type": "stream",
     "text": [
      "/home/azure/.pyenv/versions/mlflow_env/lib/python3.8/site-packages/seaborn/_decorators.py:36: FutureWarning: Pass the following variables as keyword args: x, y. From version 0.12, the only valid positional argument will be `data`, and passing other arguments without an explicit keyword will result in an error or misinterpretation.\n",
      "  warnings.warn(\n"
     ]
    },
    {
     "data": {
      "image/png": "[encoded data removed]",
      "text/plain": [
       "<Figure size 360x360 with 1 Axes>"
      ]
     },
     "metadata": {},
     "output_type": "display_data"
    }
   ],
   "source": [
    "# plot the train features\n",
    "from sklearn.decomposition import PCA\n",
    "pca = PCA(n_components=2).fit(x_train)\n",
    "data2D = pca.transform(x_train)\n",
    "cmap = sns.cubehelix_palette(dark=.3, light=.8, as_cmap=True)\n",
    "ax = sns.scatterplot(data2D[:,0], data2D[:,1],\n",
    "hue=y_train.tolist(),size=y_train.tolist(),palette=\"husl\")"
   ]
  },
  {
   "cell_type": "markdown",
   "metadata": {},
   "source": [
    "### Random Forest"
   ]
  },
  {
   "cell_type": "code",
   "execution_count": 14,
   "metadata": {},
   "outputs": [],
   "source": [
    "clf = RandomForestClassifier(n_estimators = 500, max_depth = 4, max_features = 3, bootstrap = True, random_state = 18)\n",
    "clf.fit(x_train, y_train)\n",
    "y_pred=clf.predict(x_test)\n",
    "y_true=y_test.to_numpy()"
   ]
  },
  {
   "cell_type": "code",
   "execution_count": 16,
   "metadata": {
    "scrolled": true
   },
   "outputs": [
    {
     "name": "stdout",
     "output_type": "stream",
     "text": [
      "              precision    recall  f1-score   support\n",
      "\n",
      "         EAP       0.43      0.97      0.60      1975\n",
      "         HPL       0.91      0.04      0.08      1409\n",
      "         MWS       0.81      0.19      0.31      1511\n",
      "\n",
      "    accuracy                           0.46      4895\n",
      "   macro avg       0.72      0.40      0.33      4895\n",
      "weighted avg       0.68      0.46      0.36      4895\n",
      "\n"
     ]
    }
   ],
   "source": [
    "print(classification_report(\n",
    "    y_true,\n",
    "    y_pred,\n",
    "    output_dict=False,\n",
    "    target_names= df['author'].unique()\n",
    "))"
   ]
  },
  {
   "cell_type": "markdown",
   "metadata": {},
   "source": [
    "### HyperParameter Tuning"
   ]
  },
  {
   "cell_type": "code",
   "execution_count": 17,
   "metadata": {},
   "outputs": [],
   "source": [
    "## Fine tune RF Model\n",
    "from hyperopt import fmin, tpe, hp, anneal, Trials,space_eval\n",
    "from sklearn.model_selection import KFold,TimeSeriesSplit,StratifiedKFold\n",
    "import numpy as np\n",
    "from sklearn.metrics import make_scorer\n",
    "from sklearn.model_selection import cross_val_score\n",
    "import gc\n",
    "import time\n"
   ]
  },
  {
   "cell_type": "code",
   "execution_count": 18,
   "metadata": {
    "scrolled": true
   },
   "outputs": [
    {
     "name": "stdout",
     "output_type": "stream",
     "text": [
      "                                                      \n",
      "############## New Run ################\n",
      "params = {'n_estimators': 281, 'criterion': 'entropy', 'max_features': 'log2', 'min_samples_split': 11, 'max_depth': 12, 'min_samples_leaf': 20}\n",
      "  0%|          | 0/27 [00:00<?, ?trial/s, best loss=?]"
     ]
    },
    {
     "name": "stderr",
     "output_type": "stream",
     "text": [
      "[Parallel(n_jobs=-1)]: Using backend ThreadingBackend with 16 concurrent workers.\n",
      "\n",
      "[Parallel(n_jobs=-1)]: Done  18 tasks      | elapsed:    0.1s\n",
      "\n",
      "[Parallel(n_jobs=-1)]: Done 168 tasks      | elapsed:    0.5s\n",
      "\n"
     ]
    },
    {
     "name": "stdout",
     "output_type": "stream",
     "text": [
      "1 CV - score: 0.5124                                  \n",
      "  0%|          | 0/27 [00:01<?, ?trial/s, best loss=?]"
     ]
    },
    {
     "name": "stderr",
     "output_type": "stream",
     "text": [
      "[Parallel(n_jobs=-1)]: Done 281 out of 281 | elapsed:    0.9s finished\n",
      "\n",
      "[Parallel(n_jobs=16)]: Using backend ThreadingBackend with 16 concurrent workers.\n",
      "\n",
      "[Parallel(n_jobs=16)]: Done  18 tasks      | elapsed:    0.0s\n",
      "\n",
      "[Parallel(n_jobs=16)]: Done 168 tasks      | elapsed:    0.1s\n",
      "\n",
      "[Parallel(n_jobs=16)]: Done 281 out of 281 | elapsed:    0.1s finished\n",
      "\n",
      "[Parallel(n_jobs=-1)]: Using backend ThreadingBackend with 16 concurrent workers.\n",
      "\n",
      "[Parallel(n_jobs=-1)]: Done  18 tasks      | elapsed:    0.2s\n",
      "\n",
      "[Parallel(n_jobs=-1)]: Done 168 tasks      | elapsed:    0.9s\n",
      "\n"
     ]
    },
    {
     "name": "stdout",
     "output_type": "stream",
     "text": [
      "2 CV - score: 0.5783                                  \n",
      "  0%|          | 0/27 [00:02<?, ?trial/s, best loss=?]"
     ]
    },
    {
     "name": "stderr",
     "output_type": "stream",
     "text": [
      "[Parallel(n_jobs=-1)]: Done 281 out of 281 | elapsed:    1.4s finished\n",
      "\n",
      "[Parallel(n_jobs=16)]: Using backend ThreadingBackend with 16 concurrent workers.\n",
      "\n",
      "[Parallel(n_jobs=16)]: Done  18 tasks      | elapsed:    0.0s\n",
      "\n",
      "[Parallel(n_jobs=16)]: Done 168 tasks      | elapsed:    0.1s\n",
      "\n",
      "[Parallel(n_jobs=16)]: Done 281 out of 281 | elapsed:    0.1s finished\n",
      "\n",
      "[Parallel(n_jobs=-1)]: Using backend ThreadingBackend with 16 concurrent workers.\n",
      "\n",
      "[Parallel(n_jobs=-1)]: Done  18 tasks      | elapsed:    0.2s\n",
      "\n",
      "[Parallel(n_jobs=-1)]: Done 168 tasks      | elapsed:    1.4s\n",
      "\n"
     ]
    },
    {
     "name": "stdout",
     "output_type": "stream",
     "text": [
      "3 CV - score: 0.5574                                  \n",
      "  0%|          | 0/27 [00:05<?, ?trial/s, best loss=?]"
     ]
    },
    {
     "name": "stderr",
     "output_type": "stream",
     "text": [
      "[Parallel(n_jobs=-1)]: Done 281 out of 281 | elapsed:    2.2s finished\n",
      "\n",
      "[Parallel(n_jobs=16)]: Using backend ThreadingBackend with 16 concurrent workers.\n",
      "\n",
      "[Parallel(n_jobs=16)]: Done  18 tasks      | elapsed:    0.0s\n",
      "\n",
      "[Parallel(n_jobs=16)]: Done 168 tasks      | elapsed:    0.1s\n",
      "\n",
      "[Parallel(n_jobs=16)]: Done 281 out of 281 | elapsed:    0.1s finished\n",
      "\n",
      "[Parallel(n_jobs=-1)]: Using backend ThreadingBackend with 16 concurrent workers.\n",
      "\n",
      "[Parallel(n_jobs=-1)]: Done  18 tasks      | elapsed:    0.4s\n",
      "\n",
      "[Parallel(n_jobs=-1)]: Done 168 tasks      | elapsed:    1.9s\n",
      "\n"
     ]
    },
    {
     "name": "stdout",
     "output_type": "stream",
     "text": [
      "4 CV - score: 0.5824                                  \n",
      "  0%|          | 0/27 [00:08<?, ?trial/s, best loss=?]"
     ]
    },
    {
     "name": "stderr",
     "output_type": "stream",
     "text": [
      "[Parallel(n_jobs=-1)]: Done 281 out of 281 | elapsed:    3.1s finished\n",
      "\n",
      "[Parallel(n_jobs=16)]: Using backend ThreadingBackend with 16 concurrent workers.\n",
      "\n",
      "[Parallel(n_jobs=16)]: Done  18 tasks      | elapsed:    0.0s\n",
      "\n",
      "[Parallel(n_jobs=16)]: Done 168 tasks      | elapsed:    0.1s\n",
      "\n",
      "[Parallel(n_jobs=16)]: Done 281 out of 281 | elapsed:    0.1s finished\n",
      "\n",
      "[Parallel(n_jobs=-1)]: Using backend ThreadingBackend with 16 concurrent workers.\n",
      "\n",
      "[Parallel(n_jobs=-1)]: Done  18 tasks      | elapsed:    0.4s\n",
      "\n",
      "[Parallel(n_jobs=-1)]: Done 168 tasks      | elapsed:    2.4s\n",
      "\n"
     ]
    },
    {
     "name": "stdout",
     "output_type": "stream",
     "text": [
      "5 CV - score: 0.5887                                  \n",
      "  0%|          | 0/27 [00:12<?, ?trial/s, best loss=?]"
     ]
    },
    {
     "name": "stderr",
     "output_type": "stream",
     "text": [
      "[Parallel(n_jobs=-1)]: Done 281 out of 281 | elapsed:    4.0s finished\n",
      "\n",
      "[Parallel(n_jobs=16)]: Using backend ThreadingBackend with 16 concurrent workers.\n",
      "\n",
      "[Parallel(n_jobs=16)]: Done  18 tasks      | elapsed:    0.0s\n",
      "\n",
      "[Parallel(n_jobs=16)]: Done 168 tasks      | elapsed:    0.1s\n",
      "\n",
      "[Parallel(n_jobs=16)]: Done 281 out of 281 | elapsed:    0.1s finished\n",
      "\n",
      "[Parallel(n_jobs=-1)]: Using backend ThreadingBackend with 16 concurrent workers.\n",
      "\n",
      "[Parallel(n_jobs=-1)]: Done  18 tasks      | elapsed:    0.5s\n",
      "\n",
      "[Parallel(n_jobs=-1)]: Done 168 tasks      | elapsed:    3.0s\n",
      "\n"
     ]
    },
    {
     "name": "stdout",
     "output_type": "stream",
     "text": [
      "6 CV - score: 0.6076                                  \n",
      "  0%|          | 0/27 [00:18<?, ?trial/s, best loss=?]"
     ]
    },
    {
     "name": "stderr",
     "output_type": "stream",
     "text": [
      "[Parallel(n_jobs=-1)]: Done 281 out of 281 | elapsed:    4.9s finished\n",
      "\n",
      "[Parallel(n_jobs=16)]: Using backend ThreadingBackend with 16 concurrent workers.\n",
      "\n",
      "[Parallel(n_jobs=16)]: Done  18 tasks      | elapsed:    0.0s\n",
      "\n",
      "[Parallel(n_jobs=16)]: Done 168 tasks      | elapsed:    0.1s\n",
      "\n",
      "[Parallel(n_jobs=16)]: Done 281 out of 281 | elapsed:    0.1s finished\n",
      "\n",
      "[Parallel(n_jobs=-1)]: Using backend ThreadingBackend with 16 concurrent workers.\n",
      "\n",
      "[Parallel(n_jobs=-1)]: Done  18 tasks      | elapsed:    0.7s\n",
      "\n",
      "[Parallel(n_jobs=-1)]: Done 168 tasks      | elapsed:    3.7s\n",
      "\n"
     ]
    },
    {
     "name": "stdout",
     "output_type": "stream",
     "text": [
      "7 CV - score: 0.573                                   \n",
      "Total Time Run: 0.4                                   \n",
      "  0%|          | 0/27 [00:24<?, ?trial/s, best loss=?]"
     ]
    },
    {
     "name": "stderr",
     "output_type": "stream",
     "text": [
      "[Parallel(n_jobs=-1)]: Done 281 out of 281 | elapsed:    6.0s finished\n",
      "\n",
      "[Parallel(n_jobs=16)]: Using backend ThreadingBackend with 16 concurrent workers.\n",
      "\n",
      "[Parallel(n_jobs=16)]: Done  18 tasks      | elapsed:    0.0s\n",
      "\n",
      "[Parallel(n_jobs=16)]: Done 168 tasks      | elapsed:    0.1s\n",
      "\n",
      "[Parallel(n_jobs=16)]: Done 281 out of 281 | elapsed:    0.1s finished\n",
      "\n"
     ]
    },
    {
     "name": "stdout",
     "output_type": "stream",
     "text": [
      "Mean F1-Score: 0.5714111093439767                     \n",
      "                                                                                 \n",
      "############## New Run ################\n",
      "params = {'n_estimators': 152, 'criterion': 'entropy', 'max_features': 'log2', 'min_samples_split': 22, 'max_depth': 18, 'min_samples_leaf': 12}\n",
      "  4%|▎         | 1/27 [00:24<10:38, 24.55s/trial, best loss: -0.5714111093439767]"
     ]
    },
    {
     "name": "stderr",
     "output_type": "stream",
     "text": [
      "[Parallel(n_jobs=-1)]: Using backend ThreadingBackend with 16 concurrent workers.\n",
      "\n",
      "[Parallel(n_jobs=-1)]: Done  18 tasks      | elapsed:    0.1s\n",
      "\n"
     ]
    },
    {
     "name": "stdout",
     "output_type": "stream",
     "text": [
      "1 CV - score: 0.5355                                                             \n",
      "  4%|▎         | 1/27 [00:25<10:38, 24.55s/trial, best loss: -0.5714111093439767]"
     ]
    },
    {
     "name": "stderr",
     "output_type": "stream",
     "text": [
      "[Parallel(n_jobs=-1)]: Done 152 out of 152 | elapsed:    0.5s finished\n",
      "\n",
      "[Parallel(n_jobs=16)]: Using backend ThreadingBackend with 16 concurrent workers.\n",
      "\n",
      "[Parallel(n_jobs=16)]: Done  18 tasks      | elapsed:    0.0s\n",
      "\n",
      "[Parallel(n_jobs=16)]: Done 152 out of 152 | elapsed:    0.1s finished\n",
      "\n",
      "[Parallel(n_jobs=-1)]: Using backend ThreadingBackend with 16 concurrent workers.\n",
      "\n",
      "[Parallel(n_jobs=-1)]: Done  18 tasks      | elapsed:    0.2s\n",
      "\n"
     ]
    },
    {
     "name": "stdout",
     "output_type": "stream",
     "text": [
      "2 CV - score: 0.5849                                                             \n",
      "  4%|▎         | 1/27 [00:26<10:38, 24.55s/trial, best loss: -0.5714111093439767]"
     ]
    },
    {
     "name": "stderr",
     "output_type": "stream",
     "text": [
      "[Parallel(n_jobs=-1)]: Done 152 out of 152 | elapsed:    0.9s finished\n",
      "\n",
      "[Parallel(n_jobs=16)]: Using backend ThreadingBackend with 16 concurrent workers.\n",
      "\n",
      "[Parallel(n_jobs=16)]: Done  18 tasks      | elapsed:    0.0s\n",
      "\n",
      "[Parallel(n_jobs=16)]: Done 152 out of 152 | elapsed:    0.1s finished\n",
      "\n",
      "[Parallel(n_jobs=-1)]: Using backend ThreadingBackend with 16 concurrent workers.\n",
      "\n",
      "[Parallel(n_jobs=-1)]: Done  18 tasks      | elapsed:    0.3s\n",
      "\n"
     ]
    },
    {
     "name": "stdout",
     "output_type": "stream",
     "text": [
      "3 CV - score: 0.5696                                                             \n",
      "  4%|▎         | 1/27 [00:27<10:38, 24.55s/trial, best loss: -0.5714111093439767]"
     ]
    },
    {
     "name": "stderr",
     "output_type": "stream",
     "text": [
      "[Parallel(n_jobs=-1)]: Done 152 out of 152 | elapsed:    1.4s finished\n",
      "\n",
      "[Parallel(n_jobs=16)]: Using backend ThreadingBackend with 16 concurrent workers.\n",
      "\n",
      "[Parallel(n_jobs=16)]: Done  18 tasks      | elapsed:    0.0s\n",
      "\n",
      "[Parallel(n_jobs=16)]: Done 152 out of 152 | elapsed:    0.1s finished\n",
      "\n",
      "[Parallel(n_jobs=-1)]: Using backend ThreadingBackend with 16 concurrent workers.\n",
      "\n",
      "[Parallel(n_jobs=-1)]: Done  18 tasks      | elapsed:    0.4s\n",
      "\n"
     ]
    },
    {
     "name": "stdout",
     "output_type": "stream",
     "text": [
      "4 CV - score: 0.5932                                                             \n",
      "  4%|▎         | 1/27 [00:29<10:38, 24.55s/trial, best loss: -0.5714111093439767]"
     ]
    },
    {
     "name": "stderr",
     "output_type": "stream",
     "text": [
      "[Parallel(n_jobs=-1)]: Done 152 out of 152 | elapsed:    1.9s finished\n",
      "\n",
      "[Parallel(n_jobs=16)]: Using backend ThreadingBackend with 16 concurrent workers.\n",
      "\n",
      "[Parallel(n_jobs=16)]: Done  18 tasks      | elapsed:    0.0s\n",
      "\n",
      "[Parallel(n_jobs=16)]: Done 152 out of 152 | elapsed:    0.1s finished\n",
      "\n",
      "[Parallel(n_jobs=-1)]: Using backend ThreadingBackend with 16 concurrent workers.\n",
      "\n",
      "[Parallel(n_jobs=-1)]: Done  18 tasks      | elapsed:    0.5s\n",
      "\n"
     ]
    },
    {
     "name": "stdout",
     "output_type": "stream",
     "text": [
      "5 CV - score: 0.5933                                                             \n",
      "  4%|▎         | 1/27 [00:32<10:38, 24.55s/trial, best loss: -0.5714111093439767]"
     ]
    },
    {
     "name": "stderr",
     "output_type": "stream",
     "text": [
      "[Parallel(n_jobs=-1)]: Done 152 out of 152 | elapsed:    2.5s finished\n",
      "\n",
      "[Parallel(n_jobs=16)]: Using backend ThreadingBackend with 16 concurrent workers.\n",
      "\n",
      "[Parallel(n_jobs=16)]: Done  18 tasks      | elapsed:    0.0s\n",
      "\n",
      "[Parallel(n_jobs=16)]: Done 152 out of 152 | elapsed:    0.1s finished\n",
      "\n",
      "[Parallel(n_jobs=-1)]: Using backend ThreadingBackend with 16 concurrent workers.\n",
      "\n",
      "[Parallel(n_jobs=-1)]: Done  18 tasks      | elapsed:    0.6s\n",
      "\n"
     ]
    },
    {
     "name": "stdout",
     "output_type": "stream",
     "text": [
      "6 CV - score: 0.6108                                                             \n",
      "  4%|▎         | 1/27 [00:36<10:38, 24.55s/trial, best loss: -0.5714111093439767]"
     ]
    },
    {
     "name": "stderr",
     "output_type": "stream",
     "text": [
      "[Parallel(n_jobs=-1)]: Done 152 out of 152 | elapsed:    3.4s finished\n",
      "\n",
      "[Parallel(n_jobs=16)]: Using backend ThreadingBackend with 16 concurrent workers.\n",
      "\n",
      "[Parallel(n_jobs=16)]: Done  18 tasks      | elapsed:    0.0s\n",
      "\n",
      "[Parallel(n_jobs=16)]: Done 152 out of 152 | elapsed:    0.1s finished\n",
      "\n",
      "[Parallel(n_jobs=-1)]: Using backend ThreadingBackend with 16 concurrent workers.\n",
      "\n",
      "[Parallel(n_jobs=-1)]: Done  18 tasks      | elapsed:    0.7s\n",
      "\n"
     ]
    },
    {
     "name": "stdout",
     "output_type": "stream",
     "text": [
      "7 CV - score: 0.5789                                                             \n",
      "Total Time Run: 0.26                                                             \n",
      "  4%|▎         | 1/27 [00:40<10:38, 24.55s/trial, best loss: -0.5714111093439767]"
     ]
    },
    {
     "name": "stderr",
     "output_type": "stream",
     "text": [
      "[Parallel(n_jobs=-1)]: Done 152 out of 152 | elapsed:    3.7s finished\n",
      "\n",
      "[Parallel(n_jobs=16)]: Using backend ThreadingBackend with 16 concurrent workers.\n",
      "\n",
      "[Parallel(n_jobs=16)]: Done  18 tasks      | elapsed:    0.0s\n",
      "\n",
      "[Parallel(n_jobs=16)]: Done 152 out of 152 | elapsed:    0.1s finished\n",
      "\n"
     ]
    },
    {
     "name": "stdout",
     "output_type": "stream",
     "text": [
      "Mean F1-Score: 0.5808968532375118                                                \n",
      "                                                                                 \n",
      "############## New Run ################\n",
      "params = {'n_estimators': 200, 'criterion': 'entropy', 'max_features': 'auto', 'min_samples_split': 20, 'max_depth': 12, 'min_samples_leaf': 7}\n",
      "  7%|▋         | 2/27 [00:40<08:05, 19.40s/trial, best loss: -0.5808968532375118]"
     ]
    },
    {
     "name": "stderr",
     "output_type": "stream",
     "text": [
      "[Parallel(n_jobs=-1)]: Using backend ThreadingBackend with 16 concurrent workers.\n",
      "\n",
      "[Parallel(n_jobs=-1)]: Done  18 tasks      | elapsed:    0.3s\n",
      "\n",
      "[Parallel(n_jobs=-1)]: Done 168 tasks      | elapsed:    1.4s\n",
      "\n"
     ]
    },
    {
     "name": "stdout",
     "output_type": "stream",
     "text": [
      "1 CV - score: 0.5639                                                             \n",
      "  7%|▋         | 2/27 [00:42<08:05, 19.40s/trial, best loss: -0.5808968532375118]"
     ]
    },
    {
     "name": "stderr",
     "output_type": "stream",
     "text": [
      "[Parallel(n_jobs=-1)]: Done 200 out of 200 | elapsed:    1.6s finished\n",
      "\n",
      "[Parallel(n_jobs=16)]: Using backend ThreadingBackend with 16 concurrent workers.\n",
      "\n",
      "[Parallel(n_jobs=16)]: Done  18 tasks      | elapsed:    0.0s\n",
      "\n",
      "[Parallel(n_jobs=16)]: Done 168 tasks      | elapsed:    0.1s\n",
      "\n",
      "[Parallel(n_jobs=16)]: Done 200 out of 200 | elapsed:    0.1s finished\n",
      "\n",
      "[Parallel(n_jobs=-1)]: Using backend ThreadingBackend with 16 concurrent workers.\n",
      "\n",
      "[Parallel(n_jobs=-1)]: Done  18 tasks      | elapsed:    0.5s\n",
      "\n",
      "[Parallel(n_jobs=-1)]: Done 168 tasks      | elapsed:    3.0s\n",
      "\n"
     ]
    },
    {
     "name": "stdout",
     "output_type": "stream",
     "text": [
      "2 CV - score: 0.5935                                                             \n",
      "  7%|▋         | 2/27 [00:45<08:05, 19.40s/trial, best loss: -0.5808968532375118]"
     ]
    },
    {
     "name": "stderr",
     "output_type": "stream",
     "text": [
      "[Parallel(n_jobs=-1)]: Done 200 out of 200 | elapsed:    3.6s finished\n",
      "\n",
      "[Parallel(n_jobs=16)]: Using backend ThreadingBackend with 16 concurrent workers.\n",
      "\n",
      "[Parallel(n_jobs=16)]: Done  18 tasks      | elapsed:    0.0s\n",
      "\n",
      "[Parallel(n_jobs=16)]: Done 168 tasks      | elapsed:    0.1s\n",
      "\n",
      "[Parallel(n_jobs=16)]: Done 200 out of 200 | elapsed:    0.1s finished\n",
      "\n",
      "[Parallel(n_jobs=-1)]: Using backend ThreadingBackend with 16 concurrent workers.\n",
      "\n",
      "[Parallel(n_jobs=-1)]: Done  18 tasks      | elapsed:    0.9s\n",
      "\n",
      "[Parallel(n_jobs=-1)]: Done 168 tasks      | elapsed:    4.9s\n",
      "\n"
     ]
    },
    {
     "name": "stdout",
     "output_type": "stream",
     "text": [
      "3 CV - score: 0.5766                                                             \n",
      "  7%|▋         | 2/27 [00:51<08:05, 19.40s/trial, best loss: -0.5808968532375118]"
     ]
    },
    {
     "name": "stderr",
     "output_type": "stream",
     "text": [
      "[Parallel(n_jobs=-1)]: Done 200 out of 200 | elapsed:    5.7s finished\n",
      "\n",
      "[Parallel(n_jobs=16)]: Using backend ThreadingBackend with 16 concurrent workers.\n",
      "\n",
      "[Parallel(n_jobs=16)]: Done  18 tasks      | elapsed:    0.0s\n",
      "\n",
      "[Parallel(n_jobs=16)]: Done 168 tasks      | elapsed:    0.1s\n",
      "\n",
      "[Parallel(n_jobs=16)]: Done 200 out of 200 | elapsed:    0.1s finished\n",
      "\n",
      "[Parallel(n_jobs=-1)]: Using backend ThreadingBackend with 16 concurrent workers.\n",
      "\n",
      "[Parallel(n_jobs=-1)]: Done  18 tasks      | elapsed:    1.2s\n",
      "\n",
      "[Parallel(n_jobs=-1)]: Done 168 tasks      | elapsed:    6.8s\n",
      "\n"
     ]
    },
    {
     "name": "stdout",
     "output_type": "stream",
     "text": [
      "4 CV - score: 0.59                                                               \n",
      "  7%|▋         | 2/27 [01:00<08:05, 19.40s/trial, best loss: -0.5808968532375118]"
     ]
    },
    {
     "name": "stderr",
     "output_type": "stream",
     "text": [
      "[Parallel(n_jobs=-1)]: Done 200 out of 200 | elapsed:    8.0s finished\n",
      "\n",
      "[Parallel(n_jobs=16)]: Using backend ThreadingBackend with 16 concurrent workers.\n",
      "\n",
      "[Parallel(n_jobs=16)]: Done  18 tasks      | elapsed:    0.0s\n",
      "\n",
      "[Parallel(n_jobs=16)]: Done 168 tasks      | elapsed:    0.1s\n",
      "\n",
      "[Parallel(n_jobs=16)]: Done 200 out of 200 | elapsed:    0.1s finished\n",
      "\n",
      "[Parallel(n_jobs=-1)]: Using backend ThreadingBackend with 16 concurrent workers.\n",
      "\n",
      "[Parallel(n_jobs=-1)]: Done  18 tasks      | elapsed:    1.6s\n",
      "\n",
      "[Parallel(n_jobs=-1)]: Done 168 tasks      | elapsed:    9.0s\n",
      "\n"
     ]
    },
    {
     "name": "stdout",
     "output_type": "stream",
     "text": [
      "5 CV - score: 0.6091                                                             \n",
      "  7%|▋         | 2/27 [01:10<08:05, 19.40s/trial, best loss: -0.5808968532375118]"
     ]
    },
    {
     "name": "stderr",
     "output_type": "stream",
     "text": [
      "[Parallel(n_jobs=-1)]: Done 200 out of 200 | elapsed:   10.6s finished\n",
      "\n",
      "[Parallel(n_jobs=16)]: Using backend ThreadingBackend with 16 concurrent workers.\n",
      "\n",
      "[Parallel(n_jobs=16)]: Done  18 tasks      | elapsed:    0.0s\n",
      "\n",
      "[Parallel(n_jobs=16)]: Done 168 tasks      | elapsed:    0.1s\n",
      "\n",
      "[Parallel(n_jobs=16)]: Done 200 out of 200 | elapsed:    0.1s finished\n",
      "\n",
      "[Parallel(n_jobs=-1)]: Using backend ThreadingBackend with 16 concurrent workers.\n",
      "\n",
      "[Parallel(n_jobs=-1)]: Done  18 tasks      | elapsed:    2.0s\n",
      "\n",
      "[Parallel(n_jobs=-1)]: Done 168 tasks      | elapsed:   10.9s\n",
      "\n"
     ]
    },
    {
     "name": "stdout",
     "output_type": "stream",
     "text": [
      "6 CV - score: 0.6326                                                             \n",
      "  7%|▋         | 2/27 [01:23<08:05, 19.40s/trial, best loss: -0.5808968532375118]"
     ]
    },
    {
     "name": "stderr",
     "output_type": "stream",
     "text": [
      "[Parallel(n_jobs=-1)]: Done 200 out of 200 | elapsed:   12.8s finished\n",
      "\n",
      "[Parallel(n_jobs=16)]: Using backend ThreadingBackend with 16 concurrent workers.\n",
      "\n",
      "[Parallel(n_jobs=16)]: Done  18 tasks      | elapsed:    0.0s\n",
      "\n",
      "[Parallel(n_jobs=16)]: Done 168 tasks      | elapsed:    0.1s\n",
      "\n",
      "[Parallel(n_jobs=16)]: Done 200 out of 200 | elapsed:    0.1s finished\n",
      "\n",
      "[Parallel(n_jobs=-1)]: Using backend ThreadingBackend with 16 concurrent workers.\n",
      "\n",
      "[Parallel(n_jobs=-1)]: Done  18 tasks      | elapsed:    2.4s\n",
      "\n",
      "[Parallel(n_jobs=-1)]: Done 168 tasks      | elapsed:   13.0s\n",
      "\n"
     ]
    },
    {
     "name": "stdout",
     "output_type": "stream",
     "text": [
      "7 CV - score: 0.5862                                                             \n",
      "Total Time Run: 0.98                                                             \n",
      "  7%|▋         | 2/27 [01:39<08:05, 19.40s/trial, best loss: -0.5808968532375118]"
     ]
    },
    {
     "name": "stderr",
     "output_type": "stream",
     "text": [
      "[Parallel(n_jobs=-1)]: Done 200 out of 200 | elapsed:   15.2s finished\n",
      "\n",
      "[Parallel(n_jobs=16)]: Using backend ThreadingBackend with 16 concurrent workers.\n",
      "\n",
      "[Parallel(n_jobs=16)]: Done  18 tasks      | elapsed:    0.0s\n",
      "\n",
      "[Parallel(n_jobs=16)]: Done 168 tasks      | elapsed:    0.1s\n",
      "\n",
      "[Parallel(n_jobs=16)]: Done 200 out of 200 | elapsed:    0.1s finished\n",
      "\n"
     ]
    },
    {
     "name": "stdout",
     "output_type": "stream",
     "text": [
      "Mean F1-Score: 0.5931444840270462                                                \n",
      "                                                                                 \n",
      "############## New Run ################\n",
      "params = {'n_estimators': 233, 'criterion': 'entropy', 'max_features': 'auto', 'min_samples_split': 21, 'max_depth': 23, 'min_samples_leaf': 5}\n",
      " 11%|█         | 3/27 [01:39<15:02, 37.61s/trial, best loss: -0.5931444840270462]"
     ]
    },
    {
     "name": "stderr",
     "output_type": "stream",
     "text": [
      "[Parallel(n_jobs=-1)]: Using backend ThreadingBackend with 16 concurrent workers.\n",
      "\n",
      "[Parallel(n_jobs=-1)]: Done  18 tasks      | elapsed:    0.3s\n",
      "\n",
      "[Parallel(n_jobs=-1)]: Done 168 tasks      | elapsed:    1.4s\n",
      "\n"
     ]
    },
    {
     "name": "stdout",
     "output_type": "stream",
     "text": [
      "1 CV - score: 0.5692                                                             \n",
      " 11%|█         | 3/27 [01:41<15:02, 37.61s/trial, best loss: -0.5931444840270462]"
     ]
    },
    {
     "name": "stderr",
     "output_type": "stream",
     "text": [
      "[Parallel(n_jobs=-1)]: Done 233 out of 233 | elapsed:    1.9s finished\n",
      "\n",
      "[Parallel(n_jobs=16)]: Using backend ThreadingBackend with 16 concurrent workers.\n",
      "\n",
      "[Parallel(n_jobs=16)]: Done  18 tasks      | elapsed:    0.0s\n",
      "\n",
      "[Parallel(n_jobs=16)]: Done 168 tasks      | elapsed:    0.1s\n",
      "\n",
      "[Parallel(n_jobs=16)]: Done 233 out of 233 | elapsed:    0.1s finished\n",
      "\n",
      "[Parallel(n_jobs=-1)]: Using backend ThreadingBackend with 16 concurrent workers.\n",
      "\n",
      "[Parallel(n_jobs=-1)]: Done  18 tasks      | elapsed:    0.6s\n",
      "\n",
      "[Parallel(n_jobs=-1)]: Done 168 tasks      | elapsed:    3.2s\n",
      "\n"
     ]
    },
    {
     "name": "stdout",
     "output_type": "stream",
     "text": [
      "2 CV - score: 0.5875                                                             \n",
      " 11%|█         | 3/27 [01:46<15:02, 37.61s/trial, best loss: -0.5931444840270462]"
     ]
    },
    {
     "name": "stderr",
     "output_type": "stream",
     "text": [
      "[Parallel(n_jobs=-1)]: Done 233 out of 233 | elapsed:    4.3s finished\n",
      "\n",
      "[Parallel(n_jobs=16)]: Using backend ThreadingBackend with 16 concurrent workers.\n",
      "\n",
      "[Parallel(n_jobs=16)]: Done  18 tasks      | elapsed:    0.0s\n",
      "\n",
      "[Parallel(n_jobs=16)]: Done 168 tasks      | elapsed:    0.1s\n",
      "\n",
      "[Parallel(n_jobs=16)]: Done 233 out of 233 | elapsed:    0.1s finished\n",
      "\n",
      "[Parallel(n_jobs=-1)]: Using backend ThreadingBackend with 16 concurrent workers.\n",
      "\n",
      "[Parallel(n_jobs=-1)]: Done  18 tasks      | elapsed:    0.9s\n",
      "\n",
      "[Parallel(n_jobs=-1)]: Done 168 tasks      | elapsed:    5.2s\n",
      "\n"
     ]
    },
    {
     "name": "stdout",
     "output_type": "stream",
     "text": [
      "3 CV - score: 0.5781                                                             \n",
      " 11%|█         | 3/27 [01:53<15:02, 37.61s/trial, best loss: -0.5931444840270462]"
     ]
    },
    {
     "name": "stderr",
     "output_type": "stream",
     "text": [
      "[Parallel(n_jobs=-1)]: Done 233 out of 233 | elapsed:    6.9s finished\n",
      "\n",
      "[Parallel(n_jobs=16)]: Using backend ThreadingBackend with 16 concurrent workers.\n",
      "\n",
      "[Parallel(n_jobs=16)]: Done  18 tasks      | elapsed:    0.0s\n",
      "\n",
      "[Parallel(n_jobs=16)]: Done 168 tasks      | elapsed:    0.1s\n",
      "\n",
      "[Parallel(n_jobs=16)]: Done 233 out of 233 | elapsed:    0.1s finished\n",
      "\n",
      "[Parallel(n_jobs=-1)]: Using backend ThreadingBackend with 16 concurrent workers.\n",
      "\n",
      "[Parallel(n_jobs=-1)]: Done  18 tasks      | elapsed:    1.3s\n",
      "\n",
      "[Parallel(n_jobs=-1)]: Done 168 tasks      | elapsed:    7.3s\n",
      "\n"
     ]
    },
    {
     "name": "stdout",
     "output_type": "stream",
     "text": [
      "4 CV - score: 0.5879                                                             \n",
      " 11%|█         | 3/27 [02:03<15:02, 37.61s/trial, best loss: -0.5931444840270462]"
     ]
    },
    {
     "name": "stderr",
     "output_type": "stream",
     "text": [
      "[Parallel(n_jobs=-1)]: Done 233 out of 233 | elapsed:    9.8s finished\n",
      "\n",
      "[Parallel(n_jobs=16)]: Using backend ThreadingBackend with 16 concurrent workers.\n",
      "\n",
      "[Parallel(n_jobs=16)]: Done  18 tasks      | elapsed:    0.0s\n",
      "\n",
      "[Parallel(n_jobs=16)]: Done 168 tasks      | elapsed:    0.1s\n",
      "\n",
      "[Parallel(n_jobs=16)]: Done 233 out of 233 | elapsed:    0.1s finished\n",
      "\n",
      "[Parallel(n_jobs=-1)]: Using backend ThreadingBackend with 16 concurrent workers.\n",
      "\n",
      "[Parallel(n_jobs=-1)]: Done  18 tasks      | elapsed:    1.7s\n",
      "\n",
      "[Parallel(n_jobs=-1)]: Done 168 tasks      | elapsed:    9.6s\n",
      "\n"
     ]
    },
    {
     "name": "stdout",
     "output_type": "stream",
     "text": [
      "5 CV - score: 0.6038                                                             \n",
      " 11%|█         | 3/27 [02:16<15:02, 37.61s/trial, best loss: -0.5931444840270462]"
     ]
    },
    {
     "name": "stderr",
     "output_type": "stream",
     "text": [
      "[Parallel(n_jobs=-1)]: Done 233 out of 233 | elapsed:   13.2s finished\n",
      "\n",
      "[Parallel(n_jobs=16)]: Using backend ThreadingBackend with 16 concurrent workers.\n",
      "\n",
      "[Parallel(n_jobs=16)]: Done  18 tasks      | elapsed:    0.0s\n",
      "\n",
      "[Parallel(n_jobs=16)]: Done 168 tasks      | elapsed:    0.1s\n",
      "\n",
      "[Parallel(n_jobs=16)]: Done 233 out of 233 | elapsed:    0.1s finished\n",
      "\n",
      "[Parallel(n_jobs=-1)]: Using backend ThreadingBackend with 16 concurrent workers.\n",
      "\n",
      "[Parallel(n_jobs=-1)]: Done  18 tasks      | elapsed:    2.1s\n",
      "\n",
      "[Parallel(n_jobs=-1)]: Done 168 tasks      | elapsed:   12.2s\n",
      "\n"
     ]
    },
    {
     "name": "stdout",
     "output_type": "stream",
     "text": [
      "6 CV - score: 0.6387                                                             \n",
      " 11%|█         | 3/27 [02:33<15:02, 37.61s/trial, best loss: -0.5931444840270462]"
     ]
    },
    {
     "name": "stderr",
     "output_type": "stream",
     "text": [
      "[Parallel(n_jobs=-1)]: Done 233 out of 233 | elapsed:   16.5s finished\n",
      "\n",
      "[Parallel(n_jobs=16)]: Using backend ThreadingBackend with 16 concurrent workers.\n",
      "\n",
      "[Parallel(n_jobs=16)]: Done  18 tasks      | elapsed:    0.0s\n",
      "\n",
      "[Parallel(n_jobs=16)]: Done 168 tasks      | elapsed:    0.1s\n",
      "\n",
      "[Parallel(n_jobs=16)]: Done 233 out of 233 | elapsed:    0.1s finished\n",
      "\n",
      "[Parallel(n_jobs=-1)]: Using backend ThreadingBackend with 16 concurrent workers.\n",
      "\n",
      "[Parallel(n_jobs=-1)]: Done  18 tasks      | elapsed:    2.6s\n",
      "\n",
      "[Parallel(n_jobs=-1)]: Done 168 tasks      | elapsed:   15.1s\n",
      "\n"
     ]
    },
    {
     "name": "stdout",
     "output_type": "stream",
     "text": [
      "7 CV - score: 0.5999                                                             \n",
      "Total Time Run: 1.24                                                             \n",
      " 11%|█         | 3/27 [02:54<15:02, 37.61s/trial, best loss: -0.5931444840270462]"
     ]
    },
    {
     "name": "stderr",
     "output_type": "stream",
     "text": [
      "[Parallel(n_jobs=-1)]: Done 233 out of 233 | elapsed:   20.2s finished\n",
      "\n",
      "[Parallel(n_jobs=16)]: Using backend ThreadingBackend with 16 concurrent workers.\n",
      "\n",
      "[Parallel(n_jobs=16)]: Done  18 tasks      | elapsed:    0.0s\n",
      "\n",
      "[Parallel(n_jobs=16)]: Done 168 tasks      | elapsed:    0.1s\n",
      "\n",
      "[Parallel(n_jobs=16)]: Done 233 out of 233 | elapsed:    0.1s finished\n",
      "\n"
     ]
    },
    {
     "name": "stdout",
     "output_type": "stream",
     "text": [
      "Mean F1-Score: 0.5950430374512347                                                \n",
      "                                                                                 \n",
      "############## New Run ################\n",
      "params = {'n_estimators': 189, 'criterion': 'gini', 'max_features': 'log2', 'min_samples_split': 20, 'max_depth': 21, 'min_samples_leaf': 7}\n",
      " 15%|█▍        | 4/27 [02:54<20:02, 52.29s/trial, best loss: -0.5950430374512347]"
     ]
    },
    {
     "name": "stderr",
     "output_type": "stream",
     "text": [
      "[Parallel(n_jobs=-1)]: Using backend ThreadingBackend with 16 concurrent workers.\n",
      "\n",
      "[Parallel(n_jobs=-1)]: Done  18 tasks      | elapsed:    0.1s\n",
      "\n"
     ]
    },
    {
     "name": "stdout",
     "output_type": "stream",
     "text": [
      "1 CV - score: 0.5393                                                             \n",
      " 15%|█▍        | 4/27 [02:55<20:02, 52.29s/trial, best loss: -0.5950430374512347]"
     ]
    },
    {
     "name": "stderr",
     "output_type": "stream",
     "text": [
      "[Parallel(n_jobs=-1)]: Done 189 out of 189 | elapsed:    0.7s finished\n",
      "\n",
      "[Parallel(n_jobs=16)]: Using backend ThreadingBackend with 16 concurrent workers.\n",
      "\n",
      "[Parallel(n_jobs=16)]: Done  18 tasks      | elapsed:    0.0s\n",
      "\n",
      "[Parallel(n_jobs=16)]: Done 189 out of 189 | elapsed:    0.1s finished\n",
      "\n",
      "[Parallel(n_jobs=-1)]: Using backend ThreadingBackend with 16 concurrent workers.\n",
      "\n",
      "[Parallel(n_jobs=-1)]: Done  18 tasks      | elapsed:    0.1s\n",
      "\n"
     ]
    },
    {
     "name": "stdout",
     "output_type": "stream",
     "text": [
      "2 CV - score: 0.5845                                                             \n",
      " 15%|█▍        | 4/27 [02:56<20:02, 52.29s/trial, best loss: -0.5950430374512347]"
     ]
    },
    {
     "name": "stderr",
     "output_type": "stream",
     "text": [
      "[Parallel(n_jobs=-1)]: Done 189 out of 189 | elapsed:    0.8s finished\n",
      "\n",
      "[Parallel(n_jobs=16)]: Using backend ThreadingBackend with 16 concurrent workers.\n",
      "\n",
      "[Parallel(n_jobs=16)]: Done  18 tasks      | elapsed:    0.0s\n",
      "\n",
      "[Parallel(n_jobs=16)]: Done 189 out of 189 | elapsed:    0.1s finished\n",
      "\n",
      "[Parallel(n_jobs=-1)]: Using backend ThreadingBackend with 16 concurrent workers.\n",
      "\n",
      "[Parallel(n_jobs=-1)]: Done  18 tasks      | elapsed:    0.2s\n",
      "\n"
     ]
    },
    {
     "name": "stdout",
     "output_type": "stream",
     "text": [
      "3 CV - score: 0.5662                                                             \n",
      " 15%|█▍        | 4/27 [02:57<20:02, 52.29s/trial, best loss: -0.5950430374512347]"
     ]
    },
    {
     "name": "stderr",
     "output_type": "stream",
     "text": [
      "[Parallel(n_jobs=-1)]: Done 189 out of 189 | elapsed:    1.1s finished\n",
      "\n",
      "[Parallel(n_jobs=16)]: Using backend ThreadingBackend with 16 concurrent workers.\n",
      "\n",
      "[Parallel(n_jobs=16)]: Done  18 tasks      | elapsed:    0.0s\n",
      "\n",
      "[Parallel(n_jobs=16)]: Done 189 out of 189 | elapsed:    0.1s finished\n",
      "\n",
      "[Parallel(n_jobs=-1)]: Using backend ThreadingBackend with 16 concurrent workers.\n",
      "\n",
      "[Parallel(n_jobs=-1)]: Done  18 tasks      | elapsed:    0.3s\n",
      "\n"
     ]
    },
    {
     "name": "stdout",
     "output_type": "stream",
     "text": [
      "4 CV - score: 0.5833                                                             \n",
      " 15%|█▍        | 4/27 [02:59<20:02, 52.29s/trial, best loss: -0.5950430374512347]"
     ]
    },
    {
     "name": "stderr",
     "output_type": "stream",
     "text": [
      "[Parallel(n_jobs=-1)]: Done 189 out of 189 | elapsed:    1.8s finished\n",
      "\n",
      "[Parallel(n_jobs=16)]: Using backend ThreadingBackend with 16 concurrent workers.\n",
      "\n",
      "[Parallel(n_jobs=16)]: Done  18 tasks      | elapsed:    0.0s\n",
      "\n",
      "[Parallel(n_jobs=16)]: Done 189 out of 189 | elapsed:    0.1s finished\n",
      "\n",
      "[Parallel(n_jobs=-1)]: Using backend ThreadingBackend with 16 concurrent workers.\n",
      "\n",
      "[Parallel(n_jobs=-1)]: Done  18 tasks      | elapsed:    0.3s\n",
      "\n"
     ]
    },
    {
     "name": "stdout",
     "output_type": "stream",
     "text": [
      "5 CV - score: 0.5908                                                             \n",
      " 15%|█▍        | 4/27 [03:01<20:02, 52.29s/trial, best loss: -0.5950430374512347]"
     ]
    },
    {
     "name": "stderr",
     "output_type": "stream",
     "text": [
      "[Parallel(n_jobs=-1)]: Done 189 out of 189 | elapsed:    1.9s finished\n",
      "\n",
      "[Parallel(n_jobs=16)]: Using backend ThreadingBackend with 16 concurrent workers.\n",
      "\n",
      "[Parallel(n_jobs=16)]: Done  18 tasks      | elapsed:    0.0s\n",
      "\n",
      "[Parallel(n_jobs=16)]: Done 189 out of 189 | elapsed:    0.1s finished\n",
      "\n",
      "[Parallel(n_jobs=-1)]: Using backend ThreadingBackend with 16 concurrent workers.\n",
      "\n",
      "[Parallel(n_jobs=-1)]: Done  18 tasks      | elapsed:    0.3s\n",
      "\n"
     ]
    },
    {
     "name": "stdout",
     "output_type": "stream",
     "text": [
      "6 CV - score: 0.6214                                                             \n",
      " 15%|█▍        | 4/27 [03:04<20:02, 52.29s/trial, best loss: -0.5950430374512347]"
     ]
    },
    {
     "name": "stderr",
     "output_type": "stream",
     "text": [
      "[Parallel(n_jobs=-1)]: Done 189 out of 189 | elapsed:    1.9s finished\n",
      "\n",
      "[Parallel(n_jobs=16)]: Using backend ThreadingBackend with 16 concurrent workers.\n",
      "\n",
      "[Parallel(n_jobs=16)]: Done  18 tasks      | elapsed:    0.0s\n",
      "\n",
      "[Parallel(n_jobs=16)]: Done 189 out of 189 | elapsed:    0.1s finished\n",
      "\n",
      "[Parallel(n_jobs=-1)]: Using backend ThreadingBackend with 16 concurrent workers.\n",
      "\n",
      "[Parallel(n_jobs=-1)]: Done  18 tasks      | elapsed:    0.4s\n",
      "\n"
     ]
    },
    {
     "name": "stdout",
     "output_type": "stream",
     "text": [
      "7 CV - score: 0.5833                                                             \n",
      "Total Time Run: 0.2                                                              \n",
      " 15%|█▍        | 4/27 [03:06<20:02, 52.29s/trial, best loss: -0.5950430374512347]"
     ]
    },
    {
     "name": "stderr",
     "output_type": "stream",
     "text": [
      "[Parallel(n_jobs=-1)]: Done 189 out of 189 | elapsed:    2.1s finished\n",
      "\n",
      "[Parallel(n_jobs=16)]: Using backend ThreadingBackend with 16 concurrent workers.\n",
      "\n",
      "[Parallel(n_jobs=16)]: Done  18 tasks      | elapsed:    0.0s\n",
      "\n",
      "[Parallel(n_jobs=16)]: Done 189 out of 189 | elapsed:    0.1s finished\n",
      "\n"
     ]
    },
    {
     "name": "stdout",
     "output_type": "stream",
     "text": [
      "Mean F1-Score: 0.5812632154927987                                                \n",
      "                                                                                 \n",
      "############## New Run ################\n",
      "params = {'n_estimators': 189, 'criterion': 'entropy', 'max_features': 'sqrt', 'min_samples_split': 3, 'max_depth': 11, 'min_samples_leaf': 14}\n",
      " 19%|█▊        | 5/27 [03:06<13:52, 37.85s/trial, best loss: -0.5950430374512347]"
     ]
    },
    {
     "name": "stderr",
     "output_type": "stream",
     "text": [
      "[Parallel(n_jobs=-1)]: Using backend ThreadingBackend with 16 concurrent workers.\n",
      "\n",
      "[Parallel(n_jobs=-1)]: Done  18 tasks      | elapsed:    0.3s\n",
      "\n"
     ]
    },
    {
     "name": "stdout",
     "output_type": "stream",
     "text": [
      "1 CV - score: 0.5604                                                             \n",
      " 19%|█▊        | 5/27 [03:09<13:52, 37.85s/trial, best loss: -0.5950430374512347]"
     ]
    },
    {
     "name": "stderr",
     "output_type": "stream",
     "text": [
      "[Parallel(n_jobs=-1)]: Done 189 out of 189 | elapsed:    2.2s finished\n",
      "\n",
      "[Parallel(n_jobs=16)]: Using backend ThreadingBackend with 16 concurrent workers.\n",
      "\n",
      "[Parallel(n_jobs=16)]: Done  18 tasks      | elapsed:    0.0s\n",
      "\n",
      "[Parallel(n_jobs=16)]: Done 189 out of 189 | elapsed:    0.1s finished\n",
      "\n",
      "[Parallel(n_jobs=-1)]: Using backend ThreadingBackend with 16 concurrent workers.\n",
      "\n",
      "[Parallel(n_jobs=-1)]: Done  18 tasks      | elapsed:    0.6s\n",
      "\n"
     ]
    },
    {
     "name": "stdout",
     "output_type": "stream",
     "text": [
      "2 CV - score: 0.5854                                                             \n",
      " 19%|█▊        | 5/27 [03:13<13:52, 37.85s/trial, best loss: -0.5950430374512347]"
     ]
    },
    {
     "name": "stderr",
     "output_type": "stream",
     "text": [
      "[Parallel(n_jobs=-1)]: Done 189 out of 189 | elapsed:    4.5s finished\n",
      "\n",
      "[Parallel(n_jobs=16)]: Using backend ThreadingBackend with 16 concurrent workers.\n",
      "\n",
      "[Parallel(n_jobs=16)]: Done  18 tasks      | elapsed:    0.0s\n",
      "\n",
      "[Parallel(n_jobs=16)]: Done 189 out of 189 | elapsed:    0.1s finished\n",
      "\n",
      "[Parallel(n_jobs=-1)]: Using backend ThreadingBackend with 16 concurrent workers.\n",
      "\n",
      "[Parallel(n_jobs=-1)]: Done  18 tasks      | elapsed:    1.0s\n",
      "\n"
     ]
    },
    {
     "name": "stdout",
     "output_type": "stream",
     "text": [
      "3 CV - score: 0.5826                                                             \n",
      " 19%|█▊        | 5/27 [03:20<13:52, 37.85s/trial, best loss: -0.5950430374512347]"
     ]
    },
    {
     "name": "stderr",
     "output_type": "stream",
     "text": [
      "[Parallel(n_jobs=-1)]: Done 189 out of 189 | elapsed:    6.8s finished\n",
      "\n",
      "[Parallel(n_jobs=16)]: Using backend ThreadingBackend with 16 concurrent workers.\n",
      "\n",
      "[Parallel(n_jobs=16)]: Done  18 tasks      | elapsed:    0.0s\n",
      "\n",
      "[Parallel(n_jobs=16)]: Done 189 out of 189 | elapsed:    0.1s finished\n",
      "\n",
      "[Parallel(n_jobs=-1)]: Using backend ThreadingBackend with 16 concurrent workers.\n",
      "\n",
      "[Parallel(n_jobs=-1)]: Done  18 tasks      | elapsed:    1.5s\n",
      "\n"
     ]
    },
    {
     "name": "stdout",
     "output_type": "stream",
     "text": [
      "4 CV - score: 0.5873                                                             \n",
      " 19%|█▊        | 5/27 [03:29<13:52, 37.85s/trial, best loss: -0.5950430374512347]"
     ]
    },
    {
     "name": "stderr",
     "output_type": "stream",
     "text": [
      "[Parallel(n_jobs=-1)]: Done 189 out of 189 | elapsed:    8.7s finished\n",
      "\n",
      "[Parallel(n_jobs=16)]: Using backend ThreadingBackend with 16 concurrent workers.\n",
      "\n",
      "[Parallel(n_jobs=16)]: Done  18 tasks      | elapsed:    0.0s\n",
      "\n",
      "[Parallel(n_jobs=16)]: Done 189 out of 189 | elapsed:    0.1s finished\n",
      "\n",
      "[Parallel(n_jobs=-1)]: Using backend ThreadingBackend with 16 concurrent workers.\n",
      "\n",
      "[Parallel(n_jobs=-1)]: Done  18 tasks      | elapsed:    2.0s\n",
      "\n"
     ]
    },
    {
     "name": "stdout",
     "output_type": "stream",
     "text": [
      "5 CV - score: 0.6103                                                             \n",
      " 19%|█▊        | 5/27 [03:42<13:52, 37.85s/trial, best loss: -0.5950430374512347]"
     ]
    },
    {
     "name": "stderr",
     "output_type": "stream",
     "text": [
      "[Parallel(n_jobs=-1)]: Done 189 out of 189 | elapsed:   12.9s finished\n",
      "\n",
      "[Parallel(n_jobs=16)]: Using backend ThreadingBackend with 16 concurrent workers.\n",
      "\n",
      "[Parallel(n_jobs=16)]: Done  18 tasks      | elapsed:    0.0s\n",
      "\n",
      "[Parallel(n_jobs=16)]: Done 189 out of 189 | elapsed:    0.1s finished\n",
      "\n",
      "[Parallel(n_jobs=-1)]: Using backend ThreadingBackend with 16 concurrent workers.\n",
      "\n",
      "[Parallel(n_jobs=-1)]: Done  18 tasks      | elapsed:    2.2s\n",
      "\n"
     ]
    },
    {
     "name": "stdout",
     "output_type": "stream",
     "text": [
      "6 CV - score: 0.6216                                                             \n",
      " 19%|█▊        | 5/27 [03:58<13:52, 37.85s/trial, best loss: -0.5950430374512347]"
     ]
    },
    {
     "name": "stderr",
     "output_type": "stream",
     "text": [
      "[Parallel(n_jobs=-1)]: Done 189 out of 189 | elapsed:   15.1s finished\n",
      "\n",
      "[Parallel(n_jobs=16)]: Using backend ThreadingBackend with 16 concurrent workers.\n",
      "\n",
      "[Parallel(n_jobs=16)]: Done  18 tasks      | elapsed:    0.0s\n",
      "\n",
      "[Parallel(n_jobs=16)]: Done 189 out of 189 | elapsed:    0.1s finished\n",
      "\n",
      "[Parallel(n_jobs=-1)]: Using backend ThreadingBackend with 16 concurrent workers.\n",
      "\n",
      "[Parallel(n_jobs=-1)]: Done  18 tasks      | elapsed:    2.9s\n",
      "\n"
     ]
    },
    {
     "name": "stdout",
     "output_type": "stream",
     "text": [
      "7 CV - score: 0.5898                                                             \n",
      "Total Time Run: 1.17                                                             \n",
      " 19%|█▊        | 5/27 [04:17<13:52, 37.85s/trial, best loss: -0.5950430374512347]"
     ]
    },
    {
     "name": "stderr",
     "output_type": "stream",
     "text": [
      "[Parallel(n_jobs=-1)]: Done 189 out of 189 | elapsed:   18.5s finished\n",
      "\n",
      "[Parallel(n_jobs=16)]: Using backend ThreadingBackend with 16 concurrent workers.\n",
      "\n",
      "[Parallel(n_jobs=16)]: Done  18 tasks      | elapsed:    0.0s\n",
      "\n",
      "[Parallel(n_jobs=16)]: Done 189 out of 189 | elapsed:    0.1s finished\n",
      "\n"
     ]
    },
    {
     "name": "stdout",
     "output_type": "stream",
     "text": [
      "Mean F1-Score: 0.5910598218835664                                                \n",
      "                                                                                 \n",
      "############## New Run ################\n",
      "params = {'n_estimators': 112, 'criterion': 'gini', 'max_features': 'sqrt', 'min_samples_split': 4, 'max_depth': 11, 'min_samples_leaf': 22}\n",
      " 22%|██▏       | 6/27 [04:17<17:08, 48.99s/trial, best loss: -0.5950430374512347]"
     ]
    },
    {
     "name": "stderr",
     "output_type": "stream",
     "text": [
      "[Parallel(n_jobs=-1)]: Using backend ThreadingBackend with 16 concurrent workers.\n",
      "\n",
      "[Parallel(n_jobs=-1)]: Done  18 tasks      | elapsed:    0.1s\n",
      "\n"
     ]
    },
    {
     "name": "stdout",
     "output_type": "stream",
     "text": [
      "1 CV - score: 0.5375                                                             \n",
      " 22%|██▏       | 6/27 [04:17<17:08, 48.99s/trial, best loss: -0.5950430374512347]"
     ]
    },
    {
     "name": "stderr",
     "output_type": "stream",
     "text": [
      "[Parallel(n_jobs=-1)]: Done 112 out of 112 | elapsed:    0.5s finished\n",
      "\n",
      "[Parallel(n_jobs=16)]: Using backend ThreadingBackend with 16 concurrent workers.\n",
      "\n",
      "[Parallel(n_jobs=16)]: Done  18 tasks      | elapsed:    0.0s\n",
      "\n",
      "[Parallel(n_jobs=16)]: Done 112 out of 112 | elapsed:    0.1s finished\n",
      "\n",
      "[Parallel(n_jobs=-1)]: Using backend ThreadingBackend with 16 concurrent workers.\n",
      "\n",
      "[Parallel(n_jobs=-1)]: Done  18 tasks      | elapsed:    0.2s\n",
      "\n"
     ]
    },
    {
     "name": "stdout",
     "output_type": "stream",
     "text": [
      "2 CV - score: 0.5733                                                             \n",
      " 22%|██▏       | 6/27 [04:18<17:08, 48.99s/trial, best loss: -0.5950430374512347]"
     ]
    },
    {
     "name": "stderr",
     "output_type": "stream",
     "text": [
      "[Parallel(n_jobs=-1)]: Done 112 out of 112 | elapsed:    0.8s finished\n",
      "\n",
      "[Parallel(n_jobs=16)]: Using backend ThreadingBackend with 16 concurrent workers.\n",
      "\n",
      "[Parallel(n_jobs=16)]: Done  18 tasks      | elapsed:    0.0s\n",
      "\n",
      "[Parallel(n_jobs=16)]: Done 112 out of 112 | elapsed:    0.1s finished\n",
      "\n",
      "[Parallel(n_jobs=-1)]: Using backend ThreadingBackend with 16 concurrent workers.\n",
      "\n",
      "[Parallel(n_jobs=-1)]: Done  18 tasks      | elapsed:    0.3s\n",
      "\n"
     ]
    },
    {
     "name": "stdout",
     "output_type": "stream",
     "text": [
      "3 CV - score: 0.5687                                                             \n",
      " 22%|██▏       | 6/27 [04:20<17:08, 48.99s/trial, best loss: -0.5950430374512347]"
     ]
    },
    {
     "name": "stderr",
     "output_type": "stream",
     "text": [
      "[Parallel(n_jobs=-1)]: Done 112 out of 112 | elapsed:    1.1s finished\n",
      "\n",
      "[Parallel(n_jobs=16)]: Using backend ThreadingBackend with 16 concurrent workers.\n",
      "\n",
      "[Parallel(n_jobs=16)]: Done  18 tasks      | elapsed:    0.0s\n",
      "\n",
      "[Parallel(n_jobs=16)]: Done 112 out of 112 | elapsed:    0.1s finished\n",
      "\n",
      "[Parallel(n_jobs=-1)]: Using backend ThreadingBackend with 16 concurrent workers.\n",
      "\n",
      "[Parallel(n_jobs=-1)]: Done  18 tasks      | elapsed:    0.5s\n",
      "\n"
     ]
    },
    {
     "name": "stdout",
     "output_type": "stream",
     "text": [
      "4 CV - score: 0.5829                                                             \n",
      " 22%|██▏       | 6/27 [04:22<17:08, 48.99s/trial, best loss: -0.5950430374512347]"
     ]
    },
    {
     "name": "stderr",
     "output_type": "stream",
     "text": [
      "[Parallel(n_jobs=-1)]: Done 112 out of 112 | elapsed:    2.1s finished\n",
      "\n",
      "[Parallel(n_jobs=16)]: Using backend ThreadingBackend with 16 concurrent workers.\n",
      "\n",
      "[Parallel(n_jobs=16)]: Done  18 tasks      | elapsed:    0.0s\n",
      "\n",
      "[Parallel(n_jobs=16)]: Done 112 out of 112 | elapsed:    0.1s finished\n",
      "\n",
      "[Parallel(n_jobs=-1)]: Using backend ThreadingBackend with 16 concurrent workers.\n",
      "\n",
      "[Parallel(n_jobs=-1)]: Done  18 tasks      | elapsed:    0.6s\n",
      "\n"
     ]
    },
    {
     "name": "stdout",
     "output_type": "stream",
     "text": [
      "5 CV - score: 0.5873                                                             \n",
      " 22%|██▏       | 6/27 [04:25<17:08, 48.99s/trial, best loss: -0.5950430374512347]"
     ]
    },
    {
     "name": "stderr",
     "output_type": "stream",
     "text": [
      "[Parallel(n_jobs=-1)]: Done 112 out of 112 | elapsed:    2.9s finished\n",
      "\n",
      "[Parallel(n_jobs=16)]: Using backend ThreadingBackend with 16 concurrent workers.\n",
      "\n",
      "[Parallel(n_jobs=16)]: Done  18 tasks      | elapsed:    0.0s\n",
      "\n",
      "[Parallel(n_jobs=16)]: Done 112 out of 112 | elapsed:    0.1s finished\n",
      "\n",
      "[Parallel(n_jobs=-1)]: Using backend ThreadingBackend with 16 concurrent workers.\n",
      "\n",
      "[Parallel(n_jobs=-1)]: Done  18 tasks      | elapsed:    0.6s\n",
      "\n"
     ]
    },
    {
     "name": "stdout",
     "output_type": "stream",
     "text": [
      "6 CV - score: 0.6228                                                             \n",
      " 22%|██▏       | 6/27 [04:29<17:08, 48.99s/trial, best loss: -0.5950430374512347]"
     ]
    },
    {
     "name": "stderr",
     "output_type": "stream",
     "text": [
      "[Parallel(n_jobs=-1)]: Done 112 out of 112 | elapsed:    3.4s finished\n",
      "\n",
      "[Parallel(n_jobs=16)]: Using backend ThreadingBackend with 16 concurrent workers.\n",
      "\n",
      "[Parallel(n_jobs=16)]: Done  18 tasks      | elapsed:    0.0s\n",
      "\n",
      "[Parallel(n_jobs=16)]: Done 112 out of 112 | elapsed:    0.1s finished\n",
      "\n",
      "[Parallel(n_jobs=-1)]: Using backend ThreadingBackend with 16 concurrent workers.\n",
      "\n",
      "[Parallel(n_jobs=-1)]: Done  18 tasks      | elapsed:    0.8s\n",
      "\n"
     ]
    },
    {
     "name": "stdout",
     "output_type": "stream",
     "text": [
      "7 CV - score: 0.577                                                              \n",
      "Total Time Run: 0.26                                                             \n",
      " 22%|██▏       | 6/27 [04:32<17:08, 48.99s/trial, best loss: -0.5950430374512347]"
     ]
    },
    {
     "name": "stderr",
     "output_type": "stream",
     "text": [
      "[Parallel(n_jobs=-1)]: Done 112 out of 112 | elapsed:    3.5s finished\n",
      "\n",
      "[Parallel(n_jobs=16)]: Using backend ThreadingBackend with 16 concurrent workers.\n",
      "\n",
      "[Parallel(n_jobs=16)]: Done  18 tasks      | elapsed:    0.0s\n",
      "\n",
      "[Parallel(n_jobs=16)]: Done 112 out of 112 | elapsed:    0.1s finished\n",
      "\n"
     ]
    },
    {
     "name": "stdout",
     "output_type": "stream",
     "text": [
      "Mean F1-Score: 0.5785039061526843                                                \n",
      "                                                                                 \n",
      "############## New Run ################\n",
      "params = {'n_estimators': 179, 'criterion': 'gini', 'max_features': 'auto', 'min_samples_split': 13, 'max_depth': 14, 'min_samples_leaf': 10}\n",
      " 26%|██▌       | 7/27 [04:32<12:41, 38.09s/trial, best loss: -0.5950430374512347]"
     ]
    },
    {
     "name": "stderr",
     "output_type": "stream",
     "text": [
      "[Parallel(n_jobs=-1)]: Using backend ThreadingBackend with 16 concurrent workers.\n",
      "\n",
      "[Parallel(n_jobs=-1)]: Done  18 tasks      | elapsed:    0.2s\n",
      "\n"
     ]
    },
    {
     "name": "stdout",
     "output_type": "stream",
     "text": [
      "1 CV - score: 0.559                                                              \n",
      " 26%|██▌       | 7/27 [04:34<12:41, 38.09s/trial, best loss: -0.5950430374512347]"
     ]
    },
    {
     "name": "stderr",
     "output_type": "stream",
     "text": [
      "[Parallel(n_jobs=-1)]: Done 179 out of 179 | elapsed:    1.0s finished\n",
      "\n",
      "[Parallel(n_jobs=16)]: Using backend ThreadingBackend with 16 concurrent workers.\n",
      "\n",
      "[Parallel(n_jobs=16)]: Done  18 tasks      | elapsed:    0.0s\n",
      "\n",
      "[Parallel(n_jobs=16)]: Done 179 out of 179 | elapsed:    0.1s finished\n",
      "\n",
      "[Parallel(n_jobs=-1)]: Using backend ThreadingBackend with 16 concurrent workers.\n",
      "\n",
      "[Parallel(n_jobs=-1)]: Done  18 tasks      | elapsed:    0.3s\n",
      "\n"
     ]
    },
    {
     "name": "stdout",
     "output_type": "stream",
     "text": [
      "2 CV - score: 0.5847                                                             \n",
      " 26%|██▌       | 7/27 [04:36<12:41, 38.09s/trial, best loss: -0.5950430374512347]"
     ]
    },
    {
     "name": "stderr",
     "output_type": "stream",
     "text": [
      "[Parallel(n_jobs=-1)]: Done 179 out of 179 | elapsed:    1.8s finished\n",
      "\n",
      "[Parallel(n_jobs=16)]: Using backend ThreadingBackend with 16 concurrent workers.\n",
      "\n",
      "[Parallel(n_jobs=16)]: Done  18 tasks      | elapsed:    0.0s\n",
      "\n",
      "[Parallel(n_jobs=16)]: Done 179 out of 179 | elapsed:    0.1s finished\n",
      "\n",
      "[Parallel(n_jobs=-1)]: Using backend ThreadingBackend with 16 concurrent workers.\n",
      "\n",
      "[Parallel(n_jobs=-1)]: Done  18 tasks      | elapsed:    0.4s\n",
      "\n"
     ]
    },
    {
     "name": "stdout",
     "output_type": "stream",
     "text": [
      "3 CV - score: 0.5822                                                             \n",
      " 26%|██▌       | 7/27 [04:38<12:41, 38.09s/trial, best loss: -0.5950430374512347]"
     ]
    },
    {
     "name": "stderr",
     "output_type": "stream",
     "text": [
      "[Parallel(n_jobs=-1)]: Done 179 out of 179 | elapsed:    2.2s finished\n",
      "\n",
      "[Parallel(n_jobs=16)]: Using backend ThreadingBackend with 16 concurrent workers.\n",
      "\n",
      "[Parallel(n_jobs=16)]: Done  18 tasks      | elapsed:    0.0s\n",
      "\n",
      "[Parallel(n_jobs=16)]: Done 179 out of 179 | elapsed:    0.1s finished\n",
      "\n",
      "[Parallel(n_jobs=-1)]: Using backend ThreadingBackend with 16 concurrent workers.\n",
      "\n",
      "[Parallel(n_jobs=-1)]: Done  18 tasks      | elapsed:    0.4s\n",
      "\n"
     ]
    },
    {
     "name": "stdout",
     "output_type": "stream",
     "text": [
      "4 CV - score: 0.5915                                                             \n",
      " 26%|██▌       | 7/27 [04:41<12:41, 38.09s/trial, best loss: -0.5950430374512347]"
     ]
    },
    {
     "name": "stderr",
     "output_type": "stream",
     "text": [
      "[Parallel(n_jobs=-1)]: Done 179 out of 179 | elapsed:    3.0s finished\n",
      "\n",
      "[Parallel(n_jobs=16)]: Using backend ThreadingBackend with 16 concurrent workers.\n",
      "\n",
      "[Parallel(n_jobs=16)]: Done  18 tasks      | elapsed:    0.0s\n",
      "\n",
      "[Parallel(n_jobs=16)]: Done 179 out of 179 | elapsed:    0.1s finished\n",
      "\n",
      "[Parallel(n_jobs=-1)]: Using backend ThreadingBackend with 16 concurrent workers.\n",
      "\n",
      "[Parallel(n_jobs=-1)]: Done  18 tasks      | elapsed:    0.8s\n",
      "\n"
     ]
    },
    {
     "name": "stdout",
     "output_type": "stream",
     "text": [
      "5 CV - score: 0.6063                                                             \n",
      " 26%|██▌       | 7/27 [04:47<12:41, 38.09s/trial, best loss: -0.5950430374512347]"
     ]
    },
    {
     "name": "stderr",
     "output_type": "stream",
     "text": [
      "[Parallel(n_jobs=-1)]: Done 179 out of 179 | elapsed:    5.2s finished\n",
      "\n",
      "[Parallel(n_jobs=16)]: Using backend ThreadingBackend with 16 concurrent workers.\n",
      "\n",
      "[Parallel(n_jobs=16)]: Done  18 tasks      | elapsed:    0.0s\n",
      "\n",
      "[Parallel(n_jobs=16)]: Done 179 out of 179 | elapsed:    0.1s finished\n",
      "\n",
      "[Parallel(n_jobs=-1)]: Using backend ThreadingBackend with 16 concurrent workers.\n",
      "\n",
      "[Parallel(n_jobs=-1)]: Done  18 tasks      | elapsed:    0.7s\n",
      "\n"
     ]
    },
    {
     "name": "stdout",
     "output_type": "stream",
     "text": [
      "6 CV - score: 0.628                                                              \n",
      " 26%|██▌       | 7/27 [04:53<12:41, 38.09s/trial, best loss: -0.5950430374512347]"
     ]
    },
    {
     "name": "stderr",
     "output_type": "stream",
     "text": [
      "[Parallel(n_jobs=-1)]: Done 179 out of 179 | elapsed:    5.6s finished\n",
      "\n",
      "[Parallel(n_jobs=16)]: Using backend ThreadingBackend with 16 concurrent workers.\n",
      "\n",
      "[Parallel(n_jobs=16)]: Done  18 tasks      | elapsed:    0.0s\n",
      "\n",
      "[Parallel(n_jobs=16)]: Done 179 out of 179 | elapsed:    0.1s finished\n",
      "\n",
      "[Parallel(n_jobs=-1)]: Using backend ThreadingBackend with 16 concurrent workers.\n",
      "\n",
      "[Parallel(n_jobs=-1)]: Done  18 tasks      | elapsed:    1.0s\n",
      "\n"
     ]
    },
    {
     "name": "stdout",
     "output_type": "stream",
     "text": [
      "7 CV - score: 0.5889                                                             \n",
      "Total Time Run: 0.46                                                             \n",
      " 26%|██▌       | 7/27 [05:00<12:41, 38.09s/trial, best loss: -0.5950430374512347]"
     ]
    },
    {
     "name": "stderr",
     "output_type": "stream",
     "text": [
      "[Parallel(n_jobs=-1)]: Done 179 out of 179 | elapsed:    7.2s finished\n",
      "\n",
      "[Parallel(n_jobs=16)]: Using backend ThreadingBackend with 16 concurrent workers.\n",
      "\n",
      "[Parallel(n_jobs=16)]: Done  18 tasks      | elapsed:    0.0s\n",
      "\n",
      "[Parallel(n_jobs=16)]: Done 179 out of 179 | elapsed:    0.1s finished\n",
      "\n"
     ]
    },
    {
     "name": "stdout",
     "output_type": "stream",
     "text": [
      "Mean F1-Score: 0.5915078645805701                                                \n",
      "                                                                                 \n",
      "############## New Run ################\n",
      "params = {'n_estimators': 210, 'criterion': 'gini', 'max_features': 'auto', 'min_samples_split': 8, 'max_depth': 7, 'min_samples_leaf': 17}\n",
      " 30%|██▉       | 8/27 [05:00<11:02, 34.84s/trial, best loss: -0.5950430374512347]"
     ]
    },
    {
     "name": "stderr",
     "output_type": "stream",
     "text": [
      "[Parallel(n_jobs=-1)]: Using backend ThreadingBackend with 16 concurrent workers.\n",
      "\n",
      "[Parallel(n_jobs=-1)]: Done  18 tasks      | elapsed:    0.1s\n",
      "\n",
      "[Parallel(n_jobs=-1)]: Done 168 tasks      | elapsed:    0.7s\n",
      "\n",
      "[Parallel(n_jobs=-1)]: Done 210 out of 210 | elapsed:    0.8s finished\n",
      "\n",
      "[Parallel(n_jobs=16)]: Using backend ThreadingBackend with 16 concurrent workers.\n",
      "\n",
      "[Parallel(n_jobs=16)]: Done  18 tasks      | elapsed:    0.0s\n",
      "\n"
     ]
    },
    {
     "name": "stdout",
     "output_type": "stream",
     "text": [
      "1 CV - score: 0.5445                                                             \n",
      " 30%|██▉       | 8/27 [05:01<11:02, 34.84s/trial, best loss: -0.5950430374512347]"
     ]
    },
    {
     "name": "stderr",
     "output_type": "stream",
     "text": [
      "[Parallel(n_jobs=16)]: Done 168 tasks      | elapsed:    0.1s\n",
      "\n",
      "[Parallel(n_jobs=16)]: Done 210 out of 210 | elapsed:    0.1s finished\n",
      "\n",
      "[Parallel(n_jobs=-1)]: Using backend ThreadingBackend with 16 concurrent workers.\n",
      "\n",
      "[Parallel(n_jobs=-1)]: Done  18 tasks      | elapsed:    0.2s\n",
      "\n",
      "[Parallel(n_jobs=-1)]: Done 168 tasks      | elapsed:    1.1s\n",
      "\n"
     ]
    },
    {
     "name": "stdout",
     "output_type": "stream",
     "text": [
      "2 CV - score: 0.5703                                                             \n",
      " 30%|██▉       | 8/27 [05:03<11:02, 34.84s/trial, best loss: -0.5950430374512347]"
     ]
    },
    {
     "name": "stderr",
     "output_type": "stream",
     "text": [
      "[Parallel(n_jobs=-1)]: Done 210 out of 210 | elapsed:    1.3s finished\n",
      "\n",
      "[Parallel(n_jobs=16)]: Using backend ThreadingBackend with 16 concurrent workers.\n",
      "\n",
      "[Parallel(n_jobs=16)]: Done  18 tasks      | elapsed:    0.0s\n",
      "\n",
      "[Parallel(n_jobs=16)]: Done 168 tasks      | elapsed:    0.1s\n",
      "\n",
      "[Parallel(n_jobs=16)]: Done 210 out of 210 | elapsed:    0.1s finished\n",
      "\n",
      "[Parallel(n_jobs=-1)]: Using backend ThreadingBackend with 16 concurrent workers.\n",
      "\n",
      "[Parallel(n_jobs=-1)]: Done  18 tasks      | elapsed:    0.3s\n",
      "\n",
      "[Parallel(n_jobs=-1)]: Done 168 tasks      | elapsed:    1.8s\n",
      "\n"
     ]
    },
    {
     "name": "stdout",
     "output_type": "stream",
     "text": [
      "3 CV - score: 0.5518                                                             \n",
      " 30%|██▉       | 8/27 [05:06<11:02, 34.84s/trial, best loss: -0.5950430374512347]"
     ]
    },
    {
     "name": "stderr",
     "output_type": "stream",
     "text": [
      "[Parallel(n_jobs=-1)]: Done 210 out of 210 | elapsed:    2.3s finished\n",
      "\n",
      "[Parallel(n_jobs=16)]: Using backend ThreadingBackend with 16 concurrent workers.\n",
      "\n",
      "[Parallel(n_jobs=16)]: Done  18 tasks      | elapsed:    0.0s\n",
      "\n",
      "[Parallel(n_jobs=16)]: Done 168 tasks      | elapsed:    0.1s\n",
      "\n",
      "[Parallel(n_jobs=16)]: Done 210 out of 210 | elapsed:    0.1s finished\n",
      "\n",
      "[Parallel(n_jobs=-1)]: Using backend ThreadingBackend with 16 concurrent workers.\n",
      "\n",
      "[Parallel(n_jobs=-1)]: Done  18 tasks      | elapsed:    0.6s\n",
      "\n",
      "[Parallel(n_jobs=-1)]: Done 168 tasks      | elapsed:    3.0s\n",
      "\n"
     ]
    },
    {
     "name": "stdout",
     "output_type": "stream",
     "text": [
      "4 CV - score: 0.575                                                              \n",
      " 30%|██▉       | 8/27 [05:10<11:02, 34.84s/trial, best loss: -0.5950430374512347]"
     ]
    },
    {
     "name": "stderr",
     "output_type": "stream",
     "text": [
      "[Parallel(n_jobs=-1)]: Done 210 out of 210 | elapsed:    3.7s finished\n",
      "\n",
      "[Parallel(n_jobs=16)]: Using backend ThreadingBackend with 16 concurrent workers.\n",
      "\n",
      "[Parallel(n_jobs=16)]: Done  18 tasks      | elapsed:    0.0s\n",
      "\n",
      "[Parallel(n_jobs=16)]: Done 168 tasks      | elapsed:    0.1s\n",
      "\n",
      "[Parallel(n_jobs=16)]: Done 210 out of 210 | elapsed:    0.1s finished\n",
      "\n",
      "[Parallel(n_jobs=-1)]: Using backend ThreadingBackend with 16 concurrent workers.\n",
      "\n",
      "[Parallel(n_jobs=-1)]: Done  18 tasks      | elapsed:    0.5s\n",
      "\n",
      "[Parallel(n_jobs=-1)]: Done 168 tasks      | elapsed:    3.5s\n",
      "\n"
     ]
    },
    {
     "name": "stdout",
     "output_type": "stream",
     "text": [
      "5 CV - score: 0.5847                                                             \n",
      " 30%|██▉       | 8/27 [05:14<11:02, 34.84s/trial, best loss: -0.5950430374512347]"
     ]
    },
    {
     "name": "stderr",
     "output_type": "stream",
     "text": [
      "[Parallel(n_jobs=-1)]: Done 210 out of 210 | elapsed:    4.1s finished\n",
      "\n",
      "[Parallel(n_jobs=16)]: Using backend ThreadingBackend with 16 concurrent workers.\n",
      "\n",
      "[Parallel(n_jobs=16)]: Done  18 tasks      | elapsed:    0.0s\n",
      "\n",
      "[Parallel(n_jobs=16)]: Done 168 tasks      | elapsed:    0.1s\n",
      "\n",
      "[Parallel(n_jobs=16)]: Done 210 out of 210 | elapsed:    0.1s finished\n",
      "\n",
      "[Parallel(n_jobs=-1)]: Using backend ThreadingBackend with 16 concurrent workers.\n",
      "\n",
      "[Parallel(n_jobs=-1)]: Done  18 tasks      | elapsed:    0.5s\n",
      "\n",
      "[Parallel(n_jobs=-1)]: Done 168 tasks      | elapsed:    4.2s\n",
      "\n"
     ]
    },
    {
     "name": "stdout",
     "output_type": "stream",
     "text": [
      "6 CV - score: 0.6075                                                             \n",
      " 30%|██▉       | 8/27 [05:19<11:02, 34.84s/trial, best loss: -0.5950430374512347]"
     ]
    },
    {
     "name": "stderr",
     "output_type": "stream",
     "text": [
      "[Parallel(n_jobs=-1)]: Done 210 out of 210 | elapsed:    5.1s finished\n",
      "\n",
      "[Parallel(n_jobs=16)]: Using backend ThreadingBackend with 16 concurrent workers.\n",
      "\n",
      "[Parallel(n_jobs=16)]: Done  18 tasks      | elapsed:    0.0s\n",
      "\n",
      "[Parallel(n_jobs=16)]: Done 168 tasks      | elapsed:    0.1s\n",
      "\n",
      "[Parallel(n_jobs=16)]: Done 210 out of 210 | elapsed:    0.1s finished\n",
      "\n",
      "[Parallel(n_jobs=-1)]: Using backend ThreadingBackend with 16 concurrent workers.\n",
      "\n",
      "[Parallel(n_jobs=-1)]: Done  18 tasks      | elapsed:    0.7s\n",
      "\n",
      "[Parallel(n_jobs=-1)]: Done 168 tasks      | elapsed:    4.4s\n",
      "\n"
     ]
    },
    {
     "name": "stdout",
     "output_type": "stream",
     "text": [
      "7 CV - score: 0.5559                                                             \n",
      "Total Time Run: 0.41                                                             \n",
      " 30%|██▉       | 8/27 [05:25<11:02, 34.84s/trial, best loss: -0.5950430374512347]"
     ]
    },
    {
     "name": "stderr",
     "output_type": "stream",
     "text": [
      "[Parallel(n_jobs=-1)]: Done 210 out of 210 | elapsed:    5.3s finished\n",
      "\n",
      "[Parallel(n_jobs=16)]: Using backend ThreadingBackend with 16 concurrent workers.\n",
      "\n",
      "[Parallel(n_jobs=16)]: Done  18 tasks      | elapsed:    0.0s\n",
      "\n",
      "[Parallel(n_jobs=16)]: Done 168 tasks      | elapsed:    0.1s\n",
      "\n",
      "[Parallel(n_jobs=16)]: Done 210 out of 210 | elapsed:    0.1s finished\n",
      "\n"
     ]
    },
    {
     "name": "stdout",
     "output_type": "stream",
     "text": [
      "Mean F1-Score: 0.5699371717898295                                                \n",
      "                                                                                 \n",
      "############## New Run ################\n",
      "params = {'n_estimators': 274, 'criterion': 'gini', 'max_features': 'sqrt', 'min_samples_split': 9, 'max_depth': 16, 'min_samples_leaf': 4}\n",
      " 33%|███▎      | 9/27 [05:25<09:30, 31.70s/trial, best loss: -0.5950430374512347]"
     ]
    },
    {
     "name": "stderr",
     "output_type": "stream",
     "text": [
      "[Parallel(n_jobs=-1)]: Using backend ThreadingBackend with 16 concurrent workers.\n",
      "\n",
      "[Parallel(n_jobs=-1)]: Done  18 tasks      | elapsed:    0.1s\n",
      "\n",
      "[Parallel(n_jobs=-1)]: Done 168 tasks      | elapsed:    0.8s\n",
      "\n"
     ]
    },
    {
     "name": "stdout",
     "output_type": "stream",
     "text": [
      "1 CV - score: 0.5637                                                             \n",
      " 33%|███▎      | 9/27 [05:27<09:30, 31.70s/trial, best loss: -0.5950430374512347]"
     ]
    },
    {
     "name": "stderr",
     "output_type": "stream",
     "text": [
      "[Parallel(n_jobs=-1)]: Done 274 out of 274 | elapsed:    1.4s finished\n",
      "\n",
      "[Parallel(n_jobs=16)]: Using backend ThreadingBackend with 16 concurrent workers.\n",
      "\n",
      "[Parallel(n_jobs=16)]: Done  18 tasks      | elapsed:    0.0s\n",
      "\n",
      "[Parallel(n_jobs=16)]: Done 168 tasks      | elapsed:    0.1s\n",
      "\n",
      "[Parallel(n_jobs=16)]: Done 274 out of 274 | elapsed:    0.2s finished\n",
      "\n",
      "[Parallel(n_jobs=-1)]: Using backend ThreadingBackend with 16 concurrent workers.\n",
      "\n",
      "[Parallel(n_jobs=-1)]: Done  18 tasks      | elapsed:    0.3s\n",
      "\n",
      "[Parallel(n_jobs=-1)]: Done 168 tasks      | elapsed:    2.1s\n",
      "\n"
     ]
    },
    {
     "name": "stdout",
     "output_type": "stream",
     "text": [
      "2 CV - score: 0.591                                                              \n",
      " 33%|███▎      | 9/27 [05:30<09:30, 31.70s/trial, best loss: -0.5950430374512347]"
     ]
    },
    {
     "name": "stderr",
     "output_type": "stream",
     "text": [
      "[Parallel(n_jobs=-1)]: Done 274 out of 274 | elapsed:    3.0s finished\n",
      "\n",
      "[Parallel(n_jobs=16)]: Using backend ThreadingBackend with 16 concurrent workers.\n",
      "\n",
      "[Parallel(n_jobs=16)]: Done  18 tasks      | elapsed:    0.0s\n",
      "\n",
      "[Parallel(n_jobs=16)]: Done 168 tasks      | elapsed:    0.1s\n",
      "\n",
      "[Parallel(n_jobs=16)]: Done 274 out of 274 | elapsed:    0.1s finished\n",
      "\n",
      "[Parallel(n_jobs=-1)]: Using backend ThreadingBackend with 16 concurrent workers.\n",
      "\n",
      "[Parallel(n_jobs=-1)]: Done  18 tasks      | elapsed:    0.5s\n",
      "\n",
      "[Parallel(n_jobs=-1)]: Done 168 tasks      | elapsed:    3.0s\n",
      "\n"
     ]
    },
    {
     "name": "stdout",
     "output_type": "stream",
     "text": [
      "3 CV - score: 0.5816                                                             \n",
      " 33%|███▎      | 9/27 [05:35<09:30, 31.70s/trial, best loss: -0.5950430374512347]"
     ]
    },
    {
     "name": "stderr",
     "output_type": "stream",
     "text": [
      "[Parallel(n_jobs=-1)]: Done 274 out of 274 | elapsed:    4.5s finished\n",
      "\n",
      "[Parallel(n_jobs=16)]: Using backend ThreadingBackend with 16 concurrent workers.\n",
      "\n",
      "[Parallel(n_jobs=16)]: Done  18 tasks      | elapsed:    0.0s\n",
      "\n",
      "[Parallel(n_jobs=16)]: Done 168 tasks      | elapsed:    0.1s\n",
      "\n",
      "[Parallel(n_jobs=16)]: Done 274 out of 274 | elapsed:    0.2s finished\n",
      "\n",
      "[Parallel(n_jobs=-1)]: Using backend ThreadingBackend with 16 concurrent workers.\n",
      "\n",
      "[Parallel(n_jobs=-1)]: Done  18 tasks      | elapsed:    0.5s\n",
      "\n",
      "[Parallel(n_jobs=-1)]: Done 168 tasks      | elapsed:    4.3s\n",
      "\n"
     ]
    },
    {
     "name": "stdout",
     "output_type": "stream",
     "text": [
      "4 CV - score: 0.5975                                                             \n",
      " 33%|███▎      | 9/27 [05:42<09:30, 31.70s/trial, best loss: -0.5950430374512347]"
     ]
    },
    {
     "name": "stderr",
     "output_type": "stream",
     "text": [
      "[Parallel(n_jobs=-1)]: Done 274 out of 274 | elapsed:    6.5s finished\n",
      "\n",
      "[Parallel(n_jobs=16)]: Using backend ThreadingBackend with 16 concurrent workers.\n",
      "\n",
      "[Parallel(n_jobs=16)]: Done  18 tasks      | elapsed:    0.0s\n",
      "\n",
      "[Parallel(n_jobs=16)]: Done 168 tasks      | elapsed:    0.1s\n",
      "\n",
      "[Parallel(n_jobs=16)]: Done 274 out of 274 | elapsed:    0.2s finished\n",
      "\n",
      "[Parallel(n_jobs=-1)]: Using backend ThreadingBackend with 16 concurrent workers.\n",
      "\n",
      "[Parallel(n_jobs=-1)]: Done  18 tasks      | elapsed:    0.7s\n",
      "\n",
      "[Parallel(n_jobs=-1)]: Done 168 tasks      | elapsed:    4.2s\n",
      "\n"
     ]
    },
    {
     "name": "stdout",
     "output_type": "stream",
     "text": [
      "5 CV - score: 0.6051                                                             \n",
      " 33%|███▎      | 9/27 [05:50<09:30, 31.70s/trial, best loss: -0.5950430374512347]"
     ]
    },
    {
     "name": "stderr",
     "output_type": "stream",
     "text": [
      "[Parallel(n_jobs=-1)]: Done 274 out of 274 | elapsed:    7.5s finished\n",
      "\n",
      "[Parallel(n_jobs=16)]: Using backend ThreadingBackend with 16 concurrent workers.\n",
      "\n",
      "[Parallel(n_jobs=16)]: Done  18 tasks      | elapsed:    0.0s\n",
      "\n",
      "[Parallel(n_jobs=16)]: Done 168 tasks      | elapsed:    0.1s\n",
      "\n",
      "[Parallel(n_jobs=16)]: Done 274 out of 274 | elapsed:    0.2s finished\n",
      "\n",
      "[Parallel(n_jobs=-1)]: Using backend ThreadingBackend with 16 concurrent workers.\n",
      "\n",
      "[Parallel(n_jobs=-1)]: Done  18 tasks      | elapsed:    1.1s\n",
      "\n",
      "[Parallel(n_jobs=-1)]: Done 168 tasks      | elapsed:    6.5s\n",
      "\n"
     ]
    },
    {
     "name": "stdout",
     "output_type": "stream",
     "text": [
      "6 CV - score: 0.6368                                                             \n",
      " 33%|███▎      | 9/27 [06:00<09:30, 31.70s/trial, best loss: -0.5950430374512347]"
     ]
    },
    {
     "name": "stderr",
     "output_type": "stream",
     "text": [
      "[Parallel(n_jobs=-1)]: Done 274 out of 274 | elapsed:    9.8s finished\n",
      "\n",
      "[Parallel(n_jobs=16)]: Using backend ThreadingBackend with 16 concurrent workers.\n",
      "\n",
      "[Parallel(n_jobs=16)]: Done  18 tasks      | elapsed:    0.0s\n",
      "\n",
      "[Parallel(n_jobs=16)]: Done 168 tasks      | elapsed:    0.1s\n",
      "\n",
      "[Parallel(n_jobs=16)]: Done 274 out of 274 | elapsed:    0.2s finished\n",
      "\n",
      "[Parallel(n_jobs=-1)]: Using backend ThreadingBackend with 16 concurrent workers.\n",
      "\n",
      "[Parallel(n_jobs=-1)]: Done  18 tasks      | elapsed:    1.0s\n",
      "\n",
      "[Parallel(n_jobs=-1)]: Done 168 tasks      | elapsed:    7.5s\n",
      "\n"
     ]
    },
    {
     "name": "stdout",
     "output_type": "stream",
     "text": [
      "7 CV - score: 0.5916                                                             \n",
      "Total Time Run: 0.77                                                             \n",
      " 33%|███▎      | 9/27 [06:11<09:30, 31.70s/trial, best loss: -0.5950430374512347]"
     ]
    },
    {
     "name": "stderr",
     "output_type": "stream",
     "text": [
      "[Parallel(n_jobs=-1)]: Done 274 out of 274 | elapsed:   11.0s finished\n",
      "\n",
      "[Parallel(n_jobs=16)]: Using backend ThreadingBackend with 16 concurrent workers.\n",
      "\n",
      "[Parallel(n_jobs=16)]: Done  18 tasks      | elapsed:    0.0s\n",
      "\n",
      "[Parallel(n_jobs=16)]: Done 168 tasks      | elapsed:    0.1s\n",
      "\n",
      "[Parallel(n_jobs=16)]: Done 274 out of 274 | elapsed:    0.2s finished\n",
      "\n"
     ]
    },
    {
     "name": "stdout",
     "output_type": "stream",
     "text": [
      "Mean F1-Score: 0.5953460782557423                                                \n",
      "                                                                                  \n",
      "############## New Run ################\n",
      "params = {'n_estimators': 228, 'criterion': 'entropy', 'max_features': 'sqrt', 'min_samples_split': 3, 'max_depth': 8, 'min_samples_leaf': 19}\n",
      " 37%|███▋      | 10/27 [06:12<10:16, 36.26s/trial, best loss: -0.5953460782557423]"
     ]
    },
    {
     "name": "stderr",
     "output_type": "stream",
     "text": [
      "[Parallel(n_jobs=-1)]: Using backend ThreadingBackend with 16 concurrent workers.\n",
      "\n",
      "[Parallel(n_jobs=-1)]: Done  18 tasks      | elapsed:    0.3s\n",
      "\n",
      "[Parallel(n_jobs=-1)]: Done 168 tasks      | elapsed:    1.9s\n",
      "\n"
     ]
    },
    {
     "name": "stdout",
     "output_type": "stream",
     "text": [
      "1 CV - score: 0.5481                                                              \n",
      " 37%|███▋      | 10/27 [06:14<10:16, 36.26s/trial, best loss: -0.5953460782557423]"
     ]
    },
    {
     "name": "stderr",
     "output_type": "stream",
     "text": [
      "[Parallel(n_jobs=-1)]: Done 228 out of 228 | elapsed:    2.4s finished\n",
      "\n",
      "[Parallel(n_jobs=16)]: Using backend ThreadingBackend with 16 concurrent workers.\n",
      "\n",
      "[Parallel(n_jobs=16)]: Done  18 tasks      | elapsed:    0.0s\n",
      "\n",
      "[Parallel(n_jobs=16)]: Done 168 tasks      | elapsed:    0.1s\n",
      "\n",
      "[Parallel(n_jobs=16)]: Done 228 out of 228 | elapsed:    0.1s finished\n",
      "\n",
      "[Parallel(n_jobs=-1)]: Using backend ThreadingBackend with 16 concurrent workers.\n",
      "\n",
      "[Parallel(n_jobs=-1)]: Done  18 tasks      | elapsed:    0.5s\n",
      "\n",
      "[Parallel(n_jobs=-1)]: Done 168 tasks      | elapsed:    3.4s\n",
      "\n"
     ]
    },
    {
     "name": "stdout",
     "output_type": "stream",
     "text": [
      "2 CV - score: 0.5719                                                              \n",
      " 37%|███▋      | 10/27 [06:19<10:16, 36.26s/trial, best loss: -0.5953460782557423]"
     ]
    },
    {
     "name": "stderr",
     "output_type": "stream",
     "text": [
      "[Parallel(n_jobs=-1)]: Done 228 out of 228 | elapsed:    4.5s finished\n",
      "\n",
      "[Parallel(n_jobs=16)]: Using backend ThreadingBackend with 16 concurrent workers.\n",
      "\n",
      "[Parallel(n_jobs=16)]: Done  18 tasks      | elapsed:    0.0s\n",
      "\n",
      "[Parallel(n_jobs=16)]: Done 168 tasks      | elapsed:    0.1s\n",
      "\n",
      "[Parallel(n_jobs=16)]: Done 228 out of 228 | elapsed:    0.1s finished\n",
      "\n",
      "[Parallel(n_jobs=-1)]: Using backend ThreadingBackend with 16 concurrent workers.\n",
      "\n",
      "[Parallel(n_jobs=-1)]: Done  18 tasks      | elapsed:    0.7s\n",
      "\n",
      "[Parallel(n_jobs=-1)]: Done 168 tasks      | elapsed:    5.6s\n",
      "\n"
     ]
    },
    {
     "name": "stdout",
     "output_type": "stream",
     "text": [
      "3 CV - score: 0.5667                                                              \n",
      " 37%|███▋      | 10/27 [06:27<10:16, 36.26s/trial, best loss: -0.5953460782557423]"
     ]
    },
    {
     "name": "stderr",
     "output_type": "stream",
     "text": [
      "[Parallel(n_jobs=-1)]: Done 228 out of 228 | elapsed:    7.4s finished\n",
      "\n",
      "[Parallel(n_jobs=16)]: Using backend ThreadingBackend with 16 concurrent workers.\n",
      "\n",
      "[Parallel(n_jobs=16)]: Done  18 tasks      | elapsed:    0.0s\n",
      "\n",
      "[Parallel(n_jobs=16)]: Done 168 tasks      | elapsed:    0.1s\n",
      "\n",
      "[Parallel(n_jobs=16)]: Done 228 out of 228 | elapsed:    0.1s finished\n",
      "\n",
      "[Parallel(n_jobs=-1)]: Using backend ThreadingBackend with 16 concurrent workers.\n",
      "\n",
      "[Parallel(n_jobs=-1)]: Done  18 tasks      | elapsed:    1.1s\n",
      "\n",
      "[Parallel(n_jobs=-1)]: Done 168 tasks      | elapsed:    6.9s\n",
      "\n"
     ]
    },
    {
     "name": "stdout",
     "output_type": "stream",
     "text": [
      "4 CV - score: 0.5723                                                              \n",
      " 37%|███▋      | 10/27 [06:37<10:16, 36.26s/trial, best loss: -0.5953460782557423]"
     ]
    },
    {
     "name": "stderr",
     "output_type": "stream",
     "text": [
      "[Parallel(n_jobs=-1)]: Done 228 out of 228 | elapsed:    9.6s finished\n",
      "\n",
      "[Parallel(n_jobs=16)]: Using backend ThreadingBackend with 16 concurrent workers.\n",
      "\n",
      "[Parallel(n_jobs=16)]: Done  18 tasks      | elapsed:    0.0s\n",
      "\n",
      "[Parallel(n_jobs=16)]: Done 168 tasks      | elapsed:    0.1s\n",
      "\n",
      "[Parallel(n_jobs=16)]: Done 228 out of 228 | elapsed:    0.1s finished\n",
      "\n",
      "[Parallel(n_jobs=-1)]: Using backend ThreadingBackend with 16 concurrent workers.\n",
      "\n",
      "[Parallel(n_jobs=-1)]: Done  18 tasks      | elapsed:    1.6s\n",
      "\n",
      "[Parallel(n_jobs=-1)]: Done 168 tasks      | elapsed:   10.2s\n",
      "\n"
     ]
    },
    {
     "name": "stdout",
     "output_type": "stream",
     "text": [
      "5 CV - score: 0.5954                                                              \n",
      " 37%|███▋      | 10/27 [06:50<10:16, 36.26s/trial, best loss: -0.5953460782557423]"
     ]
    },
    {
     "name": "stderr",
     "output_type": "stream",
     "text": [
      "[Parallel(n_jobs=-1)]: Done 228 out of 228 | elapsed:   13.5s finished\n",
      "\n",
      "[Parallel(n_jobs=16)]: Using backend ThreadingBackend with 16 concurrent workers.\n",
      "\n",
      "[Parallel(n_jobs=16)]: Done  18 tasks      | elapsed:    0.0s\n",
      "\n",
      "[Parallel(n_jobs=16)]: Done 168 tasks      | elapsed:    0.1s\n",
      "\n",
      "[Parallel(n_jobs=16)]: Done 228 out of 228 | elapsed:    0.1s finished\n",
      "\n",
      "[Parallel(n_jobs=-1)]: Using backend ThreadingBackend with 16 concurrent workers.\n",
      "\n",
      "[Parallel(n_jobs=-1)]: Done  18 tasks      | elapsed:    1.7s\n",
      "\n",
      "[Parallel(n_jobs=-1)]: Done 168 tasks      | elapsed:   11.1s\n",
      "\n"
     ]
    },
    {
     "name": "stdout",
     "output_type": "stream",
     "text": [
      "6 CV - score: 0.6128                                                              \n",
      " 37%|███▋      | 10/27 [07:06<10:16, 36.26s/trial, best loss: -0.5953460782557423]"
     ]
    },
    {
     "name": "stderr",
     "output_type": "stream",
     "text": [
      "[Parallel(n_jobs=-1)]: Done 228 out of 228 | elapsed:   15.4s finished\n",
      "\n",
      "[Parallel(n_jobs=16)]: Using backend ThreadingBackend with 16 concurrent workers.\n",
      "\n",
      "[Parallel(n_jobs=16)]: Done  18 tasks      | elapsed:    0.0s\n",
      "\n",
      "[Parallel(n_jobs=16)]: Done 168 tasks      | elapsed:    0.1s\n",
      "\n",
      "[Parallel(n_jobs=16)]: Done 228 out of 228 | elapsed:    0.1s finished\n",
      "\n",
      "[Parallel(n_jobs=-1)]: Using backend ThreadingBackend with 16 concurrent workers.\n",
      "\n",
      "[Parallel(n_jobs=-1)]: Done  18 tasks      | elapsed:    2.3s\n",
      "\n",
      "[Parallel(n_jobs=-1)]: Done 168 tasks      | elapsed:   14.2s\n",
      "\n"
     ]
    },
    {
     "name": "stdout",
     "output_type": "stream",
     "text": [
      "7 CV - score: 0.5662                                                              \n",
      "Total Time Run: 1.22                                                              \n",
      " 37%|███▋      | 10/27 [07:25<10:16, 36.26s/trial, best loss: -0.5953460782557423]"
     ]
    },
    {
     "name": "stderr",
     "output_type": "stream",
     "text": [
      "[Parallel(n_jobs=-1)]: Done 228 out of 228 | elapsed:   18.1s finished\n",
      "\n",
      "[Parallel(n_jobs=16)]: Using backend ThreadingBackend with 16 concurrent workers.\n",
      "\n",
      "[Parallel(n_jobs=16)]: Done  18 tasks      | elapsed:    0.0s\n",
      "\n",
      "[Parallel(n_jobs=16)]: Done 168 tasks      | elapsed:    0.1s\n",
      "\n",
      "[Parallel(n_jobs=16)]: Done 228 out of 228 | elapsed:    0.1s finished\n",
      "\n"
     ]
    },
    {
     "name": "stdout",
     "output_type": "stream",
     "text": [
      "Mean F1-Score: 0.576204384601488                                                  \n",
      "                                                                                  \n",
      "############## New Run ################\n",
      "params = {'n_estimators': 197, 'criterion': 'entropy', 'max_features': 'log2', 'min_samples_split': 19, 'max_depth': 12, 'min_samples_leaf': 19}\n",
      " 41%|████      | 11/27 [07:25<12:41, 47.58s/trial, best loss: -0.5953460782557423]"
     ]
    },
    {
     "name": "stderr",
     "output_type": "stream",
     "text": [
      "[Parallel(n_jobs=-1)]: Using backend ThreadingBackend with 16 concurrent workers.\n",
      "\n",
      "[Parallel(n_jobs=-1)]: Done  18 tasks      | elapsed:    0.1s\n",
      "\n"
     ]
    },
    {
     "name": "stdout",
     "output_type": "stream",
     "text": [
      "1 CV - score: 0.5178                                                              \n",
      " 41%|████      | 11/27 [07:26<12:41, 47.58s/trial, best loss: -0.5953460782557423]"
     ]
    },
    {
     "name": "stderr",
     "output_type": "stream",
     "text": [
      "[Parallel(n_jobs=-1)]: Done 197 out of 197 | elapsed:    0.8s finished\n",
      "\n",
      "[Parallel(n_jobs=16)]: Using backend ThreadingBackend with 16 concurrent workers.\n",
      "\n",
      "[Parallel(n_jobs=16)]: Done  18 tasks      | elapsed:    0.0s\n",
      "\n",
      "[Parallel(n_jobs=16)]: Done 197 out of 197 | elapsed:    0.1s finished\n",
      "\n",
      "[Parallel(n_jobs=-1)]: Using backend ThreadingBackend with 16 concurrent workers.\n",
      "\n",
      "[Parallel(n_jobs=-1)]: Done  18 tasks      | elapsed:    0.3s\n",
      "\n"
     ]
    },
    {
     "name": "stdout",
     "output_type": "stream",
     "text": [
      "2 CV - score: 0.5662                                                              \n",
      " 41%|████      | 11/27 [07:28<12:41, 47.58s/trial, best loss: -0.5953460782557423]"
     ]
    },
    {
     "name": "stderr",
     "output_type": "stream",
     "text": [
      "[Parallel(n_jobs=-1)]: Done 197 out of 197 | elapsed:    1.7s finished\n",
      "\n",
      "[Parallel(n_jobs=16)]: Using backend ThreadingBackend with 16 concurrent workers.\n",
      "\n",
      "[Parallel(n_jobs=16)]: Done  18 tasks      | elapsed:    0.0s\n",
      "\n",
      "[Parallel(n_jobs=16)]: Done 197 out of 197 | elapsed:    0.1s finished\n",
      "\n",
      "[Parallel(n_jobs=-1)]: Using backend ThreadingBackend with 16 concurrent workers.\n",
      "\n",
      "[Parallel(n_jobs=-1)]: Done  18 tasks      | elapsed:    0.3s\n",
      "\n"
     ]
    },
    {
     "name": "stdout",
     "output_type": "stream",
     "text": [
      "3 CV - score: 0.5546                                                              \n",
      " 41%|████      | 11/27 [07:30<12:41, 47.58s/trial, best loss: -0.5953460782557423]"
     ]
    },
    {
     "name": "stderr",
     "output_type": "stream",
     "text": [
      "[Parallel(n_jobs=-1)]: Done 197 out of 197 | elapsed:    2.3s finished\n",
      "\n",
      "[Parallel(n_jobs=16)]: Using backend ThreadingBackend with 16 concurrent workers.\n",
      "\n",
      "[Parallel(n_jobs=16)]: Done  18 tasks      | elapsed:    0.0s\n",
      "\n",
      "[Parallel(n_jobs=16)]: Done 197 out of 197 | elapsed:    0.1s finished\n",
      "\n",
      "[Parallel(n_jobs=-1)]: Using backend ThreadingBackend with 16 concurrent workers.\n",
      "\n",
      "[Parallel(n_jobs=-1)]: Done  18 tasks      | elapsed:    0.6s\n",
      "\n"
     ]
    },
    {
     "name": "stdout",
     "output_type": "stream",
     "text": [
      "4 CV - score: 0.5701                                                              \n",
      " 41%|████      | 11/27 [07:34<12:41, 47.58s/trial, best loss: -0.5953460782557423]"
     ]
    },
    {
     "name": "stderr",
     "output_type": "stream",
     "text": [
      "[Parallel(n_jobs=-1)]: Done 197 out of 197 | elapsed:    3.3s finished\n",
      "\n",
      "[Parallel(n_jobs=16)]: Using backend ThreadingBackend with 16 concurrent workers.\n",
      "\n",
      "[Parallel(n_jobs=16)]: Done  18 tasks      | elapsed:    0.0s\n",
      "\n",
      "[Parallel(n_jobs=16)]: Done 197 out of 197 | elapsed:    0.1s finished\n",
      "\n",
      "[Parallel(n_jobs=-1)]: Using backend ThreadingBackend with 16 concurrent workers.\n",
      "\n",
      "[Parallel(n_jobs=-1)]: Done  18 tasks      | elapsed:    0.5s\n",
      "\n"
     ]
    },
    {
     "name": "stdout",
     "output_type": "stream",
     "text": [
      "5 CV - score: 0.5933                                                              \n",
      " 41%|████      | 11/27 [07:39<12:41, 47.58s/trial, best loss: -0.5953460782557423]"
     ]
    },
    {
     "name": "stderr",
     "output_type": "stream",
     "text": [
      "[Parallel(n_jobs=-1)]: Done 197 out of 197 | elapsed:    4.7s finished\n",
      "\n",
      "[Parallel(n_jobs=16)]: Using backend ThreadingBackend with 16 concurrent workers.\n",
      "\n",
      "[Parallel(n_jobs=16)]: Done  18 tasks      | elapsed:    0.0s\n",
      "\n",
      "[Parallel(n_jobs=16)]: Done 197 out of 197 | elapsed:    0.1s finished\n",
      "\n",
      "[Parallel(n_jobs=-1)]: Using backend ThreadingBackend with 16 concurrent workers.\n",
      "\n",
      "[Parallel(n_jobs=-1)]: Done  18 tasks      | elapsed:    0.6s\n",
      "\n"
     ]
    },
    {
     "name": "stdout",
     "output_type": "stream",
     "text": [
      "6 CV - score: 0.6017                                                              \n",
      " 41%|████      | 11/27 [07:44<12:41, 47.58s/trial, best loss: -0.5953460782557423]"
     ]
    },
    {
     "name": "stderr",
     "output_type": "stream",
     "text": [
      "[Parallel(n_jobs=-1)]: Done 197 out of 197 | elapsed:    4.5s finished\n",
      "\n",
      "[Parallel(n_jobs=16)]: Using backend ThreadingBackend with 16 concurrent workers.\n",
      "\n",
      "[Parallel(n_jobs=16)]: Done  18 tasks      | elapsed:    0.0s\n",
      "\n",
      "[Parallel(n_jobs=16)]: Done 197 out of 197 | elapsed:    0.1s finished\n",
      "\n",
      "[Parallel(n_jobs=-1)]: Using backend ThreadingBackend with 16 concurrent workers.\n",
      "\n",
      "[Parallel(n_jobs=-1)]: Done  18 tasks      | elapsed:    0.7s\n",
      "\n"
     ]
    },
    {
     "name": "stdout",
     "output_type": "stream",
     "text": [
      "7 CV - score: 0.5727                                                              \n",
      "Total Time Run: 0.43                                                              \n",
      " 41%|████      | 11/27 [07:50<12:41, 47.58s/trial, best loss: -0.5953460782557423]"
     ]
    },
    {
     "name": "stderr",
     "output_type": "stream",
     "text": [
      "[Parallel(n_jobs=-1)]: Done 197 out of 197 | elapsed:    6.3s finished\n",
      "\n",
      "[Parallel(n_jobs=16)]: Using backend ThreadingBackend with 16 concurrent workers.\n",
      "\n",
      "[Parallel(n_jobs=16)]: Done  18 tasks      | elapsed:    0.0s\n",
      "\n",
      "[Parallel(n_jobs=16)]: Done 197 out of 197 | elapsed:    0.1s finished\n",
      "\n"
     ]
    },
    {
     "name": "stdout",
     "output_type": "stream",
     "text": [
      "Mean F1-Score: 0.5680654515999969                                                 \n",
      "                                                                                  \n",
      "############## New Run ################\n",
      "params = {'n_estimators': 217, 'criterion': 'gini', 'max_features': 'auto', 'min_samples_split': 14, 'max_depth': 22, 'min_samples_leaf': 22}\n",
      " 44%|████▍     | 12/27 [07:51<10:14, 40.96s/trial, best loss: -0.5953460782557423]"
     ]
    },
    {
     "name": "stderr",
     "output_type": "stream",
     "text": [
      "[Parallel(n_jobs=-1)]: Using backend ThreadingBackend with 16 concurrent workers.\n",
      "\n",
      "[Parallel(n_jobs=-1)]: Done  18 tasks      | elapsed:    0.1s\n",
      "\n",
      "[Parallel(n_jobs=-1)]: Done 168 tasks      | elapsed:    0.7s\n",
      "\n",
      "[Parallel(n_jobs=-1)]: Done 217 out of 217 | elapsed:    0.8s finished\n",
      "\n",
      "[Parallel(n_jobs=16)]: Using backend ThreadingBackend with 16 concurrent workers.\n",
      "\n",
      "[Parallel(n_jobs=16)]: Done  18 tasks      | elapsed:    0.0s\n",
      "\n"
     ]
    },
    {
     "name": "stdout",
     "output_type": "stream",
     "text": [
      "1 CV - score: 0.5424                                                              \n",
      " 44%|████▍     | 12/27 [07:52<10:14, 40.96s/trial, best loss: -0.5953460782557423]"
     ]
    },
    {
     "name": "stderr",
     "output_type": "stream",
     "text": [
      "[Parallel(n_jobs=16)]: Done 168 tasks      | elapsed:    0.1s\n",
      "\n",
      "[Parallel(n_jobs=16)]: Done 217 out of 217 | elapsed:    0.1s finished\n",
      "\n",
      "[Parallel(n_jobs=-1)]: Using backend ThreadingBackend with 16 concurrent workers.\n",
      "\n",
      "[Parallel(n_jobs=-1)]: Done  18 tasks      | elapsed:    0.2s\n",
      "\n",
      "[Parallel(n_jobs=-1)]: Done 168 tasks      | elapsed:    1.6s\n",
      "\n"
     ]
    },
    {
     "name": "stdout",
     "output_type": "stream",
     "text": [
      "2 CV - score: 0.5748                                                              \n",
      " 44%|████▍     | 12/27 [07:54<10:14, 40.96s/trial, best loss: -0.5953460782557423]"
     ]
    },
    {
     "name": "stderr",
     "output_type": "stream",
     "text": [
      "[Parallel(n_jobs=-1)]: Done 217 out of 217 | elapsed:    1.9s finished\n",
      "\n",
      "[Parallel(n_jobs=16)]: Using backend ThreadingBackend with 16 concurrent workers.\n",
      "\n",
      "[Parallel(n_jobs=16)]: Done  18 tasks      | elapsed:    0.0s\n",
      "\n",
      "[Parallel(n_jobs=16)]: Done 168 tasks      | elapsed:    0.1s\n",
      "\n",
      "[Parallel(n_jobs=16)]: Done 217 out of 217 | elapsed:    0.1s finished\n",
      "\n",
      "[Parallel(n_jobs=-1)]: Using backend ThreadingBackend with 16 concurrent workers.\n",
      "\n",
      "[Parallel(n_jobs=-1)]: Done  18 tasks      | elapsed:    0.3s\n",
      "\n",
      "[Parallel(n_jobs=-1)]: Done 168 tasks      | elapsed:    1.8s\n",
      "\n"
     ]
    },
    {
     "name": "stdout",
     "output_type": "stream",
     "text": [
      "3 CV - score: 0.5692                                                              \n",
      " 44%|████▍     | 12/27 [07:57<10:14, 40.96s/trial, best loss: -0.5953460782557423]"
     ]
    },
    {
     "name": "stderr",
     "output_type": "stream",
     "text": [
      "[Parallel(n_jobs=-1)]: Done 217 out of 217 | elapsed:    2.5s finished\n",
      "\n",
      "[Parallel(n_jobs=16)]: Using backend ThreadingBackend with 16 concurrent workers.\n",
      "\n",
      "[Parallel(n_jobs=16)]: Done  18 tasks      | elapsed:    0.0s\n",
      "\n",
      "[Parallel(n_jobs=16)]: Done 168 tasks      | elapsed:    0.1s\n",
      "\n",
      "[Parallel(n_jobs=16)]: Done 217 out of 217 | elapsed:    0.1s finished\n",
      "\n",
      "[Parallel(n_jobs=-1)]: Using backend ThreadingBackend with 16 concurrent workers.\n",
      "\n",
      "[Parallel(n_jobs=-1)]: Done  18 tasks      | elapsed:    0.4s\n",
      "\n",
      "[Parallel(n_jobs=-1)]: Done 168 tasks      | elapsed:    3.4s\n",
      "\n"
     ]
    },
    {
     "name": "stdout",
     "output_type": "stream",
     "text": [
      "4 CV - score: 0.581                                                               \n",
      " 44%|████▍     | 12/27 [08:01<10:14, 40.96s/trial, best loss: -0.5953460782557423]"
     ]
    },
    {
     "name": "stderr",
     "output_type": "stream",
     "text": [
      "[Parallel(n_jobs=-1)]: Done 217 out of 217 | elapsed:    4.2s finished\n",
      "\n",
      "[Parallel(n_jobs=16)]: Using backend ThreadingBackend with 16 concurrent workers.\n",
      "\n",
      "[Parallel(n_jobs=16)]: Done  18 tasks      | elapsed:    0.0s\n",
      "\n",
      "[Parallel(n_jobs=16)]: Done 168 tasks      | elapsed:    0.1s\n",
      "\n",
      "[Parallel(n_jobs=16)]: Done 217 out of 217 | elapsed:    0.1s finished\n",
      "\n",
      "[Parallel(n_jobs=-1)]: Using backend ThreadingBackend with 16 concurrent workers.\n",
      "\n",
      "[Parallel(n_jobs=-1)]: Done  18 tasks      | elapsed:    0.6s\n",
      "\n",
      "[Parallel(n_jobs=-1)]: Done 168 tasks      | elapsed:    3.3s\n",
      "\n"
     ]
    },
    {
     "name": "stdout",
     "output_type": "stream",
     "text": [
      "5 CV - score: 0.6035                                                              \n",
      " 44%|████▍     | 12/27 [08:06<10:14, 40.96s/trial, best loss: -0.5953460782557423]"
     ]
    },
    {
     "name": "stderr",
     "output_type": "stream",
     "text": [
      "[Parallel(n_jobs=-1)]: Done 217 out of 217 | elapsed:    4.2s finished\n",
      "\n",
      "[Parallel(n_jobs=16)]: Using backend ThreadingBackend with 16 concurrent workers.\n",
      "\n",
      "[Parallel(n_jobs=16)]: Done  18 tasks      | elapsed:    0.0s\n",
      "\n",
      "[Parallel(n_jobs=16)]: Done 168 tasks      | elapsed:    0.1s\n",
      "\n",
      "[Parallel(n_jobs=16)]: Done 217 out of 217 | elapsed:    0.1s finished\n",
      "\n",
      "[Parallel(n_jobs=-1)]: Using backend ThreadingBackend with 16 concurrent workers.\n",
      "\n",
      "[Parallel(n_jobs=-1)]: Done  18 tasks      | elapsed:    0.6s\n",
      "\n",
      "[Parallel(n_jobs=-1)]: Done 168 tasks      | elapsed:    5.0s\n",
      "\n"
     ]
    },
    {
     "name": "stdout",
     "output_type": "stream",
     "text": [
      "6 CV - score: 0.6201                                                              \n",
      " 44%|████▍     | 12/27 [08:12<10:14, 40.96s/trial, best loss: -0.5953460782557423]"
     ]
    },
    {
     "name": "stderr",
     "output_type": "stream",
     "text": [
      "[Parallel(n_jobs=-1)]: Done 217 out of 217 | elapsed:    6.4s finished\n",
      "\n",
      "[Parallel(n_jobs=16)]: Using backend ThreadingBackend with 16 concurrent workers.\n",
      "\n",
      "[Parallel(n_jobs=16)]: Done  18 tasks      | elapsed:    0.0s\n",
      "\n",
      "[Parallel(n_jobs=16)]: Done 168 tasks      | elapsed:    0.1s\n",
      "\n",
      "[Parallel(n_jobs=16)]: Done 217 out of 217 | elapsed:    0.1s finished\n",
      "\n",
      "[Parallel(n_jobs=-1)]: Using backend ThreadingBackend with 16 concurrent workers.\n",
      "\n",
      "[Parallel(n_jobs=-1)]: Done  18 tasks      | elapsed:    0.8s\n",
      "\n",
      "[Parallel(n_jobs=-1)]: Done 168 tasks      | elapsed:    5.7s\n",
      "\n"
     ]
    },
    {
     "name": "stdout",
     "output_type": "stream",
     "text": [
      "7 CV - score: 0.5772                                                              \n",
      "Total Time Run: 0.49                                                              \n",
      " 44%|████▍     | 12/27 [08:20<10:14, 40.96s/trial, best loss: -0.5953460782557423]"
     ]
    },
    {
     "name": "stderr",
     "output_type": "stream",
     "text": [
      "[Parallel(n_jobs=-1)]: Done 217 out of 217 | elapsed:    7.2s finished\n",
      "\n",
      "[Parallel(n_jobs=16)]: Using backend ThreadingBackend with 16 concurrent workers.\n",
      "\n",
      "[Parallel(n_jobs=16)]: Done  18 tasks      | elapsed:    0.0s\n",
      "\n",
      "[Parallel(n_jobs=16)]: Done 168 tasks      | elapsed:    0.1s\n",
      "\n",
      "[Parallel(n_jobs=16)]: Done 217 out of 217 | elapsed:    0.1s finished\n",
      "\n"
     ]
    },
    {
     "name": "stdout",
     "output_type": "stream",
     "text": [
      "Mean F1-Score: 0.5811751976257578                                                 \n",
      "                                                                                  \n",
      "############## New Run ################\n",
      "params = {'n_estimators': 262, 'criterion': 'entropy', 'max_features': 'sqrt', 'min_samples_split': 3, 'max_depth': 23, 'min_samples_leaf': 16}\n",
      " 48%|████▊     | 13/27 [08:20<08:44, 37.47s/trial, best loss: -0.5953460782557423]"
     ]
    },
    {
     "name": "stderr",
     "output_type": "stream",
     "text": [
      "[Parallel(n_jobs=-1)]: Using backend ThreadingBackend with 16 concurrent workers.\n",
      "\n",
      "[Parallel(n_jobs=-1)]: Done  18 tasks      | elapsed:    0.3s\n",
      "\n",
      "[Parallel(n_jobs=-1)]: Done 168 tasks      | elapsed:    2.0s\n",
      "\n"
     ]
    },
    {
     "name": "stdout",
     "output_type": "stream",
     "text": [
      "1 CV - score: 0.5648                                                              \n",
      " 48%|████▊     | 13/27 [08:23<08:44, 37.47s/trial, best loss: -0.5953460782557423]"
     ]
    },
    {
     "name": "stderr",
     "output_type": "stream",
     "text": [
      "[Parallel(n_jobs=-1)]: Done 262 out of 262 | elapsed:    3.0s finished\n",
      "\n",
      "[Parallel(n_jobs=16)]: Using backend ThreadingBackend with 16 concurrent workers.\n",
      "\n",
      "[Parallel(n_jobs=16)]: Done  18 tasks      | elapsed:    0.0s\n",
      "\n",
      "[Parallel(n_jobs=16)]: Done 168 tasks      | elapsed:    0.1s\n",
      "\n",
      "[Parallel(n_jobs=16)]: Done 262 out of 262 | elapsed:    0.1s finished\n",
      "\n",
      "[Parallel(n_jobs=-1)]: Using backend ThreadingBackend with 16 concurrent workers.\n",
      "\n",
      "[Parallel(n_jobs=-1)]: Done  18 tasks      | elapsed:    0.6s\n",
      "\n",
      "[Parallel(n_jobs=-1)]: Done 168 tasks      | elapsed:    3.4s\n",
      "\n"
     ]
    },
    {
     "name": "stdout",
     "output_type": "stream",
     "text": [
      "2 CV - score: 0.5987                                                              \n",
      " 48%|████▊     | 13/27 [08:29<08:44, 37.47s/trial, best loss: -0.5953460782557423]"
     ]
    },
    {
     "name": "stderr",
     "output_type": "stream",
     "text": [
      "[Parallel(n_jobs=-1)]: Done 262 out of 262 | elapsed:    5.0s finished\n",
      "\n",
      "[Parallel(n_jobs=16)]: Using backend ThreadingBackend with 16 concurrent workers.\n",
      "\n",
      "[Parallel(n_jobs=16)]: Done  18 tasks      | elapsed:    0.0s\n",
      "\n",
      "[Parallel(n_jobs=16)]: Done 168 tasks      | elapsed:    0.1s\n",
      "\n",
      "[Parallel(n_jobs=16)]: Done 262 out of 262 | elapsed:    0.1s finished\n",
      "\n",
      "[Parallel(n_jobs=-1)]: Using backend ThreadingBackend with 16 concurrent workers.\n",
      "\n",
      "[Parallel(n_jobs=-1)]: Done  18 tasks      | elapsed:    0.8s\n",
      "\n",
      "[Parallel(n_jobs=-1)]: Done 168 tasks      | elapsed:    6.6s\n",
      "\n"
     ]
    },
    {
     "name": "stdout",
     "output_type": "stream",
     "text": [
      "3 CV - score: 0.5808                                                              \n",
      " 48%|████▊     | 13/27 [08:39<08:44, 37.47s/trial, best loss: -0.5953460782557423]"
     ]
    },
    {
     "name": "stderr",
     "output_type": "stream",
     "text": [
      "[Parallel(n_jobs=-1)]: Done 262 out of 262 | elapsed:   10.0s finished\n",
      "\n",
      "[Parallel(n_jobs=16)]: Using backend ThreadingBackend with 16 concurrent workers.\n",
      "\n",
      "[Parallel(n_jobs=16)]: Done  18 tasks      | elapsed:    0.0s\n",
      "\n",
      "[Parallel(n_jobs=16)]: Done 168 tasks      | elapsed:    0.1s\n",
      "\n",
      "[Parallel(n_jobs=16)]: Done 262 out of 262 | elapsed:    0.1s finished\n",
      "\n",
      "[Parallel(n_jobs=-1)]: Using backend ThreadingBackend with 16 concurrent workers.\n",
      "\n",
      "[Parallel(n_jobs=-1)]: Done  18 tasks      | elapsed:    1.2s\n",
      "\n",
      "[Parallel(n_jobs=-1)]: Done 168 tasks      | elapsed:    8.6s\n",
      "\n"
     ]
    },
    {
     "name": "stdout",
     "output_type": "stream",
     "text": [
      "4 CV - score: 0.592                                                               \n",
      " 48%|████▊     | 13/27 [08:53<08:44, 37.47s/trial, best loss: -0.5953460782557423]"
     ]
    },
    {
     "name": "stderr",
     "output_type": "stream",
     "text": [
      "[Parallel(n_jobs=-1)]: Done 262 out of 262 | elapsed:   13.4s finished\n",
      "\n",
      "[Parallel(n_jobs=16)]: Using backend ThreadingBackend with 16 concurrent workers.\n",
      "\n",
      "[Parallel(n_jobs=16)]: Done  18 tasks      | elapsed:    0.0s\n",
      "\n",
      "[Parallel(n_jobs=16)]: Done 168 tasks      | elapsed:    0.1s\n",
      "\n",
      "[Parallel(n_jobs=16)]: Done 262 out of 262 | elapsed:    0.2s finished\n",
      "\n",
      "[Parallel(n_jobs=-1)]: Using backend ThreadingBackend with 16 concurrent workers.\n",
      "\n",
      "[Parallel(n_jobs=-1)]: Done  18 tasks      | elapsed:    1.5s\n",
      "\n",
      "[Parallel(n_jobs=-1)]: Done 168 tasks      | elapsed:   10.8s\n",
      "\n"
     ]
    },
    {
     "name": "stdout",
     "output_type": "stream",
     "text": [
      "5 CV - score: 0.6022                                                              \n",
      " 48%|████▊     | 13/27 [09:10<08:44, 37.47s/trial, best loss: -0.5953460782557423]"
     ]
    },
    {
     "name": "stderr",
     "output_type": "stream",
     "text": [
      "[Parallel(n_jobs=-1)]: Done 262 out of 262 | elapsed:   16.9s finished\n",
      "\n",
      "[Parallel(n_jobs=16)]: Using backend ThreadingBackend with 16 concurrent workers.\n",
      "\n",
      "[Parallel(n_jobs=16)]: Done  18 tasks      | elapsed:    0.0s\n",
      "\n",
      "[Parallel(n_jobs=16)]: Done 168 tasks      | elapsed:    0.1s\n",
      "\n",
      "[Parallel(n_jobs=16)]: Done 262 out of 262 | elapsed:    0.1s finished\n",
      "\n",
      "[Parallel(n_jobs=-1)]: Using backend ThreadingBackend with 16 concurrent workers.\n",
      "\n",
      "[Parallel(n_jobs=-1)]: Done  18 tasks      | elapsed:    2.3s\n",
      "\n",
      "[Parallel(n_jobs=-1)]: Done 168 tasks      | elapsed:   14.0s\n",
      "\n"
     ]
    },
    {
     "name": "stdout",
     "output_type": "stream",
     "text": [
      "6 CV - score: 0.6218                                                              \n",
      " 48%|████▊     | 13/27 [09:31<08:44, 37.47s/trial, best loss: -0.5953460782557423]"
     ]
    },
    {
     "name": "stderr",
     "output_type": "stream",
     "text": [
      "[Parallel(n_jobs=-1)]: Done 262 out of 262 | elapsed:   20.4s finished\n",
      "\n",
      "[Parallel(n_jobs=16)]: Using backend ThreadingBackend with 16 concurrent workers.\n",
      "\n",
      "[Parallel(n_jobs=16)]: Done  18 tasks      | elapsed:    0.0s\n",
      "\n",
      "[Parallel(n_jobs=16)]: Done 168 tasks      | elapsed:    0.1s\n",
      "\n",
      "[Parallel(n_jobs=16)]: Done 262 out of 262 | elapsed:    0.1s finished\n",
      "\n",
      "[Parallel(n_jobs=-1)]: Using backend ThreadingBackend with 16 concurrent workers.\n",
      "\n",
      "[Parallel(n_jobs=-1)]: Done  18 tasks      | elapsed:    2.9s\n",
      "\n",
      "[Parallel(n_jobs=-1)]: Done 168 tasks      | elapsed:   17.1s\n",
      "\n"
     ]
    },
    {
     "name": "stdout",
     "output_type": "stream",
     "text": [
      "7 CV - score: 0.5867                                                              \n",
      "Total Time Run: 1.59                                                              \n",
      " 48%|████▊     | 13/27 [09:56<08:44, 37.47s/trial, best loss: -0.5953460782557423]"
     ]
    },
    {
     "name": "stderr",
     "output_type": "stream",
     "text": [
      "[Parallel(n_jobs=-1)]: Done 262 out of 262 | elapsed:   24.8s finished\n",
      "\n",
      "[Parallel(n_jobs=16)]: Using backend ThreadingBackend with 16 concurrent workers.\n",
      "\n",
      "[Parallel(n_jobs=16)]: Done  18 tasks      | elapsed:    0.0s\n",
      "\n",
      "[Parallel(n_jobs=16)]: Done 168 tasks      | elapsed:    0.1s\n",
      "\n",
      "[Parallel(n_jobs=16)]: Done 262 out of 262 | elapsed:    0.1s finished\n",
      "\n"
     ]
    },
    {
     "name": "stdout",
     "output_type": "stream",
     "text": [
      "Mean F1-Score: 0.5924450681013458                                                 \n",
      "                                                                                  \n",
      "############## New Run ################\n",
      "params = {'n_estimators': 115, 'criterion': 'gini', 'max_features': 'auto', 'min_samples_split': 7, 'max_depth': 15, 'min_samples_leaf': 20}\n",
      " 52%|█████▏    | 14/27 [09:56<11:56, 55.12s/trial, best loss: -0.5953460782557423]"
     ]
    },
    {
     "name": "stderr",
     "output_type": "stream",
     "text": [
      "[Parallel(n_jobs=-1)]: Using backend ThreadingBackend with 16 concurrent workers.\n",
      "\n",
      "[Parallel(n_jobs=-1)]: Done  18 tasks      | elapsed:    0.1s\n",
      "\n"
     ]
    },
    {
     "name": "stdout",
     "output_type": "stream",
     "text": [
      "1 CV - score: 0.5423                                                              \n",
      " 52%|█████▏    | 14/27 [09:57<11:56, 55.12s/trial, best loss: -0.5953460782557423]"
     ]
    },
    {
     "name": "stderr",
     "output_type": "stream",
     "text": [
      "[Parallel(n_jobs=-1)]: Done 115 out of 115 | elapsed:    0.5s finished\n",
      "\n",
      "[Parallel(n_jobs=16)]: Using backend ThreadingBackend with 16 concurrent workers.\n",
      "\n",
      "[Parallel(n_jobs=16)]: Done  18 tasks      | elapsed:    0.0s\n",
      "\n",
      "[Parallel(n_jobs=16)]: Done 115 out of 115 | elapsed:    0.1s finished\n",
      "\n",
      "[Parallel(n_jobs=-1)]: Using backend ThreadingBackend with 16 concurrent workers.\n",
      "\n",
      "[Parallel(n_jobs=-1)]: Done  18 tasks      | elapsed:    0.3s\n",
      "\n"
     ]
    },
    {
     "name": "stdout",
     "output_type": "stream",
     "text": [
      "2 CV - score: 0.5745                                                              \n",
      " 52%|█████▏    | 14/27 [09:58<11:56, 55.12s/trial, best loss: -0.5953460782557423]"
     ]
    },
    {
     "name": "stderr",
     "output_type": "stream",
     "text": [
      "[Parallel(n_jobs=-1)]: Done 115 out of 115 | elapsed:    1.0s finished\n",
      "\n",
      "[Parallel(n_jobs=16)]: Using backend ThreadingBackend with 16 concurrent workers.\n",
      "\n",
      "[Parallel(n_jobs=16)]: Done  18 tasks      | elapsed:    0.0s\n",
      "\n",
      "[Parallel(n_jobs=16)]: Done 115 out of 115 | elapsed:    0.1s finished\n",
      "\n",
      "[Parallel(n_jobs=-1)]: Using backend ThreadingBackend with 16 concurrent workers.\n",
      "\n",
      "[Parallel(n_jobs=-1)]: Done  18 tasks      | elapsed:    0.3s\n",
      "\n"
     ]
    },
    {
     "name": "stdout",
     "output_type": "stream",
     "text": [
      "3 CV - score: 0.5608                                                              \n",
      " 52%|█████▏    | 14/27 [10:00<11:56, 55.12s/trial, best loss: -0.5953460782557423]"
     ]
    },
    {
     "name": "stderr",
     "output_type": "stream",
     "text": [
      "[Parallel(n_jobs=-1)]: Done 115 out of 115 | elapsed:    1.6s finished\n",
      "\n",
      "[Parallel(n_jobs=16)]: Using backend ThreadingBackend with 16 concurrent workers.\n",
      "\n",
      "[Parallel(n_jobs=16)]: Done  18 tasks      | elapsed:    0.0s\n",
      "\n",
      "[Parallel(n_jobs=16)]: Done 115 out of 115 | elapsed:    0.1s finished\n",
      "\n",
      "[Parallel(n_jobs=-1)]: Using backend ThreadingBackend with 16 concurrent workers.\n",
      "\n",
      "[Parallel(n_jobs=-1)]: Done  18 tasks      | elapsed:    0.6s\n",
      "\n"
     ]
    },
    {
     "name": "stdout",
     "output_type": "stream",
     "text": [
      "4 CV - score: 0.5819                                                              \n",
      " 52%|█████▏    | 14/27 [10:02<11:56, 55.12s/trial, best loss: -0.5953460782557423]"
     ]
    },
    {
     "name": "stderr",
     "output_type": "stream",
     "text": [
      "[Parallel(n_jobs=-1)]: Done 115 out of 115 | elapsed:    2.0s finished\n",
      "\n",
      "[Parallel(n_jobs=16)]: Using backend ThreadingBackend with 16 concurrent workers.\n",
      "\n",
      "[Parallel(n_jobs=16)]: Done  18 tasks      | elapsed:    0.0s\n",
      "\n",
      "[Parallel(n_jobs=16)]: Done 115 out of 115 | elapsed:    0.1s finished\n",
      "\n",
      "[Parallel(n_jobs=-1)]: Using backend ThreadingBackend with 16 concurrent workers.\n",
      "\n",
      "[Parallel(n_jobs=-1)]: Done  18 tasks      | elapsed:    0.6s\n",
      "\n"
     ]
    },
    {
     "name": "stdout",
     "output_type": "stream",
     "text": [
      "5 CV - score: 0.6001                                                              \n",
      " 52%|█████▏    | 14/27 [10:05<11:56, 55.12s/trial, best loss: -0.5953460782557423]"
     ]
    },
    {
     "name": "stderr",
     "output_type": "stream",
     "text": [
      "[Parallel(n_jobs=-1)]: Done 115 out of 115 | elapsed:    2.8s finished\n",
      "\n",
      "[Parallel(n_jobs=16)]: Using backend ThreadingBackend with 16 concurrent workers.\n",
      "\n",
      "[Parallel(n_jobs=16)]: Done  18 tasks      | elapsed:    0.0s\n",
      "\n",
      "[Parallel(n_jobs=16)]: Done 115 out of 115 | elapsed:    0.1s finished\n",
      "\n",
      "[Parallel(n_jobs=-1)]: Using backend ThreadingBackend with 16 concurrent workers.\n",
      "\n",
      "[Parallel(n_jobs=-1)]: Done  18 tasks      | elapsed:    0.8s\n",
      "\n"
     ]
    },
    {
     "name": "stdout",
     "output_type": "stream",
     "text": [
      "6 CV - score: 0.6228                                                              \n",
      " 52%|█████▏    | 14/27 [10:09<11:56, 55.12s/trial, best loss: -0.5953460782557423]"
     ]
    },
    {
     "name": "stderr",
     "output_type": "stream",
     "text": [
      "[Parallel(n_jobs=-1)]: Done 115 out of 115 | elapsed:    3.6s finished\n",
      "\n",
      "[Parallel(n_jobs=16)]: Using backend ThreadingBackend with 16 concurrent workers.\n",
      "\n",
      "[Parallel(n_jobs=16)]: Done  18 tasks      | elapsed:    0.0s\n",
      "\n",
      "[Parallel(n_jobs=16)]: Done 115 out of 115 | elapsed:    0.1s finished\n",
      "\n",
      "[Parallel(n_jobs=-1)]: Using backend ThreadingBackend with 16 concurrent workers.\n",
      "\n",
      "[Parallel(n_jobs=-1)]: Done  18 tasks      | elapsed:    0.8s\n",
      "\n"
     ]
    },
    {
     "name": "stdout",
     "output_type": "stream",
     "text": [
      "7 CV - score: 0.5828                                                              \n",
      "Total Time Run: 0.28                                                              \n",
      " 52%|█████▏    | 14/27 [10:13<11:56, 55.12s/trial, best loss: -0.5953460782557423]"
     ]
    },
    {
     "name": "stderr",
     "output_type": "stream",
     "text": [
      "[Parallel(n_jobs=-1)]: Done 115 out of 115 | elapsed:    3.5s finished\n",
      "\n",
      "[Parallel(n_jobs=16)]: Using backend ThreadingBackend with 16 concurrent workers.\n",
      "\n",
      "[Parallel(n_jobs=16)]: Done  18 tasks      | elapsed:    0.0s\n",
      "\n",
      "[Parallel(n_jobs=16)]: Done 115 out of 115 | elapsed:    0.1s finished\n",
      "\n"
     ]
    },
    {
     "name": "stdout",
     "output_type": "stream",
     "text": [
      "Mean F1-Score: 0.580734989904995                                                  \n",
      "                                                                                  \n",
      "############## New Run ################\n",
      "params = {'n_estimators': 214, 'criterion': 'gini', 'max_features': 'auto', 'min_samples_split': 5, 'max_depth': 12, 'min_samples_leaf': 20}\n",
      " 56%|█████▌    | 15/27 [10:13<08:43, 43.60s/trial, best loss: -0.5953460782557423]"
     ]
    },
    {
     "name": "stderr",
     "output_type": "stream",
     "text": [
      "[Parallel(n_jobs=-1)]: Using backend ThreadingBackend with 16 concurrent workers.\n",
      "\n",
      "[Parallel(n_jobs=-1)]: Done  18 tasks      | elapsed:    0.1s\n",
      "\n",
      "[Parallel(n_jobs=-1)]: Done 168 tasks      | elapsed:    0.7s\n",
      "\n",
      "[Parallel(n_jobs=-1)]: Done 214 out of 214 | elapsed:    0.8s finished\n",
      "\n"
     ]
    },
    {
     "name": "stdout",
     "output_type": "stream",
     "text": [
      "1 CV - score: 0.5344                                                              \n",
      " 56%|█████▌    | 15/27 [10:14<08:43, 43.60s/trial, best loss: -0.5953460782557423]"
     ]
    },
    {
     "name": "stderr",
     "output_type": "stream",
     "text": [
      "[Parallel(n_jobs=16)]: Using backend ThreadingBackend with 16 concurrent workers.\n",
      "\n",
      "[Parallel(n_jobs=16)]: Done  18 tasks      | elapsed:    0.0s\n",
      "\n",
      "[Parallel(n_jobs=16)]: Done 168 tasks      | elapsed:    0.1s\n",
      "\n",
      "[Parallel(n_jobs=16)]: Done 214 out of 214 | elapsed:    0.1s finished\n",
      "\n",
      "[Parallel(n_jobs=-1)]: Using backend ThreadingBackend with 16 concurrent workers.\n",
      "\n",
      "[Parallel(n_jobs=-1)]: Done  18 tasks      | elapsed:    0.2s\n",
      "\n",
      "[Parallel(n_jobs=-1)]: Done 168 tasks      | elapsed:    1.1s\n",
      "\n"
     ]
    },
    {
     "name": "stdout",
     "output_type": "stream",
     "text": [
      "2 CV - score: 0.5738                                                              \n",
      " 56%|█████▌    | 15/27 [10:16<08:43, 43.60s/trial, best loss: -0.5953460782557423]"
     ]
    },
    {
     "name": "stderr",
     "output_type": "stream",
     "text": [
      "[Parallel(n_jobs=-1)]: Done 214 out of 214 | elapsed:    1.3s finished\n",
      "\n",
      "[Parallel(n_jobs=16)]: Using backend ThreadingBackend with 16 concurrent workers.\n",
      "\n",
      "[Parallel(n_jobs=16)]: Done  18 tasks      | elapsed:    0.0s\n",
      "\n",
      "[Parallel(n_jobs=16)]: Done 168 tasks      | elapsed:    0.1s\n",
      "\n",
      "[Parallel(n_jobs=16)]: Done 214 out of 214 | elapsed:    0.1s finished\n",
      "\n",
      "[Parallel(n_jobs=-1)]: Using backend ThreadingBackend with 16 concurrent workers.\n",
      "\n",
      "[Parallel(n_jobs=-1)]: Done  18 tasks      | elapsed:    0.4s\n",
      "\n",
      "[Parallel(n_jobs=-1)]: Done 168 tasks      | elapsed:    2.7s\n",
      "\n"
     ]
    },
    {
     "name": "stdout",
     "output_type": "stream",
     "text": [
      "3 CV - score: 0.5663                                                              \n",
      " 56%|█████▌    | 15/27 [10:19<08:43, 43.60s/trial, best loss: -0.5953460782557423]"
     ]
    },
    {
     "name": "stderr",
     "output_type": "stream",
     "text": [
      "[Parallel(n_jobs=-1)]: Done 214 out of 214 | elapsed:    3.3s finished\n",
      "\n",
      "[Parallel(n_jobs=16)]: Using backend ThreadingBackend with 16 concurrent workers.\n",
      "\n",
      "[Parallel(n_jobs=16)]: Done  18 tasks      | elapsed:    0.0s\n",
      "\n",
      "[Parallel(n_jobs=16)]: Done 168 tasks      | elapsed:    0.1s\n",
      "\n",
      "[Parallel(n_jobs=16)]: Done 214 out of 214 | elapsed:    0.1s finished\n",
      "\n",
      "[Parallel(n_jobs=-1)]: Using backend ThreadingBackend with 16 concurrent workers.\n",
      "\n",
      "[Parallel(n_jobs=-1)]: Done  18 tasks      | elapsed:    0.4s\n",
      "\n",
      "[Parallel(n_jobs=-1)]: Done 168 tasks      | elapsed:    3.3s\n",
      "\n"
     ]
    },
    {
     "name": "stdout",
     "output_type": "stream",
     "text": [
      "4 CV - score: 0.5945                                                              \n",
      " 56%|█████▌    | 15/27 [10:24<08:43, 43.60s/trial, best loss: -0.5953460782557423]"
     ]
    },
    {
     "name": "stderr",
     "output_type": "stream",
     "text": [
      "[Parallel(n_jobs=-1)]: Done 214 out of 214 | elapsed:    4.1s finished\n",
      "\n",
      "[Parallel(n_jobs=16)]: Using backend ThreadingBackend with 16 concurrent workers.\n",
      "\n",
      "[Parallel(n_jobs=16)]: Done  18 tasks      | elapsed:    0.0s\n",
      "\n",
      "[Parallel(n_jobs=16)]: Done 168 tasks      | elapsed:    0.1s\n",
      "\n",
      "[Parallel(n_jobs=16)]: Done 214 out of 214 | elapsed:    0.1s finished\n",
      "\n",
      "[Parallel(n_jobs=-1)]: Using backend ThreadingBackend with 16 concurrent workers.\n",
      "\n",
      "[Parallel(n_jobs=-1)]: Done  18 tasks      | elapsed:    0.6s\n",
      "\n",
      "[Parallel(n_jobs=-1)]: Done 168 tasks      | elapsed:    4.2s\n",
      "\n"
     ]
    },
    {
     "name": "stdout",
     "output_type": "stream",
     "text": [
      "5 CV - score: 0.5983                                                              \n",
      " 56%|█████▌    | 15/27 [10:29<08:43, 43.60s/trial, best loss: -0.5953460782557423]"
     ]
    },
    {
     "name": "stderr",
     "output_type": "stream",
     "text": [
      "[Parallel(n_jobs=-1)]: Done 214 out of 214 | elapsed:    5.2s finished\n",
      "\n",
      "[Parallel(n_jobs=16)]: Using backend ThreadingBackend with 16 concurrent workers.\n",
      "\n",
      "[Parallel(n_jobs=16)]: Done  18 tasks      | elapsed:    0.0s\n",
      "\n",
      "[Parallel(n_jobs=16)]: Done 168 tasks      | elapsed:    0.1s\n",
      "\n",
      "[Parallel(n_jobs=16)]: Done 214 out of 214 | elapsed:    0.1s finished\n",
      "\n",
      "[Parallel(n_jobs=-1)]: Using backend ThreadingBackend with 16 concurrent workers.\n",
      "\n",
      "[Parallel(n_jobs=-1)]: Done  18 tasks      | elapsed:    0.7s\n",
      "\n",
      "[Parallel(n_jobs=-1)]: Done 168 tasks      | elapsed:    4.4s\n",
      "\n"
     ]
    },
    {
     "name": "stdout",
     "output_type": "stream",
     "text": [
      "6 CV - score: 0.6205                                                              \n",
      " 56%|█████▌    | 15/27 [10:35<08:43, 43.60s/trial, best loss: -0.5953460782557423]"
     ]
    },
    {
     "name": "stderr",
     "output_type": "stream",
     "text": [
      "[Parallel(n_jobs=-1)]: Done 214 out of 214 | elapsed:    5.3s finished\n",
      "\n",
      "[Parallel(n_jobs=16)]: Using backend ThreadingBackend with 16 concurrent workers.\n",
      "\n",
      "[Parallel(n_jobs=16)]: Done  18 tasks      | elapsed:    0.0s\n",
      "\n",
      "[Parallel(n_jobs=16)]: Done 168 tasks      | elapsed:    0.1s\n",
      "\n",
      "[Parallel(n_jobs=16)]: Done 214 out of 214 | elapsed:    0.1s finished\n",
      "\n",
      "[Parallel(n_jobs=-1)]: Using backend ThreadingBackend with 16 concurrent workers.\n",
      "\n",
      "[Parallel(n_jobs=-1)]: Done  18 tasks      | elapsed:    0.8s\n",
      "\n",
      "[Parallel(n_jobs=-1)]: Done 168 tasks      | elapsed:    5.2s\n",
      "\n"
     ]
    },
    {
     "name": "stdout",
     "output_type": "stream",
     "text": [
      "7 CV - score: 0.5847                                                              \n",
      "Total Time Run: 0.48                                                              \n",
      " 56%|█████▌    | 15/27 [10:42<08:43, 43.60s/trial, best loss: -0.5953460782557423]"
     ]
    },
    {
     "name": "stderr",
     "output_type": "stream",
     "text": [
      "[Parallel(n_jobs=-1)]: Done 214 out of 214 | elapsed:    6.7s finished\n",
      "\n",
      "[Parallel(n_jobs=16)]: Using backend ThreadingBackend with 16 concurrent workers.\n",
      "\n",
      "[Parallel(n_jobs=16)]: Done  18 tasks      | elapsed:    0.0s\n",
      "\n",
      "[Parallel(n_jobs=16)]: Done 168 tasks      | elapsed:    0.1s\n",
      "\n",
      "[Parallel(n_jobs=16)]: Done 214 out of 214 | elapsed:    0.1s finished\n",
      "\n"
     ]
    },
    {
     "name": "stdout",
     "output_type": "stream",
     "text": [
      "Mean F1-Score: 0.5817875840639383                                                 \n",
      "                                                                                  \n",
      "############## New Run ################\n",
      "params = {'n_estimators': 215, 'criterion': 'entropy', 'max_features': 'sqrt', 'min_samples_split': 18, 'max_depth': 18, 'min_samples_leaf': 5}\n",
      " 59%|█████▉    | 16/27 [10:42<07:11, 39.23s/trial, best loss: -0.5953460782557423]"
     ]
    },
    {
     "name": "stderr",
     "output_type": "stream",
     "text": [
      "[Parallel(n_jobs=-1)]: Using backend ThreadingBackend with 16 concurrent workers.\n",
      "\n",
      "[Parallel(n_jobs=-1)]: Done  18 tasks      | elapsed:    0.4s\n",
      "\n",
      "[Parallel(n_jobs=-1)]: Done 168 tasks      | elapsed:    2.1s\n",
      "\n"
     ]
    },
    {
     "name": "stdout",
     "output_type": "stream",
     "text": [
      "1 CV - score: 0.5603                                                              \n",
      " 59%|█████▉    | 16/27 [10:45<07:11, 39.23s/trial, best loss: -0.5953460782557423]"
     ]
    },
    {
     "name": "stderr",
     "output_type": "stream",
     "text": [
      "[Parallel(n_jobs=-1)]: Done 215 out of 215 | elapsed:    2.7s finished\n",
      "\n",
      "[Parallel(n_jobs=16)]: Using backend ThreadingBackend with 16 concurrent workers.\n",
      "\n",
      "[Parallel(n_jobs=16)]: Done  18 tasks      | elapsed:    0.0s\n",
      "\n",
      "[Parallel(n_jobs=16)]: Done 168 tasks      | elapsed:    0.1s\n",
      "\n",
      "[Parallel(n_jobs=16)]: Done 215 out of 215 | elapsed:    0.1s finished\n",
      "\n",
      "[Parallel(n_jobs=-1)]: Using backend ThreadingBackend with 16 concurrent workers.\n",
      "\n",
      "[Parallel(n_jobs=-1)]: Done  18 tasks      | elapsed:    0.9s\n",
      "\n",
      "[Parallel(n_jobs=-1)]: Done 168 tasks      | elapsed:    4.9s\n",
      "\n"
     ]
    },
    {
     "name": "stdout",
     "output_type": "stream",
     "text": [
      "2 CV - score: 0.594                                                               \n",
      " 59%|█████▉    | 16/27 [10:51<07:11, 39.23s/trial, best loss: -0.5953460782557423]"
     ]
    },
    {
     "name": "stderr",
     "output_type": "stream",
     "text": [
      "[Parallel(n_jobs=-1)]: Done 215 out of 215 | elapsed:    5.9s finished\n",
      "\n",
      "[Parallel(n_jobs=16)]: Using backend ThreadingBackend with 16 concurrent workers.\n",
      "\n",
      "[Parallel(n_jobs=16)]: Done  18 tasks      | elapsed:    0.0s\n",
      "\n",
      "[Parallel(n_jobs=16)]: Done 168 tasks      | elapsed:    0.1s\n",
      "\n",
      "[Parallel(n_jobs=16)]: Done 215 out of 215 | elapsed:    0.1s finished\n",
      "\n",
      "[Parallel(n_jobs=-1)]: Using backend ThreadingBackend with 16 concurrent workers.\n",
      "\n",
      "[Parallel(n_jobs=-1)]: Done  18 tasks      | elapsed:    1.2s\n",
      "\n",
      "[Parallel(n_jobs=-1)]: Done 168 tasks      | elapsed:    7.4s\n",
      "\n"
     ]
    },
    {
     "name": "stdout",
     "output_type": "stream",
     "text": [
      "3 CV - score: 0.5813                                                              \n",
      " 59%|█████▉    | 16/27 [11:00<07:11, 39.23s/trial, best loss: -0.5953460782557423]"
     ]
    },
    {
     "name": "stderr",
     "output_type": "stream",
     "text": [
      "[Parallel(n_jobs=-1)]: Done 215 out of 215 | elapsed:    8.9s finished\n",
      "\n",
      "[Parallel(n_jobs=16)]: Using backend ThreadingBackend with 16 concurrent workers.\n",
      "\n",
      "[Parallel(n_jobs=16)]: Done  18 tasks      | elapsed:    0.0s\n",
      "\n",
      "[Parallel(n_jobs=16)]: Done 168 tasks      | elapsed:    0.1s\n",
      "\n",
      "[Parallel(n_jobs=16)]: Done 215 out of 215 | elapsed:    0.1s finished\n",
      "\n",
      "[Parallel(n_jobs=-1)]: Using backend ThreadingBackend with 16 concurrent workers.\n",
      "\n",
      "[Parallel(n_jobs=-1)]: Done  18 tasks      | elapsed:    1.4s\n",
      "\n",
      "[Parallel(n_jobs=-1)]: Done 168 tasks      | elapsed:   10.4s\n",
      "\n"
     ]
    },
    {
     "name": "stdout",
     "output_type": "stream",
     "text": [
      "4 CV - score: 0.6014                                                              \n",
      " 59%|█████▉    | 16/27 [11:14<07:11, 39.23s/trial, best loss: -0.5953460782557423]"
     ]
    },
    {
     "name": "stderr",
     "output_type": "stream",
     "text": [
      "[Parallel(n_jobs=-1)]: Done 215 out of 215 | elapsed:   13.1s finished\n",
      "\n",
      "[Parallel(n_jobs=16)]: Using backend ThreadingBackend with 16 concurrent workers.\n",
      "\n",
      "[Parallel(n_jobs=16)]: Done  18 tasks      | elapsed:    0.0s\n",
      "\n",
      "[Parallel(n_jobs=16)]: Done 168 tasks      | elapsed:    0.1s\n",
      "\n",
      "[Parallel(n_jobs=16)]: Done 215 out of 215 | elapsed:    0.1s finished\n",
      "\n",
      "[Parallel(n_jobs=-1)]: Using backend ThreadingBackend with 16 concurrent workers.\n",
      "\n",
      "[Parallel(n_jobs=-1)]: Done  18 tasks      | elapsed:    2.3s\n",
      "\n",
      "[Parallel(n_jobs=-1)]: Done 168 tasks      | elapsed:   13.9s\n",
      "\n"
     ]
    },
    {
     "name": "stdout",
     "output_type": "stream",
     "text": [
      "5 CV - score: 0.6026                                                              \n",
      " 59%|█████▉    | 16/27 [11:31<07:11, 39.23s/trial, best loss: -0.5953460782557423]"
     ]
    },
    {
     "name": "stderr",
     "output_type": "stream",
     "text": [
      "[Parallel(n_jobs=-1)]: Done 215 out of 215 | elapsed:   16.7s finished\n",
      "\n",
      "[Parallel(n_jobs=16)]: Using backend ThreadingBackend with 16 concurrent workers.\n",
      "\n",
      "[Parallel(n_jobs=16)]: Done  18 tasks      | elapsed:    0.0s\n",
      "\n",
      "[Parallel(n_jobs=16)]: Done 168 tasks      | elapsed:    0.1s\n",
      "\n",
      "[Parallel(n_jobs=16)]: Done 215 out of 215 | elapsed:    0.1s finished\n",
      "\n",
      "[Parallel(n_jobs=-1)]: Using backend ThreadingBackend with 16 concurrent workers.\n",
      "\n",
      "[Parallel(n_jobs=-1)]: Done  18 tasks      | elapsed:    2.3s\n",
      "\n",
      "[Parallel(n_jobs=-1)]: Done 168 tasks      | elapsed:   17.3s\n",
      "\n"
     ]
    },
    {
     "name": "stdout",
     "output_type": "stream",
     "text": [
      "6 CV - score: 0.6351                                                              \n",
      " 59%|█████▉    | 16/27 [11:52<07:11, 39.23s/trial, best loss: -0.5953460782557423]"
     ]
    },
    {
     "name": "stderr",
     "output_type": "stream",
     "text": [
      "[Parallel(n_jobs=-1)]: Done 215 out of 215 | elapsed:   20.8s finished\n",
      "\n",
      "[Parallel(n_jobs=16)]: Using backend ThreadingBackend with 16 concurrent workers.\n",
      "\n",
      "[Parallel(n_jobs=16)]: Done  18 tasks      | elapsed:    0.0s\n",
      "\n",
      "[Parallel(n_jobs=16)]: Done 168 tasks      | elapsed:    0.1s\n",
      "\n",
      "[Parallel(n_jobs=16)]: Done 215 out of 215 | elapsed:    0.1s finished\n",
      "\n",
      "[Parallel(n_jobs=-1)]: Using backend ThreadingBackend with 16 concurrent workers.\n",
      "\n",
      "[Parallel(n_jobs=-1)]: Done  18 tasks      | elapsed:    2.6s\n",
      "\n",
      "[Parallel(n_jobs=-1)]: Done 168 tasks      | elapsed:   19.2s\n",
      "\n"
     ]
    },
    {
     "name": "stdout",
     "output_type": "stream",
     "text": [
      "7 CV - score: 0.5991                                                              \n",
      "Total Time Run: 1.57                                                              \n",
      " 59%|█████▉    | 16/27 [12:16<07:11, 39.23s/trial, best loss: -0.5953460782557423]"
     ]
    },
    {
     "name": "stderr",
     "output_type": "stream",
     "text": [
      "[Parallel(n_jobs=-1)]: Done 215 out of 215 | elapsed:   24.5s finished\n",
      "\n",
      "[Parallel(n_jobs=16)]: Using backend ThreadingBackend with 16 concurrent workers.\n",
      "\n",
      "[Parallel(n_jobs=16)]: Done  18 tasks      | elapsed:    0.0s\n",
      "\n",
      "[Parallel(n_jobs=16)]: Done 168 tasks      | elapsed:    0.1s\n",
      "\n",
      "[Parallel(n_jobs=16)]: Done 215 out of 215 | elapsed:    0.1s finished\n",
      "\n"
     ]
    },
    {
     "name": "stdout",
     "output_type": "stream",
     "text": [
      "Mean F1-Score: 0.596275190195527                                                  \n",
      "                                                                                  \n",
      "############## New Run ################\n",
      "params = {'n_estimators': 161, 'criterion': 'entropy', 'max_features': 'auto', 'min_samples_split': 2, 'max_depth': 16, 'min_samples_leaf': 4}\n",
      " 63%|██████▎   | 17/27 [12:17<09:19, 55.93s/trial, best loss: -0.596275190195527]"
     ]
    },
    {
     "name": "stderr",
     "output_type": "stream",
     "text": [
      "[Parallel(n_jobs=-1)]: Using backend ThreadingBackend with 16 concurrent workers.\n",
      "\n",
      "[Parallel(n_jobs=-1)]: Done  18 tasks      | elapsed:    0.3s\n",
      "\n"
     ]
    },
    {
     "name": "stdout",
     "output_type": "stream",
     "text": [
      "1 CV - score: 0.5657                                                             \n",
      " 63%|██████▎   | 17/27 [12:19<09:19, 55.93s/trial, best loss: -0.596275190195527]"
     ]
    },
    {
     "name": "stderr",
     "output_type": "stream",
     "text": [
      "[Parallel(n_jobs=-1)]: Done 161 out of 161 | elapsed:    1.9s finished\n",
      "\n",
      "[Parallel(n_jobs=16)]: Using backend ThreadingBackend with 16 concurrent workers.\n",
      "\n",
      "[Parallel(n_jobs=16)]: Done  18 tasks      | elapsed:    0.0s\n",
      "\n",
      "[Parallel(n_jobs=16)]: Done 161 out of 161 | elapsed:    0.1s finished\n",
      "\n",
      "[Parallel(n_jobs=-1)]: Using backend ThreadingBackend with 16 concurrent workers.\n",
      "\n",
      "[Parallel(n_jobs=-1)]: Done  18 tasks      | elapsed:    0.8s\n",
      "\n"
     ]
    },
    {
     "name": "stdout",
     "output_type": "stream",
     "text": [
      "2 CV - score: 0.5867                                                             \n",
      " 63%|██████▎   | 17/27 [12:24<09:19, 55.93s/trial, best loss: -0.596275190195527]"
     ]
    },
    {
     "name": "stderr",
     "output_type": "stream",
     "text": [
      "[Parallel(n_jobs=-1)]: Done 161 out of 161 | elapsed:    4.8s finished\n",
      "\n",
      "[Parallel(n_jobs=16)]: Using backend ThreadingBackend with 16 concurrent workers.\n",
      "\n",
      "[Parallel(n_jobs=16)]: Done  18 tasks      | elapsed:    0.0s\n",
      "\n",
      "[Parallel(n_jobs=16)]: Done 161 out of 161 | elapsed:    0.1s finished\n",
      "\n",
      "[Parallel(n_jobs=-1)]: Using backend ThreadingBackend with 16 concurrent workers.\n",
      "\n",
      "[Parallel(n_jobs=-1)]: Done  18 tasks      | elapsed:    1.3s\n",
      "\n",
      "[Parallel(n_jobs=-1)]: Done 161 out of 161 | elapsed:    7.5s finished\n",
      "\n",
      "[Parallel(n_jobs=16)]: Using backend ThreadingBackend with 16 concurrent workers.\n",
      "\n",
      "[Parallel(n_jobs=16)]: Done  18 tasks      | elapsed:    0.2s\n",
      "\n",
      "[Parallel(n_jobs=16)]: Done 161 out of 161 | elapsed:    0.4s finished\n",
      "\n"
     ]
    },
    {
     "name": "stdout",
     "output_type": "stream",
     "text": [
      "3 CV - score: 0.5901                                                             \n",
      " 63%|██████▎   | 17/27 [12:32<09:19, 55.93s/trial, best loss: -0.596275190195527]"
     ]
    },
    {
     "name": "stderr",
     "output_type": "stream",
     "text": [
      "[Parallel(n_jobs=-1)]: Using backend ThreadingBackend with 16 concurrent workers.\n",
      "\n",
      "[Parallel(n_jobs=-1)]: Done  18 tasks      | elapsed:    1.5s\n",
      "\n"
     ]
    },
    {
     "name": "stdout",
     "output_type": "stream",
     "text": [
      "4 CV - score: 0.5985                                                             \n",
      " 63%|██████▎   | 17/27 [12:42<09:19, 55.93s/trial, best loss: -0.596275190195527]"
     ]
    },
    {
     "name": "stderr",
     "output_type": "stream",
     "text": [
      "[Parallel(n_jobs=-1)]: Done 161 out of 161 | elapsed:    9.6s finished\n",
      "\n",
      "[Parallel(n_jobs=16)]: Using backend ThreadingBackend with 16 concurrent workers.\n",
      "\n",
      "[Parallel(n_jobs=16)]: Done  18 tasks      | elapsed:    0.0s\n",
      "\n",
      "[Parallel(n_jobs=16)]: Done 161 out of 161 | elapsed:    0.1s finished\n",
      "\n",
      "[Parallel(n_jobs=-1)]: Using backend ThreadingBackend with 16 concurrent workers.\n",
      "\n",
      "[Parallel(n_jobs=-1)]: Done  18 tasks      | elapsed:    2.1s\n",
      "\n"
     ]
    },
    {
     "name": "stdout",
     "output_type": "stream",
     "text": [
      "5 CV - score: 0.6033                                                             \n",
      " 63%|██████▎   | 17/27 [12:54<09:19, 55.93s/trial, best loss: -0.596275190195527]"
     ]
    },
    {
     "name": "stderr",
     "output_type": "stream",
     "text": [
      "[Parallel(n_jobs=-1)]: Done 161 out of 161 | elapsed:   11.7s finished\n",
      "\n",
      "[Parallel(n_jobs=16)]: Using backend ThreadingBackend with 16 concurrent workers.\n",
      "\n",
      "[Parallel(n_jobs=16)]: Done  18 tasks      | elapsed:    0.0s\n",
      "\n",
      "[Parallel(n_jobs=16)]: Done 161 out of 161 | elapsed:    0.1s finished\n",
      "\n",
      "[Parallel(n_jobs=-1)]: Using backend ThreadingBackend with 16 concurrent workers.\n",
      "\n",
      "[Parallel(n_jobs=-1)]: Done  18 tasks      | elapsed:    2.2s\n",
      "\n"
     ]
    },
    {
     "name": "stdout",
     "output_type": "stream",
     "text": [
      "6 CV - score: 0.6367                                                             \n",
      " 63%|██████▎   | 17/27 [13:06<09:19, 55.93s/trial, best loss: -0.596275190195527]"
     ]
    },
    {
     "name": "stderr",
     "output_type": "stream",
     "text": [
      "[Parallel(n_jobs=-1)]: Done 161 out of 161 | elapsed:   11.9s finished\n",
      "\n",
      "[Parallel(n_jobs=16)]: Using backend ThreadingBackend with 16 concurrent workers.\n",
      "\n",
      "[Parallel(n_jobs=16)]: Done  18 tasks      | elapsed:    0.0s\n",
      "\n",
      "[Parallel(n_jobs=16)]: Done 161 out of 161 | elapsed:    0.1s finished\n",
      "\n",
      "[Parallel(n_jobs=-1)]: Using backend ThreadingBackend with 16 concurrent workers.\n",
      "\n",
      "[Parallel(n_jobs=-1)]: Done  18 tasks      | elapsed:    2.6s\n",
      "\n"
     ]
    },
    {
     "name": "stdout",
     "output_type": "stream",
     "text": [
      "7 CV - score: 0.6037                                                             \n",
      "Total Time Run: 1.06                                                             \n",
      " 63%|██████▎   | 17/27 [13:21<09:19, 55.93s/trial, best loss: -0.596275190195527]"
     ]
    },
    {
     "name": "stderr",
     "output_type": "stream",
     "text": [
      "[Parallel(n_jobs=-1)]: Done 161 out of 161 | elapsed:   14.1s finished\n",
      "\n",
      "[Parallel(n_jobs=16)]: Using backend ThreadingBackend with 16 concurrent workers.\n",
      "\n",
      "[Parallel(n_jobs=16)]: Done  18 tasks      | elapsed:    0.0s\n",
      "\n",
      "[Parallel(n_jobs=16)]: Done 161 out of 161 | elapsed:    0.1s finished\n",
      "\n"
     ]
    },
    {
     "name": "stdout",
     "output_type": "stream",
     "text": [
      "Mean F1-Score: 0.5977960672436302                                                \n",
      "                                                                                  \n",
      "############## New Run ################\n",
      "params = {'n_estimators': 173, 'criterion': 'gini', 'max_features': 'sqrt', 'min_samples_split': 10, 'max_depth': 14, 'min_samples_leaf': 2}\n",
      " 67%|██████▋   | 18/27 [13:21<08:45, 58.38s/trial, best loss: -0.5977960672436302]"
     ]
    },
    {
     "name": "stderr",
     "output_type": "stream",
     "text": [
      "[Parallel(n_jobs=-1)]: Using backend ThreadingBackend with 16 concurrent workers.\n",
      "\n",
      "[Parallel(n_jobs=-1)]: Done  18 tasks      | elapsed:    0.1s\n",
      "\n"
     ]
    },
    {
     "name": "stdout",
     "output_type": "stream",
     "text": [
      "1 CV - score: 0.5578                                                              \n",
      " 67%|██████▋   | 18/27 [13:22<08:45, 58.38s/trial, best loss: -0.5977960672436302]"
     ]
    },
    {
     "name": "stderr",
     "output_type": "stream",
     "text": [
      "[Parallel(n_jobs=-1)]: Done 173 out of 173 | elapsed:    0.7s finished\n",
      "\n",
      "[Parallel(n_jobs=16)]: Using backend ThreadingBackend with 16 concurrent workers.\n",
      "\n",
      "[Parallel(n_jobs=16)]: Done  18 tasks      | elapsed:    0.0s\n",
      "\n",
      "[Parallel(n_jobs=16)]: Done 173 out of 173 | elapsed:    0.1s finished\n",
      "\n",
      "[Parallel(n_jobs=-1)]: Using backend ThreadingBackend with 16 concurrent workers.\n",
      "\n",
      "[Parallel(n_jobs=-1)]: Done  18 tasks      | elapsed:    0.2s\n",
      "\n"
     ]
    },
    {
     "name": "stdout",
     "output_type": "stream",
     "text": [
      "2 CV - score: 0.5877                                                              \n",
      " 67%|██████▋   | 18/27 [13:23<08:45, 58.38s/trial, best loss: -0.5977960672436302]"
     ]
    },
    {
     "name": "stderr",
     "output_type": "stream",
     "text": [
      "[Parallel(n_jobs=-1)]: Done 173 out of 173 | elapsed:    1.3s finished\n",
      "\n",
      "[Parallel(n_jobs=16)]: Using backend ThreadingBackend with 16 concurrent workers.\n",
      "\n",
      "[Parallel(n_jobs=16)]: Done  18 tasks      | elapsed:    0.0s\n",
      "\n",
      "[Parallel(n_jobs=16)]: Done 173 out of 173 | elapsed:    0.1s finished\n",
      "\n",
      "[Parallel(n_jobs=-1)]: Using backend ThreadingBackend with 16 concurrent workers.\n",
      "\n",
      "[Parallel(n_jobs=-1)]: Done  18 tasks      | elapsed:    0.4s\n",
      "\n"
     ]
    },
    {
     "name": "stdout",
     "output_type": "stream",
     "text": [
      "3 CV - score: 0.5773                                                              \n",
      " 67%|██████▋   | 18/27 [13:25<08:45, 58.38s/trial, best loss: -0.5977960672436302]"
     ]
    },
    {
     "name": "stderr",
     "output_type": "stream",
     "text": [
      "[Parallel(n_jobs=-1)]: Done 173 out of 173 | elapsed:    1.9s finished\n",
      "\n",
      "[Parallel(n_jobs=16)]: Using backend ThreadingBackend with 16 concurrent workers.\n",
      "\n",
      "[Parallel(n_jobs=16)]: Done  18 tasks      | elapsed:    0.0s\n",
      "\n",
      "[Parallel(n_jobs=16)]: Done 173 out of 173 | elapsed:    0.1s finished\n",
      "\n",
      "[Parallel(n_jobs=-1)]: Using backend ThreadingBackend with 16 concurrent workers.\n",
      "\n",
      "[Parallel(n_jobs=-1)]: Done  18 tasks      | elapsed:    0.5s\n",
      "\n"
     ]
    },
    {
     "name": "stdout",
     "output_type": "stream",
     "text": [
      "4 CV - score: 0.5953                                                              \n",
      " 67%|██████▋   | 18/27 [13:28<08:45, 58.38s/trial, best loss: -0.5977960672436302]"
     ]
    },
    {
     "name": "stderr",
     "output_type": "stream",
     "text": [
      "[Parallel(n_jobs=-1)]: Done 173 out of 173 | elapsed:    2.7s finished\n",
      "\n",
      "[Parallel(n_jobs=16)]: Using backend ThreadingBackend with 16 concurrent workers.\n",
      "\n",
      "[Parallel(n_jobs=16)]: Done  18 tasks      | elapsed:    0.0s\n",
      "\n",
      "[Parallel(n_jobs=16)]: Done 173 out of 173 | elapsed:    0.1s finished\n",
      "\n",
      "[Parallel(n_jobs=-1)]: Using backend ThreadingBackend with 16 concurrent workers.\n",
      "\n",
      "[Parallel(n_jobs=-1)]: Done  18 tasks      | elapsed:    0.6s\n",
      "\n"
     ]
    },
    {
     "name": "stdout",
     "output_type": "stream",
     "text": [
      "5 CV - score: 0.6044                                                              \n",
      " 67%|██████▋   | 18/27 [13:32<08:45, 58.38s/trial, best loss: -0.5977960672436302]"
     ]
    },
    {
     "name": "stderr",
     "output_type": "stream",
     "text": [
      "[Parallel(n_jobs=-1)]: Done 173 out of 173 | elapsed:    3.5s finished\n",
      "\n",
      "[Parallel(n_jobs=16)]: Using backend ThreadingBackend with 16 concurrent workers.\n",
      "\n",
      "[Parallel(n_jobs=16)]: Done  18 tasks      | elapsed:    0.0s\n",
      "\n",
      "[Parallel(n_jobs=16)]: Done 173 out of 173 | elapsed:    0.1s finished\n",
      "\n",
      "[Parallel(n_jobs=-1)]: Using backend ThreadingBackend with 16 concurrent workers.\n",
      "\n",
      "[Parallel(n_jobs=-1)]: Done  18 tasks      | elapsed:    0.8s\n",
      "\n"
     ]
    },
    {
     "name": "stdout",
     "output_type": "stream",
     "text": [
      "6 CV - score: 0.6386                                                              \n",
      " 67%|██████▋   | 18/27 [13:36<08:45, 58.38s/trial, best loss: -0.5977960672436302]"
     ]
    },
    {
     "name": "stderr",
     "output_type": "stream",
     "text": [
      "[Parallel(n_jobs=-1)]: Done 173 out of 173 | elapsed:    4.2s finished\n",
      "\n",
      "[Parallel(n_jobs=16)]: Using backend ThreadingBackend with 16 concurrent workers.\n",
      "\n",
      "[Parallel(n_jobs=16)]: Done  18 tasks      | elapsed:    0.0s\n",
      "\n",
      "[Parallel(n_jobs=16)]: Done 173 out of 173 | elapsed:    0.1s finished\n",
      "\n",
      "[Parallel(n_jobs=-1)]: Using backend ThreadingBackend with 16 concurrent workers.\n",
      "\n",
      "[Parallel(n_jobs=-1)]: Done  18 tasks      | elapsed:    0.9s\n",
      "\n"
     ]
    },
    {
     "name": "stdout",
     "output_type": "stream",
     "text": [
      "7 CV - score: 0.5943                                                              \n",
      "Total Time Run: 0.35                                                              \n",
      " 67%|██████▋   | 18/27 [13:42<08:45, 58.38s/trial, best loss: -0.5977960672436302]"
     ]
    },
    {
     "name": "stderr",
     "output_type": "stream",
     "text": [
      "[Parallel(n_jobs=-1)]: Done 173 out of 173 | elapsed:    5.1s finished\n",
      "\n",
      "[Parallel(n_jobs=16)]: Using backend ThreadingBackend with 16 concurrent workers.\n",
      "\n",
      "[Parallel(n_jobs=16)]: Done  18 tasks      | elapsed:    0.0s\n",
      "\n",
      "[Parallel(n_jobs=16)]: Done 173 out of 173 | elapsed:    0.1s finished\n",
      "\n"
     ]
    },
    {
     "name": "stdout",
     "output_type": "stream",
     "text": [
      "Mean F1-Score: 0.5936326354881923                                                 \n",
      "                                                                                  \n",
      "############## New Run ################\n",
      "params = {'n_estimators': 166, 'criterion': 'entropy', 'max_features': 'auto', 'min_samples_split': 6, 'max_depth': 13, 'min_samples_leaf': 17}\n",
      " 70%|███████   | 19/27 [13:42<06:17, 47.17s/trial, best loss: -0.5977960672436302]"
     ]
    },
    {
     "name": "stderr",
     "output_type": "stream",
     "text": [
      "[Parallel(n_jobs=-1)]: Using backend ThreadingBackend with 16 concurrent workers.\n",
      "\n",
      "[Parallel(n_jobs=-1)]: Done  18 tasks      | elapsed:    0.2s\n",
      "\n"
     ]
    },
    {
     "name": "stdout",
     "output_type": "stream",
     "text": [
      "1 CV - score: 0.55                                                                \n",
      " 70%|███████   | 19/27 [13:43<06:17, 47.17s/trial, best loss: -0.5977960672436302]"
     ]
    },
    {
     "name": "stderr",
     "output_type": "stream",
     "text": [
      "[Parallel(n_jobs=-1)]: Done 166 out of 166 | elapsed:    1.1s finished\n",
      "\n",
      "[Parallel(n_jobs=16)]: Using backend ThreadingBackend with 16 concurrent workers.\n",
      "\n",
      "[Parallel(n_jobs=16)]: Done  18 tasks      | elapsed:    0.0s\n",
      "\n",
      "[Parallel(n_jobs=16)]: Done 166 out of 166 | elapsed:    0.1s finished\n",
      "\n",
      "[Parallel(n_jobs=-1)]: Using backend ThreadingBackend with 16 concurrent workers.\n",
      "\n",
      "[Parallel(n_jobs=-1)]: Done  18 tasks      | elapsed:    0.4s\n",
      "\n"
     ]
    },
    {
     "name": "stdout",
     "output_type": "stream",
     "text": [
      "2 CV - score: 0.5809                                                              \n",
      " 70%|███████   | 19/27 [13:46<06:17, 47.17s/trial, best loss: -0.5977960672436302]"
     ]
    },
    {
     "name": "stderr",
     "output_type": "stream",
     "text": [
      "[Parallel(n_jobs=-1)]: Done 166 out of 166 | elapsed:    2.5s finished\n",
      "\n",
      "[Parallel(n_jobs=16)]: Using backend ThreadingBackend with 16 concurrent workers.\n",
      "\n",
      "[Parallel(n_jobs=16)]: Done  18 tasks      | elapsed:    0.0s\n",
      "\n",
      "[Parallel(n_jobs=16)]: Done 166 out of 166 | elapsed:    0.1s finished\n",
      "\n",
      "[Parallel(n_jobs=-1)]: Using backend ThreadingBackend with 16 concurrent workers.\n",
      "\n",
      "[Parallel(n_jobs=-1)]: Done  18 tasks      | elapsed:    0.8s\n",
      "\n"
     ]
    },
    {
     "name": "stdout",
     "output_type": "stream",
     "text": [
      "3 CV - score: 0.5796                                                              \n",
      " 70%|███████   | 19/27 [13:50<06:17, 47.17s/trial, best loss: -0.5977960672436302]"
     ]
    },
    {
     "name": "stderr",
     "output_type": "stream",
     "text": [
      "[Parallel(n_jobs=-1)]: Done 166 out of 166 | elapsed:    4.1s finished\n",
      "\n",
      "[Parallel(n_jobs=16)]: Using backend ThreadingBackend with 16 concurrent workers.\n",
      "\n",
      "[Parallel(n_jobs=16)]: Done  18 tasks      | elapsed:    0.0s\n",
      "\n",
      "[Parallel(n_jobs=16)]: Done 166 out of 166 | elapsed:    0.1s finished\n",
      "\n",
      "[Parallel(n_jobs=-1)]: Using backend ThreadingBackend with 16 concurrent workers.\n",
      "\n",
      "[Parallel(n_jobs=-1)]: Done  18 tasks      | elapsed:    1.1s\n",
      "\n"
     ]
    },
    {
     "name": "stdout",
     "output_type": "stream",
     "text": [
      "4 CV - score: 0.58                                                                \n",
      " 70%|███████   | 19/27 [13:56<06:17, 47.17s/trial, best loss: -0.5977960672436302]"
     ]
    },
    {
     "name": "stderr",
     "output_type": "stream",
     "text": [
      "[Parallel(n_jobs=-1)]: Done 166 out of 166 | elapsed:    5.9s finished\n",
      "\n",
      "[Parallel(n_jobs=16)]: Using backend ThreadingBackend with 16 concurrent workers.\n",
      "\n",
      "[Parallel(n_jobs=16)]: Done  18 tasks      | elapsed:    0.0s\n",
      "\n",
      "[Parallel(n_jobs=16)]: Done 166 out of 166 | elapsed:    0.1s finished\n",
      "\n",
      "[Parallel(n_jobs=-1)]: Using backend ThreadingBackend with 16 concurrent workers.\n",
      "\n",
      "[Parallel(n_jobs=-1)]: Done  18 tasks      | elapsed:    1.4s\n",
      "\n"
     ]
    },
    {
     "name": "stdout",
     "output_type": "stream",
     "text": [
      "5 CV - score: 0.6038                                                              \n",
      " 70%|███████   | 19/27 [14:04<06:17, 47.17s/trial, best loss: -0.5977960672436302]"
     ]
    },
    {
     "name": "stderr",
     "output_type": "stream",
     "text": [
      "[Parallel(n_jobs=-1)]: Done 166 out of 166 | elapsed:    7.5s finished\n",
      "\n",
      "[Parallel(n_jobs=16)]: Using backend ThreadingBackend with 16 concurrent workers.\n",
      "\n",
      "[Parallel(n_jobs=16)]: Done  18 tasks      | elapsed:    0.0s\n",
      "\n",
      "[Parallel(n_jobs=16)]: Done 166 out of 166 | elapsed:    0.1s finished\n",
      "\n",
      "[Parallel(n_jobs=-1)]: Using backend ThreadingBackend with 16 concurrent workers.\n",
      "\n",
      "[Parallel(n_jobs=-1)]: Done  18 tasks      | elapsed:    1.7s\n",
      "\n"
     ]
    },
    {
     "name": "stdout",
     "output_type": "stream",
     "text": [
      "6 CV - score: 0.6335                                                              \n",
      " 70%|███████   | 19/27 [14:14<06:17, 47.17s/trial, best loss: -0.5977960672436302]"
     ]
    },
    {
     "name": "stderr",
     "output_type": "stream",
     "text": [
      "[Parallel(n_jobs=-1)]: Done 166 out of 166 | elapsed:    9.4s finished\n",
      "\n",
      "[Parallel(n_jobs=16)]: Using backend ThreadingBackend with 16 concurrent workers.\n",
      "\n",
      "[Parallel(n_jobs=16)]: Done  18 tasks      | elapsed:    0.0s\n",
      "\n",
      "[Parallel(n_jobs=16)]: Done 166 out of 166 | elapsed:    0.1s finished\n",
      "\n",
      "[Parallel(n_jobs=-1)]: Using backend ThreadingBackend with 16 concurrent workers.\n",
      "\n",
      "[Parallel(n_jobs=-1)]: Done  18 tasks      | elapsed:    2.1s\n",
      "\n"
     ]
    },
    {
     "name": "stdout",
     "output_type": "stream",
     "text": [
      "7 CV - score: 0.5906                                                              \n",
      "Total Time Run: 0.72                                                              \n",
      " 70%|███████   | 19/27 [14:25<06:17, 47.17s/trial, best loss: -0.5977960672436302]"
     ]
    },
    {
     "name": "stderr",
     "output_type": "stream",
     "text": [
      "[Parallel(n_jobs=-1)]: Done 166 out of 166 | elapsed:   11.3s finished\n",
      "\n",
      "[Parallel(n_jobs=16)]: Using backend ThreadingBackend with 16 concurrent workers.\n",
      "\n",
      "[Parallel(n_jobs=16)]: Done  18 tasks      | elapsed:    0.0s\n",
      "\n",
      "[Parallel(n_jobs=16)]: Done 166 out of 166 | elapsed:    0.1s finished\n",
      "\n"
     ]
    },
    {
     "name": "stdout",
     "output_type": "stream",
     "text": [
      "Mean F1-Score: 0.5883451200573079                                                 \n",
      "                                                                                  \n",
      "############## New Run ################\n",
      "params = {'n_estimators': 212, 'criterion': 'entropy', 'max_features': 'sqrt', 'min_samples_split': 18, 'max_depth': 19, 'min_samples_leaf': 9}\n",
      " 74%|███████▍  | 20/27 [14:25<05:22, 46.03s/trial, best loss: -0.5977960672436302]"
     ]
    },
    {
     "name": "stderr",
     "output_type": "stream",
     "text": [
      "[Parallel(n_jobs=-1)]: Using backend ThreadingBackend with 16 concurrent workers.\n",
      "\n",
      "[Parallel(n_jobs=-1)]: Done  18 tasks      | elapsed:    0.2s\n",
      "\n",
      "[Parallel(n_jobs=-1)]: Done 168 tasks      | elapsed:    1.3s\n",
      "\n"
     ]
    },
    {
     "name": "stdout",
     "output_type": "stream",
     "text": [
      "1 CV - score: 0.5611                                                              \n",
      " 74%|███████▍  | 20/27 [14:27<05:22, 46.03s/trial, best loss: -0.5977960672436302]"
     ]
    },
    {
     "name": "stderr",
     "output_type": "stream",
     "text": [
      "[Parallel(n_jobs=-1)]: Done 212 out of 212 | elapsed:    1.6s finished\n",
      "\n",
      "[Parallel(n_jobs=16)]: Using backend ThreadingBackend with 16 concurrent workers.\n",
      "\n",
      "[Parallel(n_jobs=16)]: Done  18 tasks      | elapsed:    0.0s\n",
      "\n",
      "[Parallel(n_jobs=16)]: Done 168 tasks      | elapsed:    0.1s\n",
      "\n",
      "[Parallel(n_jobs=16)]: Done 212 out of 212 | elapsed:    0.1s finished\n",
      "\n",
      "[Parallel(n_jobs=-1)]: Using backend ThreadingBackend with 16 concurrent workers.\n",
      "\n",
      "[Parallel(n_jobs=-1)]: Done  18 tasks      | elapsed:    0.5s\n",
      "\n",
      "[Parallel(n_jobs=-1)]: Done 168 tasks      | elapsed:    3.0s\n",
      "\n"
     ]
    },
    {
     "name": "stdout",
     "output_type": "stream",
     "text": [
      "2 CV - score: 0.5886                                                              \n",
      " 74%|███████▍  | 20/27 [14:31<05:22, 46.03s/trial, best loss: -0.5977960672436302]"
     ]
    },
    {
     "name": "stderr",
     "output_type": "stream",
     "text": [
      "[Parallel(n_jobs=-1)]: Done 212 out of 212 | elapsed:    3.7s finished\n",
      "\n",
      "[Parallel(n_jobs=16)]: Using backend ThreadingBackend with 16 concurrent workers.\n",
      "\n",
      "[Parallel(n_jobs=16)]: Done  18 tasks      | elapsed:    0.0s\n",
      "\n",
      "[Parallel(n_jobs=16)]: Done 168 tasks      | elapsed:    0.1s\n",
      "\n",
      "[Parallel(n_jobs=16)]: Done 212 out of 212 | elapsed:    0.1s finished\n",
      "\n",
      "[Parallel(n_jobs=-1)]: Using backend ThreadingBackend with 16 concurrent workers.\n",
      "\n",
      "[Parallel(n_jobs=-1)]: Done  18 tasks      | elapsed:    0.9s\n",
      "\n",
      "[Parallel(n_jobs=-1)]: Done 168 tasks      | elapsed:    4.8s\n",
      "\n"
     ]
    },
    {
     "name": "stdout",
     "output_type": "stream",
     "text": [
      "3 CV - score: 0.5812                                                              \n",
      " 74%|███████▍  | 20/27 [14:37<05:22, 46.03s/trial, best loss: -0.5977960672436302]"
     ]
    },
    {
     "name": "stderr",
     "output_type": "stream",
     "text": [
      "[Parallel(n_jobs=-1)]: Done 212 out of 212 | elapsed:    6.0s finished\n",
      "\n",
      "[Parallel(n_jobs=16)]: Using backend ThreadingBackend with 16 concurrent workers.\n",
      "\n",
      "[Parallel(n_jobs=16)]: Done  18 tasks      | elapsed:    0.0s\n",
      "\n",
      "[Parallel(n_jobs=16)]: Done 168 tasks      | elapsed:    0.1s\n",
      "\n",
      "[Parallel(n_jobs=16)]: Done 212 out of 212 | elapsed:    0.1s finished\n",
      "\n",
      "[Parallel(n_jobs=-1)]: Using backend ThreadingBackend with 16 concurrent workers.\n",
      "\n",
      "[Parallel(n_jobs=-1)]: Done  18 tasks      | elapsed:    1.2s\n",
      "\n",
      "[Parallel(n_jobs=-1)]: Done 168 tasks      | elapsed:    6.8s\n",
      "\n"
     ]
    },
    {
     "name": "stdout",
     "output_type": "stream",
     "text": [
      "4 CV - score: 0.5984                                                              \n",
      " 74%|███████▍  | 20/27 [14:46<05:22, 46.03s/trial, best loss: -0.5977960672436302]"
     ]
    },
    {
     "name": "stderr",
     "output_type": "stream",
     "text": [
      "[Parallel(n_jobs=-1)]: Done 212 out of 212 | elapsed:    8.4s finished\n",
      "\n",
      "[Parallel(n_jobs=16)]: Using backend ThreadingBackend with 16 concurrent workers.\n",
      "\n",
      "[Parallel(n_jobs=16)]: Done  18 tasks      | elapsed:    0.0s\n",
      "\n",
      "[Parallel(n_jobs=16)]: Done 168 tasks      | elapsed:    0.1s\n",
      "\n",
      "[Parallel(n_jobs=16)]: Done 212 out of 212 | elapsed:    0.1s finished\n",
      "\n",
      "[Parallel(n_jobs=-1)]: Using backend ThreadingBackend with 16 concurrent workers.\n",
      "\n",
      "[Parallel(n_jobs=-1)]: Done  18 tasks      | elapsed:    1.6s\n",
      "\n",
      "[Parallel(n_jobs=-1)]: Done 168 tasks      | elapsed:    8.8s\n",
      "\n"
     ]
    },
    {
     "name": "stdout",
     "output_type": "stream",
     "text": [
      "5 CV - score: 0.6075                                                              \n",
      " 74%|███████▍  | 20/27 [14:57<05:22, 46.03s/trial, best loss: -0.5977960672436302]"
     ]
    },
    {
     "name": "stderr",
     "output_type": "stream",
     "text": [
      "[Parallel(n_jobs=-1)]: Done 212 out of 212 | elapsed:   11.1s finished\n",
      "\n",
      "[Parallel(n_jobs=16)]: Using backend ThreadingBackend with 16 concurrent workers.\n",
      "\n",
      "[Parallel(n_jobs=16)]: Done  18 tasks      | elapsed:    0.0s\n",
      "\n",
      "[Parallel(n_jobs=16)]: Done 168 tasks      | elapsed:    0.1s\n",
      "\n",
      "[Parallel(n_jobs=16)]: Done 212 out of 212 | elapsed:    0.1s finished\n",
      "\n",
      "[Parallel(n_jobs=-1)]: Using backend ThreadingBackend with 16 concurrent workers.\n",
      "\n",
      "[Parallel(n_jobs=-1)]: Done  18 tasks      | elapsed:    2.0s\n",
      "\n",
      "[Parallel(n_jobs=-1)]: Done 168 tasks      | elapsed:   11.0s\n",
      "\n"
     ]
    },
    {
     "name": "stdout",
     "output_type": "stream",
     "text": [
      "6 CV - score: 0.6403                                                              \n",
      " 74%|███████▍  | 20/27 [15:11<05:22, 46.03s/trial, best loss: -0.5977960672436302]"
     ]
    },
    {
     "name": "stderr",
     "output_type": "stream",
     "text": [
      "[Parallel(n_jobs=-1)]: Done 212 out of 212 | elapsed:   13.7s finished\n",
      "\n",
      "[Parallel(n_jobs=16)]: Using backend ThreadingBackend with 16 concurrent workers.\n",
      "\n",
      "[Parallel(n_jobs=16)]: Done  18 tasks      | elapsed:    0.0s\n",
      "\n",
      "[Parallel(n_jobs=16)]: Done 168 tasks      | elapsed:    0.1s\n",
      "\n",
      "[Parallel(n_jobs=16)]: Done 212 out of 212 | elapsed:    0.1s finished\n",
      "\n",
      "[Parallel(n_jobs=-1)]: Using backend ThreadingBackend with 16 concurrent workers.\n",
      "\n",
      "[Parallel(n_jobs=-1)]: Done  18 tasks      | elapsed:    2.4s\n",
      "\n",
      "[Parallel(n_jobs=-1)]: Done 168 tasks      | elapsed:   13.3s\n",
      "\n"
     ]
    },
    {
     "name": "stdout",
     "output_type": "stream",
     "text": [
      "7 CV - score: 0.5847                                                              \n",
      "Total Time Run: 1.04                                                              \n",
      " 74%|███████▍  | 20/27 [15:28<05:22, 46.03s/trial, best loss: -0.5977960672436302]"
     ]
    },
    {
     "name": "stderr",
     "output_type": "stream",
     "text": [
      "[Parallel(n_jobs=-1)]: Done 212 out of 212 | elapsed:   16.5s finished\n",
      "\n",
      "[Parallel(n_jobs=16)]: Using backend ThreadingBackend with 16 concurrent workers.\n",
      "\n",
      "[Parallel(n_jobs=16)]: Done  18 tasks      | elapsed:    0.0s\n",
      "\n",
      "[Parallel(n_jobs=16)]: Done 168 tasks      | elapsed:    0.1s\n",
      "\n",
      "[Parallel(n_jobs=16)]: Done 212 out of 212 | elapsed:    0.1s finished\n",
      "\n"
     ]
    },
    {
     "name": "stdout",
     "output_type": "stream",
     "text": [
      "Mean F1-Score: 0.5945337470886286                                                 \n",
      "                                                                                  \n",
      "############## New Run ################\n",
      "params = {'n_estimators': 222, 'criterion': 'entropy', 'max_features': 'sqrt', 'min_samples_split': 2, 'max_depth': 17, 'min_samples_leaf': 5}\n",
      " 78%|███████▊  | 21/27 [15:28<05:06, 51.04s/trial, best loss: -0.5977960672436302]"
     ]
    },
    {
     "name": "stderr",
     "output_type": "stream",
     "text": [
      "[Parallel(n_jobs=-1)]: Using backend ThreadingBackend with 16 concurrent workers.\n",
      "\n",
      "[Parallel(n_jobs=-1)]: Done  18 tasks      | elapsed:    0.3s\n",
      "\n",
      "[Parallel(n_jobs=-1)]: Done 168 tasks      | elapsed:    1.5s\n",
      "\n"
     ]
    },
    {
     "name": "stdout",
     "output_type": "stream",
     "text": [
      "1 CV - score: 0.5827                                                              \n",
      " 78%|███████▊  | 21/27 [15:30<05:06, 51.04s/trial, best loss: -0.5977960672436302]"
     ]
    },
    {
     "name": "stderr",
     "output_type": "stream",
     "text": [
      "[Parallel(n_jobs=-1)]: Done 222 out of 222 | elapsed:    1.9s finished\n",
      "\n",
      "[Parallel(n_jobs=16)]: Using backend ThreadingBackend with 16 concurrent workers.\n",
      "\n",
      "[Parallel(n_jobs=16)]: Done  18 tasks      | elapsed:    0.0s\n",
      "\n",
      "[Parallel(n_jobs=16)]: Done 168 tasks      | elapsed:    0.1s\n",
      "\n",
      "[Parallel(n_jobs=16)]: Done 222 out of 222 | elapsed:    0.1s finished\n",
      "\n",
      "[Parallel(n_jobs=-1)]: Using backend ThreadingBackend with 16 concurrent workers.\n",
      "\n",
      "[Parallel(n_jobs=-1)]: Done  18 tasks      | elapsed:    0.6s\n",
      "\n",
      "[Parallel(n_jobs=-1)]: Done 168 tasks      | elapsed:    3.5s\n",
      "\n"
     ]
    },
    {
     "name": "stdout",
     "output_type": "stream",
     "text": [
      "2 CV - score: 0.5935                                                              \n",
      " 78%|███████▊  | 21/27 [15:35<05:06, 51.04s/trial, best loss: -0.5977960672436302]"
     ]
    },
    {
     "name": "stderr",
     "output_type": "stream",
     "text": [
      "[Parallel(n_jobs=-1)]: Done 222 out of 222 | elapsed:    4.5s finished\n",
      "\n",
      "[Parallel(n_jobs=16)]: Using backend ThreadingBackend with 16 concurrent workers.\n",
      "\n",
      "[Parallel(n_jobs=16)]: Done  18 tasks      | elapsed:    0.0s\n",
      "\n",
      "[Parallel(n_jobs=16)]: Done 168 tasks      | elapsed:    0.1s\n",
      "\n",
      "[Parallel(n_jobs=16)]: Done 222 out of 222 | elapsed:    0.1s finished\n",
      "\n",
      "[Parallel(n_jobs=-1)]: Using backend ThreadingBackend with 16 concurrent workers.\n",
      "\n",
      "[Parallel(n_jobs=-1)]: Done  18 tasks      | elapsed:    1.0s\n",
      "\n",
      "[Parallel(n_jobs=-1)]: Done 168 tasks      | elapsed:    5.3s\n",
      "\n"
     ]
    },
    {
     "name": "stdout",
     "output_type": "stream",
     "text": [
      "3 CV - score: 0.5871                                                              \n",
      " 78%|███████▊  | 21/27 [15:42<05:06, 51.04s/trial, best loss: -0.5977960672436302]"
     ]
    },
    {
     "name": "stderr",
     "output_type": "stream",
     "text": [
      "[Parallel(n_jobs=-1)]: Done 222 out of 222 | elapsed:    6.8s finished\n",
      "\n",
      "[Parallel(n_jobs=16)]: Using backend ThreadingBackend with 16 concurrent workers.\n",
      "\n",
      "[Parallel(n_jobs=16)]: Done  18 tasks      | elapsed:    0.0s\n",
      "\n",
      "[Parallel(n_jobs=16)]: Done 168 tasks      | elapsed:    0.1s\n",
      "\n",
      "[Parallel(n_jobs=16)]: Done 222 out of 222 | elapsed:    0.1s finished\n",
      "\n",
      "[Parallel(n_jobs=-1)]: Using backend ThreadingBackend with 16 concurrent workers.\n",
      "\n",
      "[Parallel(n_jobs=-1)]: Done  18 tasks      | elapsed:    1.3s\n",
      "\n",
      "[Parallel(n_jobs=-1)]: Done 168 tasks      | elapsed:    7.5s\n",
      "\n"
     ]
    },
    {
     "name": "stdout",
     "output_type": "stream",
     "text": [
      "4 CV - score: 0.5963                                                              \n",
      " 78%|███████▊  | 21/27 [15:52<05:06, 51.04s/trial, best loss: -0.5977960672436302]"
     ]
    },
    {
     "name": "stderr",
     "output_type": "stream",
     "text": [
      "[Parallel(n_jobs=-1)]: Done 222 out of 222 | elapsed:    9.7s finished\n",
      "\n",
      "[Parallel(n_jobs=16)]: Using backend ThreadingBackend with 16 concurrent workers.\n",
      "\n",
      "[Parallel(n_jobs=16)]: Done  18 tasks      | elapsed:    0.0s\n",
      "\n",
      "[Parallel(n_jobs=16)]: Done 168 tasks      | elapsed:    0.1s\n",
      "\n",
      "[Parallel(n_jobs=16)]: Done 222 out of 222 | elapsed:    0.1s finished\n",
      "\n",
      "[Parallel(n_jobs=-1)]: Using backend ThreadingBackend with 16 concurrent workers.\n",
      "\n",
      "[Parallel(n_jobs=-1)]: Done  18 tasks      | elapsed:    1.7s\n",
      "\n",
      "[Parallel(n_jobs=-1)]: Done 168 tasks      | elapsed:    9.7s\n",
      "\n"
     ]
    },
    {
     "name": "stdout",
     "output_type": "stream",
     "text": [
      "5 CV - score: 0.6106                                                              \n",
      " 78%|███████▊  | 21/27 [16:05<05:06, 51.04s/trial, best loss: -0.5977960672436302]"
     ]
    },
    {
     "name": "stderr",
     "output_type": "stream",
     "text": [
      "[Parallel(n_jobs=-1)]: Done 222 out of 222 | elapsed:   12.6s finished\n",
      "\n",
      "[Parallel(n_jobs=16)]: Using backend ThreadingBackend with 16 concurrent workers.\n",
      "\n",
      "[Parallel(n_jobs=16)]: Done  18 tasks      | elapsed:    0.0s\n",
      "\n",
      "[Parallel(n_jobs=16)]: Done 168 tasks      | elapsed:    0.1s\n",
      "\n",
      "[Parallel(n_jobs=16)]: Done 222 out of 222 | elapsed:    0.1s finished\n",
      "\n",
      "[Parallel(n_jobs=-1)]: Using backend ThreadingBackend with 16 concurrent workers.\n",
      "\n",
      "[Parallel(n_jobs=-1)]: Done  18 tasks      | elapsed:    2.2s\n",
      "\n",
      "[Parallel(n_jobs=-1)]: Done 168 tasks      | elapsed:   11.9s\n",
      "\n"
     ]
    },
    {
     "name": "stdout",
     "output_type": "stream",
     "text": [
      "6 CV - score: 0.6351                                                              \n",
      " 78%|███████▊  | 21/27 [16:20<05:06, 51.04s/trial, best loss: -0.5977960672436302]"
     ]
    },
    {
     "name": "stderr",
     "output_type": "stream",
     "text": [
      "[Parallel(n_jobs=-1)]: Done 222 out of 222 | elapsed:   15.2s finished\n",
      "\n",
      "[Parallel(n_jobs=16)]: Using backend ThreadingBackend with 16 concurrent workers.\n",
      "\n",
      "[Parallel(n_jobs=16)]: Done  18 tasks      | elapsed:    0.0s\n",
      "\n",
      "[Parallel(n_jobs=16)]: Done 168 tasks      | elapsed:    0.1s\n",
      "\n",
      "[Parallel(n_jobs=16)]: Done 222 out of 222 | elapsed:    0.1s finished\n",
      "\n",
      "[Parallel(n_jobs=-1)]: Using backend ThreadingBackend with 16 concurrent workers.\n",
      "\n",
      "[Parallel(n_jobs=-1)]: Done  18 tasks      | elapsed:    2.6s\n",
      "\n",
      "[Parallel(n_jobs=-1)]: Done 168 tasks      | elapsed:   14.3s\n",
      "\n"
     ]
    },
    {
     "name": "stdout",
     "output_type": "stream",
     "text": [
      "7 CV - score: 0.6024                                                              \n",
      "Total Time Run: 1.18                                                              \n",
      " 78%|███████▊  | 21/27 [16:39<05:06, 51.04s/trial, best loss: -0.5977960672436302]"
     ]
    },
    {
     "name": "stderr",
     "output_type": "stream",
     "text": [
      "[Parallel(n_jobs=-1)]: Done 222 out of 222 | elapsed:   18.3s finished\n",
      "\n",
      "[Parallel(n_jobs=16)]: Using backend ThreadingBackend with 16 concurrent workers.\n",
      "\n",
      "[Parallel(n_jobs=16)]: Done  18 tasks      | elapsed:    0.0s\n",
      "\n",
      "[Parallel(n_jobs=16)]: Done 168 tasks      | elapsed:    0.1s\n",
      "\n",
      "[Parallel(n_jobs=16)]: Done 222 out of 222 | elapsed:    0.1s finished\n",
      "\n"
     ]
    },
    {
     "name": "stdout",
     "output_type": "stream",
     "text": [
      "Mean F1-Score: 0.601104563908723                                                  \n",
      "                                                                                  \n",
      "############## New Run ################\n",
      "params = {'n_estimators': 225, 'criterion': 'entropy', 'max_features': 'auto', 'min_samples_split': 2, 'max_depth': 17, 'min_samples_leaf': 4}\n",
      " 81%|████████▏ | 22/27 [16:39<04:45, 57.01s/trial, best loss: -0.601104563908723]"
     ]
    },
    {
     "name": "stderr",
     "output_type": "stream",
     "text": [
      "[Parallel(n_jobs=-1)]: Using backend ThreadingBackend with 16 concurrent workers.\n",
      "\n",
      "[Parallel(n_jobs=-1)]: Done  18 tasks      | elapsed:    0.3s\n",
      "\n",
      "[Parallel(n_jobs=-1)]: Done 168 tasks      | elapsed:    1.5s\n",
      "\n"
     ]
    },
    {
     "name": "stdout",
     "output_type": "stream",
     "text": [
      "1 CV - score: 0.5646                                                             \n",
      " 81%|████████▏ | 22/27 [16:41<04:45, 57.01s/trial, best loss: -0.601104563908723]"
     ]
    },
    {
     "name": "stderr",
     "output_type": "stream",
     "text": [
      "[Parallel(n_jobs=-1)]: Done 225 out of 225 | elapsed:    2.0s finished\n",
      "\n",
      "[Parallel(n_jobs=16)]: Using backend ThreadingBackend with 16 concurrent workers.\n",
      "\n",
      "[Parallel(n_jobs=16)]: Done  18 tasks      | elapsed:    0.0s\n",
      "\n",
      "[Parallel(n_jobs=16)]: Done 168 tasks      | elapsed:    0.1s\n",
      "\n",
      "[Parallel(n_jobs=16)]: Done 225 out of 225 | elapsed:    0.1s finished\n",
      "\n",
      "[Parallel(n_jobs=-1)]: Using backend ThreadingBackend with 16 concurrent workers.\n",
      "\n",
      "[Parallel(n_jobs=-1)]: Done  18 tasks      | elapsed:    0.6s\n",
      "\n",
      "[Parallel(n_jobs=-1)]: Done 168 tasks      | elapsed:    3.4s\n",
      "\n"
     ]
    },
    {
     "name": "stdout",
     "output_type": "stream",
     "text": [
      "2 CV - score: 0.5885                                                             \n",
      " 81%|████████▏ | 22/27 [16:46<04:45, 57.01s/trial, best loss: -0.601104563908723]"
     ]
    },
    {
     "name": "stderr",
     "output_type": "stream",
     "text": [
      "[Parallel(n_jobs=-1)]: Done 225 out of 225 | elapsed:    4.4s finished\n",
      "\n",
      "[Parallel(n_jobs=16)]: Using backend ThreadingBackend with 16 concurrent workers.\n",
      "\n",
      "[Parallel(n_jobs=16)]: Done  18 tasks      | elapsed:    0.0s\n",
      "\n",
      "[Parallel(n_jobs=16)]: Done 168 tasks      | elapsed:    0.1s\n",
      "\n",
      "[Parallel(n_jobs=16)]: Done 225 out of 225 | elapsed:    0.1s finished\n",
      "\n",
      "[Parallel(n_jobs=-1)]: Using backend ThreadingBackend with 16 concurrent workers.\n",
      "\n",
      "[Parallel(n_jobs=-1)]: Done  18 tasks      | elapsed:    1.0s\n",
      "\n",
      "[Parallel(n_jobs=-1)]: Done 168 tasks      | elapsed:    5.5s\n",
      "\n"
     ]
    },
    {
     "name": "stdout",
     "output_type": "stream",
     "text": [
      "3 CV - score: 0.6011                                                             \n",
      " 81%|████████▏ | 22/27 [16:53<04:45, 57.01s/trial, best loss: -0.601104563908723]"
     ]
    },
    {
     "name": "stderr",
     "output_type": "stream",
     "text": [
      "[Parallel(n_jobs=-1)]: Done 225 out of 225 | elapsed:    7.2s finished\n",
      "\n",
      "[Parallel(n_jobs=16)]: Using backend ThreadingBackend with 16 concurrent workers.\n",
      "\n",
      "[Parallel(n_jobs=16)]: Done  18 tasks      | elapsed:    0.0s\n",
      "\n",
      "[Parallel(n_jobs=16)]: Done 168 tasks      | elapsed:    0.1s\n",
      "\n",
      "[Parallel(n_jobs=16)]: Done 225 out of 225 | elapsed:    0.1s finished\n",
      "\n",
      "[Parallel(n_jobs=-1)]: Using backend ThreadingBackend with 16 concurrent workers.\n",
      "\n",
      "[Parallel(n_jobs=-1)]: Done  18 tasks      | elapsed:    1.4s\n",
      "\n",
      "[Parallel(n_jobs=-1)]: Done 168 tasks      | elapsed:    7.7s\n",
      "\n"
     ]
    },
    {
     "name": "stdout",
     "output_type": "stream",
     "text": [
      "4 CV - score: 0.5994                                                             \n",
      " 81%|████████▏ | 22/27 [17:04<04:45, 57.01s/trial, best loss: -0.601104563908723]"
     ]
    },
    {
     "name": "stderr",
     "output_type": "stream",
     "text": [
      "[Parallel(n_jobs=-1)]: Done 225 out of 225 | elapsed:   10.2s finished\n",
      "\n",
      "[Parallel(n_jobs=16)]: Using backend ThreadingBackend with 16 concurrent workers.\n",
      "\n",
      "[Parallel(n_jobs=16)]: Done  18 tasks      | elapsed:    0.0s\n",
      "\n",
      "[Parallel(n_jobs=16)]: Done 168 tasks      | elapsed:    0.1s\n",
      "\n",
      "[Parallel(n_jobs=16)]: Done 225 out of 225 | elapsed:    0.1s finished\n",
      "\n",
      "[Parallel(n_jobs=-1)]: Using backend ThreadingBackend with 16 concurrent workers.\n",
      "\n",
      "[Parallel(n_jobs=-1)]: Done  18 tasks      | elapsed:    1.8s\n",
      "\n",
      "[Parallel(n_jobs=-1)]: Done 168 tasks      | elapsed:   10.1s\n",
      "\n"
     ]
    },
    {
     "name": "stdout",
     "output_type": "stream",
     "text": [
      "5 CV - score: 0.605                                                              \n",
      " 81%|████████▏ | 22/27 [17:17<04:45, 57.01s/trial, best loss: -0.601104563908723]"
     ]
    },
    {
     "name": "stderr",
     "output_type": "stream",
     "text": [
      "[Parallel(n_jobs=-1)]: Done 225 out of 225 | elapsed:   13.2s finished\n",
      "\n",
      "[Parallel(n_jobs=16)]: Using backend ThreadingBackend with 16 concurrent workers.\n",
      "\n",
      "[Parallel(n_jobs=16)]: Done  18 tasks      | elapsed:    0.0s\n",
      "\n",
      "[Parallel(n_jobs=16)]: Done 168 tasks      | elapsed:    0.1s\n",
      "\n",
      "[Parallel(n_jobs=16)]: Done 225 out of 225 | elapsed:    0.1s finished\n",
      "\n",
      "[Parallel(n_jobs=-1)]: Using backend ThreadingBackend with 16 concurrent workers.\n",
      "\n",
      "[Parallel(n_jobs=-1)]: Done  18 tasks      | elapsed:    2.2s\n",
      "\n",
      "[Parallel(n_jobs=-1)]: Done 168 tasks      | elapsed:   12.3s\n",
      "\n"
     ]
    },
    {
     "name": "stdout",
     "output_type": "stream",
     "text": [
      "6 CV - score: 0.6308                                                             \n",
      " 81%|████████▏ | 22/27 [17:34<04:45, 57.01s/trial, best loss: -0.601104563908723]"
     ]
    },
    {
     "name": "stderr",
     "output_type": "stream",
     "text": [
      "[Parallel(n_jobs=-1)]: Done 225 out of 225 | elapsed:   16.2s finished\n",
      "\n",
      "[Parallel(n_jobs=16)]: Using backend ThreadingBackend with 16 concurrent workers.\n",
      "\n",
      "[Parallel(n_jobs=16)]: Done  18 tasks      | elapsed:    0.0s\n",
      "\n",
      "[Parallel(n_jobs=16)]: Done 168 tasks      | elapsed:    0.1s\n",
      "\n",
      "[Parallel(n_jobs=16)]: Done 225 out of 225 | elapsed:    0.1s finished\n",
      "\n",
      "[Parallel(n_jobs=-1)]: Using backend ThreadingBackend with 16 concurrent workers.\n",
      "\n",
      "[Parallel(n_jobs=-1)]: Done  18 tasks      | elapsed:    2.6s\n",
      "\n",
      "[Parallel(n_jobs=-1)]: Done 168 tasks      | elapsed:   14.6s\n",
      "\n"
     ]
    },
    {
     "name": "stdout",
     "output_type": "stream",
     "text": [
      "7 CV - score: 0.6038                                                             \n",
      "Total Time Run: 1.24                                                             \n",
      " 81%|████████▏ | 22/27 [17:53<04:45, 57.01s/trial, best loss: -0.601104563908723]"
     ]
    },
    {
     "name": "stderr",
     "output_type": "stream",
     "text": [
      "[Parallel(n_jobs=-1)]: Done 225 out of 225 | elapsed:   19.4s finished\n",
      "\n",
      "[Parallel(n_jobs=16)]: Using backend ThreadingBackend with 16 concurrent workers.\n",
      "\n",
      "[Parallel(n_jobs=16)]: Done  18 tasks      | elapsed:    0.0s\n",
      "\n",
      "[Parallel(n_jobs=16)]: Done 168 tasks      | elapsed:    0.1s\n",
      "\n",
      "[Parallel(n_jobs=16)]: Done 225 out of 225 | elapsed:    0.1s finished\n",
      "\n"
     ]
    },
    {
     "name": "stdout",
     "output_type": "stream",
     "text": [
      "Mean F1-Score: 0.5990393899504276                                                \n",
      "                                                                                 \n",
      "############## New Run ################\n",
      "params = {'n_estimators': 225, 'criterion': 'entropy', 'max_features': 'sqrt', 'min_samples_split': 2, 'max_depth': 19, 'min_samples_leaf': 11}\n",
      " 85%|████████▌ | 23/27 [17:54<04:09, 62.29s/trial, best loss: -0.601104563908723]"
     ]
    },
    {
     "name": "stderr",
     "output_type": "stream",
     "text": [
      "[Parallel(n_jobs=-1)]: Using backend ThreadingBackend with 16 concurrent workers.\n",
      "\n",
      "[Parallel(n_jobs=-1)]: Done  18 tasks      | elapsed:    0.2s\n",
      "\n",
      "[Parallel(n_jobs=-1)]: Done 168 tasks      | elapsed:    1.2s\n",
      "\n"
     ]
    },
    {
     "name": "stdout",
     "output_type": "stream",
     "text": [
      "1 CV - score: 0.5534                                                             \n",
      " 85%|████████▌ | 23/27 [17:55<04:09, 62.29s/trial, best loss: -0.601104563908723]"
     ]
    },
    {
     "name": "stderr",
     "output_type": "stream",
     "text": [
      "[Parallel(n_jobs=-1)]: Done 225 out of 225 | elapsed:    1.6s finished\n",
      "\n",
      "[Parallel(n_jobs=16)]: Using backend ThreadingBackend with 16 concurrent workers.\n",
      "\n",
      "[Parallel(n_jobs=16)]: Done  18 tasks      | elapsed:    0.0s\n",
      "\n",
      "[Parallel(n_jobs=16)]: Done 168 tasks      | elapsed:    0.1s\n",
      "\n",
      "[Parallel(n_jobs=16)]: Done 225 out of 225 | elapsed:    0.1s finished\n",
      "\n",
      "[Parallel(n_jobs=-1)]: Using backend ThreadingBackend with 16 concurrent workers.\n",
      "\n",
      "[Parallel(n_jobs=-1)]: Done  18 tasks      | elapsed:    0.5s\n",
      "\n",
      "[Parallel(n_jobs=-1)]: Done 168 tasks      | elapsed:    2.8s\n",
      "\n"
     ]
    },
    {
     "name": "stdout",
     "output_type": "stream",
     "text": [
      "2 CV - score: 0.589                                                              \n",
      " 85%|████████▌ | 23/27 [17:59<04:09, 62.29s/trial, best loss: -0.601104563908723]"
     ]
    },
    {
     "name": "stderr",
     "output_type": "stream",
     "text": [
      "[Parallel(n_jobs=-1)]: Done 225 out of 225 | elapsed:    3.7s finished\n",
      "\n",
      "[Parallel(n_jobs=16)]: Using backend ThreadingBackend with 16 concurrent workers.\n",
      "\n",
      "[Parallel(n_jobs=16)]: Done  18 tasks      | elapsed:    0.0s\n",
      "\n",
      "[Parallel(n_jobs=16)]: Done 168 tasks      | elapsed:    0.1s\n",
      "\n",
      "[Parallel(n_jobs=16)]: Done 225 out of 225 | elapsed:    0.1s finished\n",
      "\n",
      "[Parallel(n_jobs=-1)]: Using backend ThreadingBackend with 16 concurrent workers.\n",
      "\n",
      "[Parallel(n_jobs=-1)]: Done  18 tasks      | elapsed:    0.8s\n",
      "\n",
      "[Parallel(n_jobs=-1)]: Done 168 tasks      | elapsed:    4.6s\n",
      "\n"
     ]
    },
    {
     "name": "stdout",
     "output_type": "stream",
     "text": [
      "3 CV - score: 0.5835                                                             \n",
      " 85%|████████▌ | 23/27 [18:06<04:09, 62.29s/trial, best loss: -0.601104563908723]"
     ]
    },
    {
     "name": "stderr",
     "output_type": "stream",
     "text": [
      "[Parallel(n_jobs=-1)]: Done 225 out of 225 | elapsed:    6.1s finished\n",
      "\n",
      "[Parallel(n_jobs=16)]: Using backend ThreadingBackend with 16 concurrent workers.\n",
      "\n",
      "[Parallel(n_jobs=16)]: Done  18 tasks      | elapsed:    0.0s\n",
      "\n",
      "[Parallel(n_jobs=16)]: Done 168 tasks      | elapsed:    0.1s\n",
      "\n",
      "[Parallel(n_jobs=16)]: Done 225 out of 225 | elapsed:    0.1s finished\n",
      "\n",
      "[Parallel(n_jobs=-1)]: Using backend ThreadingBackend with 16 concurrent workers.\n",
      "\n",
      "[Parallel(n_jobs=-1)]: Done  18 tasks      | elapsed:    1.2s\n",
      "\n",
      "[Parallel(n_jobs=-1)]: Done 168 tasks      | elapsed:    6.6s\n",
      "\n"
     ]
    },
    {
     "name": "stdout",
     "output_type": "stream",
     "text": [
      "4 CV - score: 0.6003                                                             \n",
      " 85%|████████▌ | 23/27 [18:14<04:09, 62.29s/trial, best loss: -0.601104563908723]"
     ]
    },
    {
     "name": "stderr",
     "output_type": "stream",
     "text": [
      "[Parallel(n_jobs=-1)]: Done 225 out of 225 | elapsed:    8.6s finished\n",
      "\n",
      "[Parallel(n_jobs=16)]: Using backend ThreadingBackend with 16 concurrent workers.\n",
      "\n",
      "[Parallel(n_jobs=16)]: Done  18 tasks      | elapsed:    0.0s\n",
      "\n",
      "[Parallel(n_jobs=16)]: Done 168 tasks      | elapsed:    0.1s\n",
      "\n",
      "[Parallel(n_jobs=16)]: Done 225 out of 225 | elapsed:    0.1s finished\n",
      "\n",
      "[Parallel(n_jobs=-1)]: Using backend ThreadingBackend with 16 concurrent workers.\n",
      "\n",
      "[Parallel(n_jobs=-1)]: Done  18 tasks      | elapsed:    1.5s\n",
      "\n",
      "[Parallel(n_jobs=-1)]: Done 168 tasks      | elapsed:    8.5s\n",
      "\n"
     ]
    },
    {
     "name": "stdout",
     "output_type": "stream",
     "text": [
      "5 CV - score: 0.6061                                                             \n",
      " 85%|████████▌ | 23/27 [18:26<04:09, 62.29s/trial, best loss: -0.601104563908723]"
     ]
    },
    {
     "name": "stderr",
     "output_type": "stream",
     "text": [
      "[Parallel(n_jobs=-1)]: Done 225 out of 225 | elapsed:   11.2s finished\n",
      "\n",
      "[Parallel(n_jobs=16)]: Using backend ThreadingBackend with 16 concurrent workers.\n",
      "\n",
      "[Parallel(n_jobs=16)]: Done  18 tasks      | elapsed:    0.0s\n",
      "\n",
      "[Parallel(n_jobs=16)]: Done 168 tasks      | elapsed:    0.1s\n",
      "\n",
      "[Parallel(n_jobs=16)]: Done 225 out of 225 | elapsed:    0.1s finished\n",
      "\n",
      "[Parallel(n_jobs=-1)]: Using backend ThreadingBackend with 16 concurrent workers.\n",
      "\n",
      "[Parallel(n_jobs=-1)]: Done  18 tasks      | elapsed:    1.9s\n",
      "\n",
      "[Parallel(n_jobs=-1)]: Done 168 tasks      | elapsed:   10.5s\n",
      "\n"
     ]
    },
    {
     "name": "stdout",
     "output_type": "stream",
     "text": [
      "6 CV - score: 0.6323                                                             \n",
      " 85%|████████▌ | 23/27 [18:40<04:09, 62.29s/trial, best loss: -0.601104563908723]"
     ]
    },
    {
     "name": "stderr",
     "output_type": "stream",
     "text": [
      "[Parallel(n_jobs=-1)]: Done 225 out of 225 | elapsed:   13.9s finished\n",
      "\n",
      "[Parallel(n_jobs=16)]: Using backend ThreadingBackend with 16 concurrent workers.\n",
      "\n",
      "[Parallel(n_jobs=16)]: Done  18 tasks      | elapsed:    0.0s\n",
      "\n",
      "[Parallel(n_jobs=16)]: Done 168 tasks      | elapsed:    0.1s\n",
      "\n",
      "[Parallel(n_jobs=16)]: Done 225 out of 225 | elapsed:    0.1s finished\n",
      "\n",
      "[Parallel(n_jobs=-1)]: Using backend ThreadingBackend with 16 concurrent workers.\n",
      "\n",
      "[Parallel(n_jobs=-1)]: Done  18 tasks      | elapsed:    2.3s\n",
      "\n",
      "[Parallel(n_jobs=-1)]: Done 168 tasks      | elapsed:   12.7s\n",
      "\n"
     ]
    },
    {
     "name": "stdout",
     "output_type": "stream",
     "text": [
      "7 CV - score: 0.5922                                                             \n",
      "Total Time Run: 1.06                                                             \n",
      " 85%|████████▌ | 23/27 [18:57<04:09, 62.29s/trial, best loss: -0.601104563908723]"
     ]
    },
    {
     "name": "stderr",
     "output_type": "stream",
     "text": [
      "[Parallel(n_jobs=-1)]: Done 225 out of 225 | elapsed:   16.7s finished\n",
      "\n",
      "[Parallel(n_jobs=16)]: Using backend ThreadingBackend with 16 concurrent workers.\n",
      "\n",
      "[Parallel(n_jobs=16)]: Done  18 tasks      | elapsed:    0.0s\n",
      "\n",
      "[Parallel(n_jobs=16)]: Done 168 tasks      | elapsed:    0.1s\n",
      "\n",
      "[Parallel(n_jobs=16)]: Done 225 out of 225 | elapsed:    0.1s finished\n",
      "\n"
     ]
    },
    {
     "name": "stdout",
     "output_type": "stream",
     "text": [
      "Mean F1-Score: 0.5938180634861178                                                \n",
      "                                                                                 \n",
      "############## New Run ################\n",
      "params = {'n_estimators': 225, 'criterion': 'entropy', 'max_features': 'sqrt', 'min_samples_split': 2, 'max_depth': 20, 'min_samples_leaf': 6}\n",
      " 89%|████████▉ | 24/27 [18:57<03:08, 62.71s/trial, best loss: -0.601104563908723]"
     ]
    },
    {
     "name": "stderr",
     "output_type": "stream",
     "text": [
      "[Parallel(n_jobs=-1)]: Using backend ThreadingBackend with 16 concurrent workers.\n",
      "\n",
      "[Parallel(n_jobs=-1)]: Done  18 tasks      | elapsed:    0.3s\n",
      "\n",
      "[Parallel(n_jobs=-1)]: Done 168 tasks      | elapsed:    1.4s\n",
      "\n"
     ]
    },
    {
     "name": "stdout",
     "output_type": "stream",
     "text": [
      "1 CV - score: 0.5632                                                             \n",
      " 89%|████████▉ | 24/27 [18:59<03:08, 62.71s/trial, best loss: -0.601104563908723]"
     ]
    },
    {
     "name": "stderr",
     "output_type": "stream",
     "text": [
      "[Parallel(n_jobs=-1)]: Done 225 out of 225 | elapsed:    1.9s finished\n",
      "\n",
      "[Parallel(n_jobs=16)]: Using backend ThreadingBackend with 16 concurrent workers.\n",
      "\n",
      "[Parallel(n_jobs=16)]: Done  18 tasks      | elapsed:    0.0s\n",
      "\n",
      "[Parallel(n_jobs=16)]: Done 168 tasks      | elapsed:    0.1s\n",
      "\n",
      "[Parallel(n_jobs=16)]: Done 225 out of 225 | elapsed:    0.1s finished\n",
      "\n",
      "[Parallel(n_jobs=-1)]: Using backend ThreadingBackend with 16 concurrent workers.\n",
      "\n",
      "[Parallel(n_jobs=-1)]: Done  18 tasks      | elapsed:    0.6s\n",
      "\n",
      "[Parallel(n_jobs=-1)]: Done 168 tasks      | elapsed:    3.3s\n",
      "\n"
     ]
    },
    {
     "name": "stdout",
     "output_type": "stream",
     "text": [
      "2 CV - score: 0.5905                                                             \n",
      " 89%|████████▉ | 24/27 [19:04<03:08, 62.71s/trial, best loss: -0.601104563908723]"
     ]
    },
    {
     "name": "stderr",
     "output_type": "stream",
     "text": [
      "[Parallel(n_jobs=-1)]: Done 225 out of 225 | elapsed:    4.2s finished\n",
      "\n",
      "[Parallel(n_jobs=16)]: Using backend ThreadingBackend with 16 concurrent workers.\n",
      "\n",
      "[Parallel(n_jobs=16)]: Done  18 tasks      | elapsed:    0.0s\n",
      "\n",
      "[Parallel(n_jobs=16)]: Done 168 tasks      | elapsed:    0.1s\n",
      "\n",
      "[Parallel(n_jobs=16)]: Done 225 out of 225 | elapsed:    0.1s finished\n",
      "\n",
      "[Parallel(n_jobs=-1)]: Using backend ThreadingBackend with 16 concurrent workers.\n",
      "\n",
      "[Parallel(n_jobs=-1)]: Done  18 tasks      | elapsed:    0.9s\n",
      "\n",
      "[Parallel(n_jobs=-1)]: Done 168 tasks      | elapsed:    5.1s\n",
      "\n"
     ]
    },
    {
     "name": "stdout",
     "output_type": "stream",
     "text": [
      "3 CV - score: 0.5892                                                             \n",
      " 89%|████████▉ | 24/27 [19:11<03:08, 62.71s/trial, best loss: -0.601104563908723]"
     ]
    },
    {
     "name": "stderr",
     "output_type": "stream",
     "text": [
      "[Parallel(n_jobs=-1)]: Done 225 out of 225 | elapsed:    6.8s finished\n",
      "\n",
      "[Parallel(n_jobs=16)]: Using backend ThreadingBackend with 16 concurrent workers.\n",
      "\n",
      "[Parallel(n_jobs=16)]: Done  18 tasks      | elapsed:    0.0s\n",
      "\n",
      "[Parallel(n_jobs=16)]: Done 168 tasks      | elapsed:    0.1s\n",
      "\n",
      "[Parallel(n_jobs=16)]: Done 225 out of 225 | elapsed:    0.1s finished\n",
      "\n",
      "[Parallel(n_jobs=-1)]: Using backend ThreadingBackend with 16 concurrent workers.\n",
      "\n",
      "[Parallel(n_jobs=-1)]: Done  18 tasks      | elapsed:    1.3s\n",
      "\n",
      "[Parallel(n_jobs=-1)]: Done 168 tasks      | elapsed:    7.3s\n",
      "\n"
     ]
    },
    {
     "name": "stdout",
     "output_type": "stream",
     "text": [
      "4 CV - score: 0.5907                                                             \n",
      " 89%|████████▉ | 24/27 [19:21<03:08, 62.71s/trial, best loss: -0.601104563908723]"
     ]
    },
    {
     "name": "stderr",
     "output_type": "stream",
     "text": [
      "[Parallel(n_jobs=-1)]: Done 225 out of 225 | elapsed:    9.6s finished\n",
      "\n",
      "[Parallel(n_jobs=16)]: Using backend ThreadingBackend with 16 concurrent workers.\n",
      "\n",
      "[Parallel(n_jobs=16)]: Done  18 tasks      | elapsed:    0.0s\n",
      "\n",
      "[Parallel(n_jobs=16)]: Done 168 tasks      | elapsed:    0.1s\n",
      "\n",
      "[Parallel(n_jobs=16)]: Done 225 out of 225 | elapsed:    0.1s finished\n",
      "\n",
      "[Parallel(n_jobs=-1)]: Using backend ThreadingBackend with 16 concurrent workers.\n",
      "\n",
      "[Parallel(n_jobs=-1)]: Done  18 tasks      | elapsed:    1.7s\n",
      "\n",
      "[Parallel(n_jobs=-1)]: Done 168 tasks      | elapsed:    9.4s\n",
      "\n"
     ]
    },
    {
     "name": "stdout",
     "output_type": "stream",
     "text": [
      "5 CV - score: 0.6128                                                             \n",
      " 89%|████████▉ | 24/27 [19:33<03:08, 62.71s/trial, best loss: -0.601104563908723]"
     ]
    },
    {
     "name": "stderr",
     "output_type": "stream",
     "text": [
      "[Parallel(n_jobs=-1)]: Done 225 out of 225 | elapsed:   12.5s finished\n",
      "\n",
      "[Parallel(n_jobs=16)]: Using backend ThreadingBackend with 16 concurrent workers.\n",
      "\n",
      "[Parallel(n_jobs=16)]: Done  18 tasks      | elapsed:    0.0s\n",
      "\n",
      "[Parallel(n_jobs=16)]: Done 168 tasks      | elapsed:    0.1s\n",
      "\n",
      "[Parallel(n_jobs=16)]: Done 225 out of 225 | elapsed:    0.1s finished\n",
      "\n",
      "[Parallel(n_jobs=-1)]: Using backend ThreadingBackend with 16 concurrent workers.\n",
      "\n",
      "[Parallel(n_jobs=-1)]: Done  18 tasks      | elapsed:    2.1s\n",
      "\n",
      "[Parallel(n_jobs=-1)]: Done 168 tasks      | elapsed:   11.7s\n",
      "\n"
     ]
    },
    {
     "name": "stdout",
     "output_type": "stream",
     "text": [
      "6 CV - score: 0.64                                                               \n",
      " 89%|████████▉ | 24/27 [19:49<03:08, 62.71s/trial, best loss: -0.601104563908723]"
     ]
    },
    {
     "name": "stderr",
     "output_type": "stream",
     "text": [
      "[Parallel(n_jobs=-1)]: Done 225 out of 225 | elapsed:   15.5s finished\n",
      "\n",
      "[Parallel(n_jobs=16)]: Using backend ThreadingBackend with 16 concurrent workers.\n",
      "\n",
      "[Parallel(n_jobs=16)]: Done  18 tasks      | elapsed:    0.0s\n",
      "\n",
      "[Parallel(n_jobs=16)]: Done 168 tasks      | elapsed:    0.1s\n",
      "\n",
      "[Parallel(n_jobs=16)]: Done 225 out of 225 | elapsed:    0.1s finished\n",
      "\n",
      "[Parallel(n_jobs=-1)]: Using backend ThreadingBackend with 16 concurrent workers.\n",
      "\n",
      "[Parallel(n_jobs=-1)]: Done  18 tasks      | elapsed:    2.5s\n",
      "\n",
      "[Parallel(n_jobs=-1)]: Done 168 tasks      | elapsed:   13.9s\n",
      "\n"
     ]
    },
    {
     "name": "stdout",
     "output_type": "stream",
     "text": [
      "7 CV - score: 0.6003                                                             \n",
      "Total Time Run: 1.18                                                             \n",
      " 89%|████████▉ | 24/27 [20:08<03:08, 62.71s/trial, best loss: -0.601104563908723]"
     ]
    },
    {
     "name": "stderr",
     "output_type": "stream",
     "text": [
      "[Parallel(n_jobs=-1)]: Done 225 out of 225 | elapsed:   18.4s finished\n",
      "\n",
      "[Parallel(n_jobs=16)]: Using backend ThreadingBackend with 16 concurrent workers.\n",
      "\n",
      "[Parallel(n_jobs=16)]: Done  18 tasks      | elapsed:    0.0s\n",
      "\n",
      "[Parallel(n_jobs=16)]: Done 168 tasks      | elapsed:    0.1s\n",
      "\n",
      "[Parallel(n_jobs=16)]: Done 225 out of 225 | elapsed:    0.1s finished\n",
      "\n"
     ]
    },
    {
     "name": "stdout",
     "output_type": "stream",
     "text": [
      "Mean F1-Score: 0.5981157746207947                                                \n",
      "                                                                                 \n",
      "############## New Run ################\n",
      "params = {'n_estimators': 222, 'criterion': 'entropy', 'max_features': 'auto', 'min_samples_split': 15, 'max_depth': 17, 'min_samples_leaf': 18}\n",
      " 93%|█████████▎| 25/27 [20:08<02:10, 65.13s/trial, best loss: -0.601104563908723]"
     ]
    },
    {
     "name": "stderr",
     "output_type": "stream",
     "text": [
      "[Parallel(n_jobs=-1)]: Using backend ThreadingBackend with 16 concurrent workers.\n",
      "\n",
      "[Parallel(n_jobs=-1)]: Done  18 tasks      | elapsed:    0.2s\n",
      "\n",
      "[Parallel(n_jobs=-1)]: Done 168 tasks      | elapsed:    1.1s\n",
      "\n"
     ]
    },
    {
     "name": "stdout",
     "output_type": "stream",
     "text": [
      "1 CV - score: 0.541                                                              \n",
      " 93%|█████████▎| 25/27 [20:10<02:10, 65.13s/trial, best loss: -0.601104563908723]"
     ]
    },
    {
     "name": "stderr",
     "output_type": "stream",
     "text": [
      "[Parallel(n_jobs=-1)]: Done 222 out of 222 | elapsed:    1.4s finished\n",
      "\n",
      "[Parallel(n_jobs=16)]: Using backend ThreadingBackend with 16 concurrent workers.\n",
      "\n",
      "[Parallel(n_jobs=16)]: Done  18 tasks      | elapsed:    0.0s\n",
      "\n",
      "[Parallel(n_jobs=16)]: Done 168 tasks      | elapsed:    0.1s\n",
      "\n",
      "[Parallel(n_jobs=16)]: Done 222 out of 222 | elapsed:    0.1s finished\n",
      "\n",
      "[Parallel(n_jobs=-1)]: Using backend ThreadingBackend with 16 concurrent workers.\n",
      "\n",
      "[Parallel(n_jobs=-1)]: Done  18 tasks      | elapsed:    0.4s\n",
      "\n",
      "[Parallel(n_jobs=-1)]: Done 168 tasks      | elapsed:    2.5s\n",
      "\n"
     ]
    },
    {
     "name": "stdout",
     "output_type": "stream",
     "text": [
      "2 CV - score: 0.5736                                                             \n",
      " 93%|█████████▎| 25/27 [20:13<02:10, 65.13s/trial, best loss: -0.601104563908723]"
     ]
    },
    {
     "name": "stderr",
     "output_type": "stream",
     "text": [
      "[Parallel(n_jobs=-1)]: Done 222 out of 222 | elapsed:    3.2s finished\n",
      "\n",
      "[Parallel(n_jobs=16)]: Using backend ThreadingBackend with 16 concurrent workers.\n",
      "\n",
      "[Parallel(n_jobs=16)]: Done  18 tasks      | elapsed:    0.0s\n",
      "\n",
      "[Parallel(n_jobs=16)]: Done 168 tasks      | elapsed:    0.1s\n",
      "\n",
      "[Parallel(n_jobs=16)]: Done 222 out of 222 | elapsed:    0.1s finished\n",
      "\n",
      "[Parallel(n_jobs=-1)]: Using backend ThreadingBackend with 16 concurrent workers.\n",
      "\n",
      "[Parallel(n_jobs=-1)]: Done  18 tasks      | elapsed:    0.8s\n",
      "\n",
      "[Parallel(n_jobs=-1)]: Done 168 tasks      | elapsed:    4.2s\n",
      "\n"
     ]
    },
    {
     "name": "stdout",
     "output_type": "stream",
     "text": [
      "3 CV - score: 0.5722                                                             \n",
      " 93%|█████████▎| 25/27 [20:19<02:10, 65.13s/trial, best loss: -0.601104563908723]"
     ]
    },
    {
     "name": "stderr",
     "output_type": "stream",
     "text": [
      "[Parallel(n_jobs=-1)]: Done 222 out of 222 | elapsed:    5.5s finished\n",
      "\n",
      "[Parallel(n_jobs=16)]: Using backend ThreadingBackend with 16 concurrent workers.\n",
      "\n",
      "[Parallel(n_jobs=16)]: Done  18 tasks      | elapsed:    0.0s\n",
      "\n",
      "[Parallel(n_jobs=16)]: Done 168 tasks      | elapsed:    0.1s\n",
      "\n",
      "[Parallel(n_jobs=16)]: Done 222 out of 222 | elapsed:    0.1s finished\n",
      "\n",
      "[Parallel(n_jobs=-1)]: Using backend ThreadingBackend with 16 concurrent workers.\n",
      "\n",
      "[Parallel(n_jobs=-1)]: Done  18 tasks      | elapsed:    1.1s\n",
      "\n",
      "[Parallel(n_jobs=-1)]: Done 168 tasks      | elapsed:    5.8s\n",
      "\n"
     ]
    },
    {
     "name": "stdout",
     "output_type": "stream",
     "text": [
      "4 CV - score: 0.5886                                                             \n",
      " 93%|█████████▎| 25/27 [20:26<02:10, 65.13s/trial, best loss: -0.601104563908723]"
     ]
    },
    {
     "name": "stderr",
     "output_type": "stream",
     "text": [
      "[Parallel(n_jobs=-1)]: Done 222 out of 222 | elapsed:    7.5s finished\n",
      "\n",
      "[Parallel(n_jobs=16)]: Using backend ThreadingBackend with 16 concurrent workers.\n",
      "\n",
      "[Parallel(n_jobs=16)]: Done  18 tasks      | elapsed:    0.0s\n",
      "\n",
      "[Parallel(n_jobs=16)]: Done 168 tasks      | elapsed:    0.1s\n",
      "\n",
      "[Parallel(n_jobs=16)]: Done 222 out of 222 | elapsed:    0.1s finished\n",
      "\n",
      "[Parallel(n_jobs=-1)]: Using backend ThreadingBackend with 16 concurrent workers.\n",
      "\n",
      "[Parallel(n_jobs=-1)]: Done  18 tasks      | elapsed:    1.4s\n",
      "\n",
      "[Parallel(n_jobs=-1)]: Done 168 tasks      | elapsed:    7.6s\n",
      "\n"
     ]
    },
    {
     "name": "stdout",
     "output_type": "stream",
     "text": [
      "5 CV - score: 0.5957                                                             \n",
      " 93%|█████████▎| 25/27 [20:37<02:10, 65.13s/trial, best loss: -0.601104563908723]"
     ]
    },
    {
     "name": "stderr",
     "output_type": "stream",
     "text": [
      "[Parallel(n_jobs=-1)]: Done 222 out of 222 | elapsed:    9.9s finished\n",
      "\n",
      "[Parallel(n_jobs=16)]: Using backend ThreadingBackend with 16 concurrent workers.\n",
      "\n",
      "[Parallel(n_jobs=16)]: Done  18 tasks      | elapsed:    0.0s\n",
      "\n",
      "[Parallel(n_jobs=16)]: Done 168 tasks      | elapsed:    0.1s\n",
      "\n",
      "[Parallel(n_jobs=16)]: Done 222 out of 222 | elapsed:    0.1s finished\n",
      "\n",
      "[Parallel(n_jobs=-1)]: Using backend ThreadingBackend with 16 concurrent workers.\n",
      "\n",
      "[Parallel(n_jobs=-1)]: Done  18 tasks      | elapsed:    1.7s\n",
      "\n",
      "[Parallel(n_jobs=-1)]: Done 168 tasks      | elapsed:    9.9s\n",
      "\n"
     ]
    },
    {
     "name": "stdout",
     "output_type": "stream",
     "text": [
      "6 CV - score: 0.6224                                                             \n",
      " 93%|█████████▎| 25/27 [20:50<02:10, 65.13s/trial, best loss: -0.601104563908723]"
     ]
    },
    {
     "name": "stderr",
     "output_type": "stream",
     "text": [
      "[Parallel(n_jobs=-1)]: Done 222 out of 222 | elapsed:   12.8s finished\n",
      "\n",
      "[Parallel(n_jobs=16)]: Using backend ThreadingBackend with 16 concurrent workers.\n",
      "\n",
      "[Parallel(n_jobs=16)]: Done  18 tasks      | elapsed:    0.0s\n",
      "\n",
      "[Parallel(n_jobs=16)]: Done 168 tasks      | elapsed:    0.1s\n",
      "\n",
      "[Parallel(n_jobs=16)]: Done 222 out of 222 | elapsed:    0.1s finished\n",
      "\n",
      "[Parallel(n_jobs=-1)]: Using backend ThreadingBackend with 16 concurrent workers.\n",
      "\n",
      "[Parallel(n_jobs=-1)]: Done  18 tasks      | elapsed:    2.1s\n",
      "\n",
      "[Parallel(n_jobs=-1)]: Done 168 tasks      | elapsed:   11.4s\n",
      "\n"
     ]
    },
    {
     "name": "stdout",
     "output_type": "stream",
     "text": [
      "7 CV - score: 0.5916                                                             \n",
      "Total Time Run: 0.94                                                             \n",
      " 93%|█████████▎| 25/27 [21:04<02:10, 65.13s/trial, best loss: -0.601104563908723]"
     ]
    },
    {
     "name": "stderr",
     "output_type": "stream",
     "text": [
      "[Parallel(n_jobs=-1)]: Done 222 out of 222 | elapsed:   14.6s finished\n",
      "\n",
      "[Parallel(n_jobs=16)]: Using backend ThreadingBackend with 16 concurrent workers.\n",
      "\n",
      "[Parallel(n_jobs=16)]: Done  18 tasks      | elapsed:    0.0s\n",
      "\n",
      "[Parallel(n_jobs=16)]: Done 168 tasks      | elapsed:    0.1s\n",
      "\n",
      "[Parallel(n_jobs=16)]: Done 222 out of 222 | elapsed:    0.1s finished\n",
      "\n"
     ]
    },
    {
     "name": "stdout",
     "output_type": "stream",
     "text": [
      "Mean F1-Score: 0.5835954586912212                                                \n",
      "                                                                                 \n",
      "############## New Run ################\n",
      "params = {'n_estimators': 168, 'criterion': 'entropy', 'max_features': 'log2', 'min_samples_split': 17, 'max_depth': 17, 'min_samples_leaf': 21}\n",
      " 96%|█████████▋| 26/27 [21:05<01:02, 62.60s/trial, best loss: -0.601104563908723]"
     ]
    },
    {
     "name": "stderr",
     "output_type": "stream",
     "text": [
      "[Parallel(n_jobs=-1)]: Using backend ThreadingBackend with 16 concurrent workers.\n",
      "\n",
      "[Parallel(n_jobs=-1)]: Done  18 tasks      | elapsed:    0.1s\n",
      "\n"
     ]
    },
    {
     "name": "stdout",
     "output_type": "stream",
     "text": [
      "1 CV - score: 0.51                                                               \n",
      " 96%|█████████▋| 26/27 [21:05<01:02, 62.60s/trial, best loss: -0.601104563908723]"
     ]
    },
    {
     "name": "stderr",
     "output_type": "stream",
     "text": [
      "[Parallel(n_jobs=-1)]: Done 168 out of 168 | elapsed:    0.5s finished\n",
      "\n",
      "[Parallel(n_jobs=16)]: Using backend ThreadingBackend with 16 concurrent workers.\n",
      "\n",
      "[Parallel(n_jobs=16)]: Done  18 tasks      | elapsed:    0.0s\n",
      "\n",
      "[Parallel(n_jobs=16)]: Done 168 out of 168 | elapsed:    0.1s finished\n",
      "\n",
      "[Parallel(n_jobs=-1)]: Using backend ThreadingBackend with 16 concurrent workers.\n",
      "\n",
      "[Parallel(n_jobs=-1)]: Done  18 tasks      | elapsed:    0.2s\n",
      "\n"
     ]
    },
    {
     "name": "stdout",
     "output_type": "stream",
     "text": [
      "2 CV - score: 0.5639                                                             \n",
      " 96%|█████████▋| 26/27 [21:06<01:02, 62.60s/trial, best loss: -0.601104563908723]"
     ]
    },
    {
     "name": "stderr",
     "output_type": "stream",
     "text": [
      "[Parallel(n_jobs=-1)]: Done 168 out of 168 | elapsed:    0.9s finished\n",
      "\n",
      "[Parallel(n_jobs=16)]: Using backend ThreadingBackend with 16 concurrent workers.\n",
      "\n",
      "[Parallel(n_jobs=16)]: Done  18 tasks      | elapsed:    0.0s\n",
      "\n",
      "[Parallel(n_jobs=16)]: Done 168 out of 168 | elapsed:    0.1s finished\n",
      "\n",
      "[Parallel(n_jobs=-1)]: Using backend ThreadingBackend with 16 concurrent workers.\n",
      "\n",
      "[Parallel(n_jobs=-1)]: Done  18 tasks      | elapsed:    0.3s\n",
      "\n"
     ]
    },
    {
     "name": "stdout",
     "output_type": "stream",
     "text": [
      "3 CV - score: 0.5548                                                             \n",
      " 96%|█████████▋| 26/27 [21:08<01:02, 62.60s/trial, best loss: -0.601104563908723]"
     ]
    },
    {
     "name": "stderr",
     "output_type": "stream",
     "text": [
      "[Parallel(n_jobs=-1)]: Done 168 out of 168 | elapsed:    1.3s finished\n",
      "\n",
      "[Parallel(n_jobs=16)]: Using backend ThreadingBackend with 16 concurrent workers.\n",
      "\n",
      "[Parallel(n_jobs=16)]: Done  18 tasks      | elapsed:    0.0s\n",
      "\n",
      "[Parallel(n_jobs=16)]: Done 168 out of 168 | elapsed:    0.1s finished\n",
      "\n",
      "[Parallel(n_jobs=-1)]: Using backend ThreadingBackend with 16 concurrent workers.\n",
      "\n",
      "[Parallel(n_jobs=-1)]: Done  18 tasks      | elapsed:    0.3s\n",
      "\n"
     ]
    },
    {
     "name": "stdout",
     "output_type": "stream",
     "text": [
      "4 CV - score: 0.5712                                                             \n",
      " 96%|█████████▋| 26/27 [21:10<01:02, 62.60s/trial, best loss: -0.601104563908723]"
     ]
    },
    {
     "name": "stderr",
     "output_type": "stream",
     "text": [
      "[Parallel(n_jobs=-1)]: Done 168 out of 168 | elapsed:    1.9s finished\n",
      "\n",
      "[Parallel(n_jobs=16)]: Using backend ThreadingBackend with 16 concurrent workers.\n",
      "\n",
      "[Parallel(n_jobs=16)]: Done  18 tasks      | elapsed:    0.0s\n",
      "\n",
      "[Parallel(n_jobs=16)]: Done 168 out of 168 | elapsed:    0.1s finished\n",
      "\n",
      "[Parallel(n_jobs=-1)]: Using backend ThreadingBackend with 16 concurrent workers.\n",
      "\n",
      "[Parallel(n_jobs=-1)]: Done  18 tasks      | elapsed:    0.5s\n",
      "\n"
     ]
    },
    {
     "name": "stdout",
     "output_type": "stream",
     "text": [
      "5 CV - score: 0.5835                                                             \n",
      " 96%|█████████▋| 26/27 [21:13<01:02, 62.60s/trial, best loss: -0.601104563908723]"
     ]
    },
    {
     "name": "stderr",
     "output_type": "stream",
     "text": [
      "[Parallel(n_jobs=-1)]: Done 168 out of 168 | elapsed:    2.4s finished\n",
      "\n",
      "[Parallel(n_jobs=16)]: Using backend ThreadingBackend with 16 concurrent workers.\n",
      "\n",
      "[Parallel(n_jobs=16)]: Done  18 tasks      | elapsed:    0.0s\n",
      "\n",
      "[Parallel(n_jobs=16)]: Done 168 out of 168 | elapsed:    0.1s finished\n",
      "\n",
      "[Parallel(n_jobs=-1)]: Using backend ThreadingBackend with 16 concurrent workers.\n",
      "\n",
      "[Parallel(n_jobs=-1)]: Done  18 tasks      | elapsed:    0.5s\n",
      "\n"
     ]
    },
    {
     "name": "stdout",
     "output_type": "stream",
     "text": [
      "6 CV - score: 0.6047                                                             \n",
      " 96%|█████████▋| 26/27 [21:16<01:02, 62.60s/trial, best loss: -0.601104563908723]"
     ]
    },
    {
     "name": "stderr",
     "output_type": "stream",
     "text": [
      "[Parallel(n_jobs=-1)]: Done 168 out of 168 | elapsed:    3.0s finished\n",
      "\n",
      "[Parallel(n_jobs=16)]: Using backend ThreadingBackend with 16 concurrent workers.\n",
      "\n",
      "[Parallel(n_jobs=16)]: Done  18 tasks      | elapsed:    0.0s\n",
      "\n",
      "[Parallel(n_jobs=16)]: Done 168 out of 168 | elapsed:    0.1s finished\n",
      "\n",
      "[Parallel(n_jobs=-1)]: Using backend ThreadingBackend with 16 concurrent workers.\n",
      "\n",
      "[Parallel(n_jobs=-1)]: Done  18 tasks      | elapsed:    0.7s\n",
      "\n"
     ]
    },
    {
     "name": "stdout",
     "output_type": "stream",
     "text": [
      "7 CV - score: 0.5674                                                             \n",
      "Total Time Run: 0.25                                                             \n",
      " 96%|█████████▋| 26/27 [21:20<01:02, 62.60s/trial, best loss: -0.601104563908723]"
     ]
    },
    {
     "name": "stderr",
     "output_type": "stream",
     "text": [
      "[Parallel(n_jobs=-1)]: Done 168 out of 168 | elapsed:    3.6s finished\n",
      "\n",
      "[Parallel(n_jobs=16)]: Using backend ThreadingBackend with 16 concurrent workers.\n",
      "\n",
      "[Parallel(n_jobs=16)]: Done  18 tasks      | elapsed:    0.0s\n",
      "\n",
      "[Parallel(n_jobs=16)]: Done 168 out of 168 | elapsed:    0.1s finished\n",
      "\n"
     ]
    },
    {
     "name": "stdout",
     "output_type": "stream",
     "text": [
      "Mean F1-Score: 0.5650696558889127                                                \n",
      "100%|██████████| 27/27 [21:20<00:00, 47.42s/trial, best loss: -0.601104563908723]\n"
     ]
    }
   ],
   "source": [
    "X_train=pd.DataFrame(x_train)\n",
    "def objective(params):\n",
    "    time1 = time.time()\n",
    "    ### For Random Forest\n",
    "    params = {\n",
    "        'n_estimators': int(params['n_estimators']),\n",
    "        'criterion': params['criterion'],\n",
    "        'max_features': params['max_features'],\n",
    "        'min_samples_split': int(params['min_samples_split']),\n",
    "        'max_depth': int(params['max_depth']),\n",
    "        'min_samples_leaf': int(params['min_samples_leaf'])\n",
    "   \n",
    "    }\n",
    "\n",
    "\n",
    "    print(\"\\n############## New Run ################\")\n",
    "    print(f\"params = {params}\")\n",
    "    FOLDS = 7\n",
    "    count=1\n",
    "    skf = StratifiedKFold(n_splits=FOLDS, shuffle=True, random_state=42)\n",
    "\n",
    "    tss = TimeSeriesSplit(n_splits=FOLDS)\n",
    "\n",
    "    score_mean = 0\n",
    "    for tr_idx, val_idx in tss.split(X_train, y_train):\n",
    "        clf = RandomForestClassifier(random_state=4, verbose=True,**params,n_jobs=-1)\n",
    "\n",
    "        X_tr, X_vl = X_train.iloc[tr_idx, :], X_train.iloc[val_idx, :]\n",
    "        y_tr, y_vl = y_train.iloc[tr_idx], y_train.iloc[val_idx]\n",
    "        \n",
    "        clf.fit(X_tr, y_tr)\n",
    "        y_pred = clf.predict(X_vl)\n",
    "        score = f1_score( y_vl,y_pred,average='weighted')\n",
    "        score_mean += score\n",
    "        print(f'{count} CV - score: {round(score, 4)}')\n",
    "        count += 1\n",
    "    time2 = time.time() - time1\n",
    "    print(f\"Total Time Run: {round(time2 / 60,2)}\")\n",
    "    gc.collect()\n",
    "    print(f'Mean F1-Score: {score_mean / FOLDS}')\n",
    "    del X_tr, X_vl, y_tr, y_vl, clf, score\n",
    "    return -(score_mean / FOLDS)\n",
    "\n",
    "\n",
    "\n",
    "space = {\n",
    "    # The maximum depth of a tree, same as GBM.\n",
    "    # Used to control over-fitting as higher depth will allow model \n",
    "    # to learn relations very specific to a particular sample.\n",
    "    # Should be tuned using CV.\n",
    "    # Typical values: 3-10\n",
    "    \n",
    "    'n_estimators': hp.choice('n_estimators', list(range(100, 300, 1))),\n",
    "    'criterion': hp.choice('criterion', [\"gini\", \"entropy\"]),\n",
    "    'max_features': hp.choice('max_features', [\"auto\", \"sqrt\", \"log2\"]),\n",
    "    \"max_depth\": hp.quniform(\"max_depth\", 7, 23,1),\n",
    "    \n",
    "    \n",
    "    # more increases accuracy, but may lead to overfitting.\n",
    "    # num_leaves: the number of leaf nodes to use. Having a large number \n",
    "    # of leaves will improve accuracy, but will also lead to overfitting.\n",
    "    'min_samples_leaf': hp.choice('min_samples_leaf', list(range(1, 25,1))),\n",
    "    \n",
    "    # specifies the minimum samples per leaf node.\n",
    "    # the minimum number of samples (data) to group into a leaf. \n",
    "    # The parameter can greatly assist with overfitting: larger sample\n",
    "    # sizes per leaf will reduce overfitting (but may lead to under-fitting).\n",
    "    'min_samples_split': hp.choice('min_samples_split', list(range(2, 25, 1))),\n",
    "       \n",
    "\n",
    "}\n",
    "# Set algoritm parameters\n",
    "best = fmin(fn=objective,\n",
    "            space=space,\n",
    "            algo=tpe.suggest,\n",
    "            max_evals=27)\n",
    "\n",
    "# Print best parameters\n",
    "best_params = space_eval(space, best)"
   ]
  },
  {
   "cell_type": "code",
   "execution_count": 19,
   "metadata": {},
   "outputs": [
    {
     "data": {
      "text/plain": [
       "{'criterion': 'entropy',\n",
       " 'max_depth': 17.0,\n",
       " 'max_features': 'sqrt',\n",
       " 'min_samples_leaf': 5,\n",
       " 'min_samples_split': 2,\n",
       " 'n_estimators': 222}"
      ]
     },
     "execution_count": 19,
     "metadata": {},
     "output_type": "execute_result"
    }
   ],
   "source": [
    "best_params"
   ]
  },
  {
   "cell_type": "code",
   "execution_count": 20,
   "metadata": {},
   "outputs": [],
   "source": [
    "clf = RandomForestClassifier(**best_params, random_state = 18)\n",
    "clf.fit(x_train, y_train)\n",
    "y_pred=clf.predict(x_test)"
   ]
  },
  {
   "cell_type": "markdown",
   "metadata": {},
   "source": [
    "## Evaluation"
   ]
  },
  {
   "cell_type": "markdown",
   "metadata": {},
   "source": [
    "### Classification Report"
   ]
  },
  {
   "cell_type": "code",
   "execution_count": 21,
   "metadata": {
    "scrolled": false
   },
   "outputs": [
    {
     "name": "stdout",
     "output_type": "stream",
     "text": [
      "              precision    recall  f1-score   support\n",
      "\n",
      "         EAP       0.58      0.76      0.66      1975\n",
      "         HPL       0.66      0.48      0.56      1409\n",
      "         MWS       0.66      0.56      0.61      1511\n",
      "\n",
      "    accuracy                           0.62      4895\n",
      "   macro avg       0.63      0.60      0.61      4895\n",
      "weighted avg       0.63      0.62      0.61      4895\n",
      "\n"
     ]
    }
   ],
   "source": [
    "print(classification_report(\n",
    "    y_true,\n",
    "    y_pred,\n",
    "    output_dict=False,\n",
    "    target_names= df['author'].unique()\n",
    "))"
   ]
  },
  {
   "cell_type": "markdown",
   "metadata": {},
   "source": [
    "### Confusion Matrix"
   ]
  },
  {
   "cell_type": "code",
   "execution_count": 25,
   "metadata": {
    "scrolled": false
   },
   "outputs": [
    {
     "data": {
      "image/png": "[encoded data removed]",
      "text/plain": [
       "<Figure size 360x360 with 2 Axes>"
      ]
     },
     "metadata": {},
     "output_type": "display_data"
    }
   ],
   "source": [
    "conf_mat = confusion_matrix(y_test, y_pred)\n",
    "conf_mat\n",
    "fig, ax = plt.subplots(figsize=(5,5))\n",
    "sns.heatmap(conf_mat, annot=True, cmap=\"Blues\", fmt='d',\n",
    "            xticklabels=df['author'].unique(), \n",
    "            yticklabels=df['author'].unique())\n",
    "plt.ylabel('Actual')\n",
    "plt.xlabel('Predicted')\n",
    "plt.title(\"CONFUSION MATRIX\", size=16);"
   ]
  },
  {
   "cell_type": "markdown",
   "metadata": {},
   "source": [
    "### ROC AUC "
   ]
  },
  {
   "cell_type": "code",
   "execution_count": 34,
   "metadata": {},
   "outputs": [],
   "source": [
    "from sklearn.metrics import roc_auc_score\n",
    "\n",
    "def roc_auc_score_multiclass(actual_class, pred_class, average = \"macro\"):\n",
    "    \n",
    "    #creating a set of all the unique classes using the actual class list\n",
    "    unique_class = set(actual_class)\n",
    "    roc_auc_dict = {}\n",
    "    for per_class in unique_class:\n",
    "        \n",
    "        #creating a list of all the classes except the current class \n",
    "        other_class = [x for x in unique_class if x != per_class]\n",
    "\n",
    "        #marking the current class as 1 and all other classes as 0\n",
    "        new_actual_class = [0 if x in other_class else 1 for x in actual_class]\n",
    "        new_pred_class = [0 if x in other_class else 1 for x in pred_class]\n",
    "\n",
    "        #using the sklearn metrics method to calculate the roc_auc_score\n",
    "        roc_auc = roc_auc_score(new_actual_class, new_pred_class, average = average)\n",
    "        roc_auc_dict[per_class] = roc_auc\n",
    "\n",
    "    return roc_auc_dict"
   ]
  },
  {
   "cell_type": "code",
   "execution_count": 35,
   "metadata": {},
   "outputs": [
    {
     "data": {
      "text/plain": [
       "{0: 0.6942270677995491, 1: 0.6926753958956581, 2: 0.7167729205683147}"
      ]
     },
     "execution_count": 35,
     "metadata": {},
     "output_type": "execute_result"
    }
   ],
   "source": [
    "roc_auc_dict = roc_auc_score_multiclass(y_test, y_pred)\n",
    "roc_auc_dict"
   ]
  },
  {
   "cell_type": "markdown",
   "metadata": {},
   "source": [
    "### Accuracy per class"
   ]
  },
  {
   "cell_type": "code",
   "execution_count": 26,
   "metadata": {},
   "outputs": [],
   "source": [
    "# Get the confusion matrix\n",
    "cm = confusion_matrix(y_true, y_pred)\n",
    "\n",
    "# We will store the results in a dictionary for easy access later\n",
    "per_class_accuracies = {}\n",
    "\n",
    "# Calculate the accuracy for each one of our classes\n",
    "for idx, cls in enumerate(label_dict):\n",
    "    # True negatives are all the samples that are not our current GT class (not the current row) \n",
    "    # and were not predicted as the current class (not the current column)\n",
    "    true_negatives = np.sum(np.delete(np.delete(cm, idx, axis=0), idx, axis=1))\n",
    "    \n",
    "    # True positives are all the samples of our current GT class that were predicted as such\n",
    "    true_positives = cm[idx, idx]\n",
    "    \n",
    "    # The accuracy for the current class is ratio between correct predictions to all predictions\n",
    "    per_class_accuracies[cls] = (true_positives + true_negatives) / np.sum(cm)"
   ]
  },
  {
   "cell_type": "code",
   "execution_count": 27,
   "metadata": {
    "scrolled": false
   },
   "outputs": [
    {
     "data": {
      "text/plain": [
       "{'EAP': 0.681920326864147,\n",
       " 'HPL': 0.7812053115423901,\n",
       " 'MWS': 0.7752808988764045}"
      ]
     },
     "execution_count": 27,
     "metadata": {},
     "output_type": "execute_result"
    }
   ],
   "source": [
    "per_class_accuracies"
   ]
  },
  {
   "cell_type": "markdown",
   "metadata": {},
   "source": [
    "### Always confuse which F1 score choose in classfication ,here are some awesome points to remember\n",
    "\n",
    "\n",
    ">1. Suppose you have a balanced dataset and want an easily understandable metric for overall performance regardless of the class. In that case, you can go with accuracy, which is essentially our micro F1 score.\n",
    ">2. If you have an imbalanced dataset but want to assign greater contribution to classes with more examples in the dataset, then the weighted average is preferred.\n",
    ">3. if you are working with an imbalanced dataset where all classes are equally important, using the macro average would be a good choice as it treats all classes equally."
   ]
  },
  {
   "cell_type": "markdown",
   "metadata": {},
   "source": [
    "**Output per class F-1 score:**"
   ]
  },
  {
   "cell_type": "code",
   "execution_count": 43,
   "metadata": {
    "scrolled": true
   },
   "outputs": [
    {
     "data": {
      "text/plain": [
       "array([0.65787739, 0.56016427, 0.60770328])"
      ]
     },
     "execution_count": 43,
     "metadata": {},
     "output_type": "execute_result"
    }
   ],
   "source": [
    "f1_score(y_true, y_pred, average=None)"
   ]
  },
  {
   "cell_type": "markdown",
   "metadata": {},
   "source": [
    "\n",
    "\n",
    "**Micro averaged F1 Score:** calculate macro-averaged precision score and macro-averaged recall score and then take there harmonic mean"
   ]
  },
  {
   "cell_type": "code",
   "execution_count": 44,
   "metadata": {
    "scrolled": true
   },
   "outputs": [
    {
     "data": {
      "text/plain": [
       "0.6192032686414709"
      ]
     },
     "execution_count": 44,
     "metadata": {},
     "output_type": "execute_result"
    }
   ],
   "source": [
    "f1_score(y_true, y_pred, average='micro')"
   ]
  },
  {
   "cell_type": "markdown",
   "metadata": {},
   "source": [
    "**Macro averaged F1 Score:** calculate f1 score of every class and then average them"
   ]
  },
  {
   "cell_type": "code",
   "execution_count": 42,
   "metadata": {},
   "outputs": [
    {
     "data": {
      "text/plain": [
       "0.6085816472196796"
      ]
     },
     "execution_count": 42,
     "metadata": {},
     "output_type": "execute_result"
    }
   ],
   "source": [
    "f1_score(y_true, y_pred, average='macro')"
   ]
  },
  {
   "cell_type": "markdown",
   "metadata": {},
   "source": [
    "## OR"
   ]
  },
  {
   "cell_type": "code",
   "execution_count": 73,
   "metadata": {},
   "outputs": [
    {
     "data": {
      "text/plain": [
       "array([[1497,  200,  278],\n",
       "       [ 564,  682,  163],\n",
       "       [ 515,  144,  852]])"
      ]
     },
     "execution_count": 73,
     "metadata": {},
     "output_type": "execute_result"
    }
   ],
   "source": [
    "conf_mat"
   ]
  },
  {
   "cell_type": "code",
   "execution_count": 88,
   "metadata": {},
   "outputs": [],
   "source": [
    "conf_mat\n",
    "##TP: The actual value and predicted value should be the same. So concerning Setosa class, the value of cell 1 is the TP value.\n",
    "TP=np.diag(conf_mat)\n",
    "##FN: The sum of values of corresponding rows except the TP value\n",
    "FN= np.sum(conf_mat, axis = 1)-TP\n",
    "##FP : The sum of values of corresponding column except the TP value.\n",
    "FP= np.sum(conf_mat, axis = 0)-TP\n",
    "##TN: The sum of values of all columns and row except the values of that class that we are calculating the values for.\n",
    "TN=np.sum(conf_mat)-(FP + FN + TP)"
   ]
  },
  {
   "cell_type": "code",
   "execution_count": 103,
   "metadata": {
    "scrolled": true
   },
   "outputs": [
    {
     "data": {
      "text/html": [
       "<div>\n",
       "<style scoped>\n",
       "    .dataframe tbody tr th:only-of-type {\n",
       "        vertical-align: middle;\n",
       "    }\n",
       "\n",
       "    .dataframe tbody tr th {\n",
       "        vertical-align: top;\n",
       "    }\n",
       "\n",
       "    .dataframe thead th {\n",
       "        text-align: right;\n",
       "    }\n",
       "</style>\n",
       "<table border=\"1\" class=\"dataframe\">\n",
       "  <thead>\n",
       "    <tr style=\"text-align: right;\">\n",
       "      <th></th>\n",
       "      <th>label</th>\n",
       "      <th>TP</th>\n",
       "      <th>FP</th>\n",
       "      <th>FN</th>\n",
       "      <th>Precison</th>\n",
       "      <th>Recall</th>\n",
       "      <th>F1-Score</th>\n",
       "      <th>Macro Avg F1-Score</th>\n",
       "      <th>Micro Avg F1-Score</th>\n",
       "      <th>Support</th>\n",
       "      <th>Support Proportion</th>\n",
       "      <th>Wtd Avg F1-Score</th>\n",
       "    </tr>\n",
       "  </thead>\n",
       "  <tbody>\n",
       "    <tr>\n",
       "      <th>0</th>\n",
       "      <td>0</td>\n",
       "      <td>1497</td>\n",
       "      <td>1079</td>\n",
       "      <td>478</td>\n",
       "      <td>0.581134</td>\n",
       "      <td>0.757975</td>\n",
       "      <td>0.657877</td>\n",
       "      <td>0.608582</td>\n",
       "      <td>0.619203</td>\n",
       "      <td>1975</td>\n",
       "      <td>0.403473</td>\n",
       "      <td>0.614263</td>\n",
       "    </tr>\n",
       "    <tr>\n",
       "      <th>1</th>\n",
       "      <td>1</td>\n",
       "      <td>682</td>\n",
       "      <td>344</td>\n",
       "      <td>727</td>\n",
       "      <td>0.664717</td>\n",
       "      <td>0.484031</td>\n",
       "      <td>0.560164</td>\n",
       "      <td>0.608582</td>\n",
       "      <td>0.619203</td>\n",
       "      <td>1409</td>\n",
       "      <td>0.287845</td>\n",
       "      <td>0.614263</td>\n",
       "    </tr>\n",
       "    <tr>\n",
       "      <th>2</th>\n",
       "      <td>2</td>\n",
       "      <td>852</td>\n",
       "      <td>441</td>\n",
       "      <td>659</td>\n",
       "      <td>0.658933</td>\n",
       "      <td>0.563865</td>\n",
       "      <td>0.607703</td>\n",
       "      <td>0.608582</td>\n",
       "      <td>0.619203</td>\n",
       "      <td>1511</td>\n",
       "      <td>0.308682</td>\n",
       "      <td>0.614263</td>\n",
       "    </tr>\n",
       "  </tbody>\n",
       "</table>\n",
       "</div>"
      ],
      "text/plain": [
       "   label    TP    FP   FN  Precison    Recall  F1-Score  Macro Avg F1-Score  \\\n",
       "0      0  1497  1079  478  0.581134  0.757975  0.657877            0.608582   \n",
       "1      1   682   344  727  0.664717  0.484031  0.560164            0.608582   \n",
       "2      2   852   441  659  0.658933  0.563865  0.607703            0.608582   \n",
       "\n",
       "   Micro Avg F1-Score  Support  Support Proportion  Wtd Avg F1-Score  \n",
       "0            0.619203     1975            0.403473          0.614263  \n",
       "1            0.619203     1409            0.287845          0.614263  \n",
       "2            0.619203     1511            0.308682          0.614263  "
      ]
     },
     "execution_count": 103,
     "metadata": {},
     "output_type": "execute_result"
    }
   ],
   "source": [
    "d=pd.DataFrame(df['label'].unique(),columns=['label'])\n",
    "d['TP']=TP\n",
    "d['FP']=FP\n",
    "d['FN']=FN\n",
    "d['Precison']=d['TP']/(d['TP']+d['FP'])\n",
    "d['Recall']=d['TP']/(d['TP']+d['FN'])\n",
    "d['F1-Score']= 2 * ((d['Precison']*d['Recall'])/(d['Precison']+d['Recall']))\n",
    "d['Macro Avg F1-Score'] =sum(d['F1-Score']) /3\n",
    "d['Micro Avg F1-Score'] =sum(d['TP'])/(sum(d['TP'])+0.5*(sum(d['FP'])+sum(d['FN'])))\n",
    "d['Support']=[1975,1409,1511]  ## dict(pd.DataFrame(y_test).value_counts()) : {(0,): 1975, (2,): 1511, (1,): 1409}\n",
    "d['Support Proportion']=d['Support']/len(y_test)\n",
    "d['Wtd Avg F1-Score'] =sum(d['F1-Score']*d['Support Proportion'])\n",
    "d"
   ]
  },
  {
   "cell_type": "code",
   "execution_count": null,
   "metadata": {},
   "outputs": [],
   "source": []
  },
  {
   "cell_type": "code",
   "execution_count": null,
   "metadata": {},
   "outputs": [],
   "source": []
  },
  {
   "cell_type": "code",
   "execution_count": null,
   "metadata": {},
   "outputs": [],
   "source": []
  }
 ],
 "metadata": {
  "colab": {
   "name": "Text Classification on GLUE",
   "provenance": []
  },
  "kernelspec": {
   "display_name": "Python 3",
   "language": "python",
   "name": "python3"
  },
  "language_info": {
   "codemirror_mode": {
    "name": "ipython",
    "version": 3
   },
   "file_extension": ".py",
   "mimetype": "text/x-python",
   "name": "python",
   "nbconvert_exporter": "python",
   "pygments_lexer": "ipython3",
   "version": "3.8.0"
  }
 },
 "nbformat": 4,
 "nbformat_minor": 1
}

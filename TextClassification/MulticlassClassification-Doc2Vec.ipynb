{
 "cells": [
  {
   "cell_type": "markdown",
   "metadata": {},
   "source": [
    "# Doc2Vec\n",
    "\n",
    "Doc2vec is an NLP tool for representing documents as a vector and is a generalizing of the word2vec method.\n",
    "`Doc2vec is an unsupervised algorithm to generate vectors for sentence/paragraphs/documents.  Distributed Representations of Sentences and Documents . The algorithm is an adaptation of word2vec which can generate vectors for words.`\n",
    "\n",
    "Doc2vec is that we need to run gradient descent during prediction to infer the vector for an unseen document. An unseen document is initially assigned a random vector and then this vector fit by gradient descent. Because of this randomness we get different vectors on re-runs of the next cell.\n",
    "\n",
    "\n",
    "\n",
    "### Requirements:\n",
    "1. Python 3\n",
    "2. gensim==3.8.1\n",
    "3. sklearn\n",
    "4. pandas==0.24.0\n",
    "5. matplotlib\n",
    "6. nltk \n",
    "7. tqdm\n",
    "8. numpy==1.16.2\n",
    "\n",
    "### Dataset\n",
    "\n",
    "Movie dataset(`tagged_plots_movielens.csv`) with fields :\n",
    "\n",
    "1. MovieId\n",
    "2. Plot\n",
    "3. Tag\n",
    "\n",
    "We have to classify Genre of movie plot.\n",
    "\n",
    "\n",
    "### Model used\n",
    "\n",
    "1. Logostic regression\n",
    "2. Random Forest\n",
    "3. KNN \n"
   ]
  },
  {
   "cell_type": "code",
   "execution_count": 97,
   "metadata": {},
   "outputs": [],
   "source": [
    "##Import Libraries for manipulating data\n",
    "import pandas as pd\n",
    "import numpy as np\n",
    "from tqdm import tqdm\n",
    "tqdm.pandas(desc=\"progress-bar\")\n",
    "import re\n",
    "from nltk import word_tokenize\n",
    "from nltk.corpus import stopwords"
   ]
  },
  {
   "cell_type": "code",
   "execution_count": 77,
   "metadata": {},
   "outputs": [],
   "source": [
    "##Import Libraries for classification model building \n",
    "from sklearn import utils\n",
    "from sklearn.model_selection import train_test_split\n",
    "from sklearn.linear_model import LogisticRegression\n",
    "from sklearn.ensemble import RandomForestClassifier\n",
    "from sklearn.neighbors import KNeighborsClassifier\n",
    "from sklearn.metrics import accuracy_score, f1_score"
   ]
  },
  {
   "cell_type": "code",
   "execution_count": 3,
   "metadata": {},
   "outputs": [],
   "source": [
    "##Import Libraries for doc2vec model building\n",
    "from gensim.models.doc2vec import Doc2Vec, TaggedDocument"
   ]
  },
  {
   "cell_type": "code",
   "execution_count": 4,
   "metadata": {},
   "outputs": [],
   "source": [
    "##Import Libraries for Plotting\n",
    "import seaborn as sns\n",
    "import matplotlib.pyplot as plt\n",
    "%matplotlib inline"
   ]
  },
  {
   "cell_type": "markdown",
   "metadata": {},
   "source": [
    "## Data Loading"
   ]
  },
  {
   "cell_type": "code",
   "execution_count": 99,
   "metadata": {},
   "outputs": [
    {
     "data": {
      "text/html": [
       "<div>\n",
       "<style scoped>\n",
       "    .dataframe tbody tr th:only-of-type {\n",
       "        vertical-align: middle;\n",
       "    }\n",
       "\n",
       "    .dataframe tbody tr th {\n",
       "        vertical-align: top;\n",
       "    }\n",
       "\n",
       "    .dataframe thead th {\n",
       "        text-align: right;\n",
       "    }\n",
       "</style>\n",
       "<table border=\"1\" class=\"dataframe\">\n",
       "  <thead>\n",
       "    <tr style=\"text-align: right;\">\n",
       "      <th></th>\n",
       "      <th>movieId</th>\n",
       "      <th>plot</th>\n",
       "      <th>tag</th>\n",
       "    </tr>\n",
       "  </thead>\n",
       "  <tbody>\n",
       "    <tr>\n",
       "      <th>0</th>\n",
       "      <td>1</td>\n",
       "      <td>A little boy named Andy loves to be in his roo...</td>\n",
       "      <td>animation</td>\n",
       "    </tr>\n",
       "    <tr>\n",
       "      <th>1</th>\n",
       "      <td>2</td>\n",
       "      <td>When two kids find and play a magical board ga...</td>\n",
       "      <td>fantasy</td>\n",
       "    </tr>\n",
       "    <tr>\n",
       "      <th>2</th>\n",
       "      <td>3</td>\n",
       "      <td>Things don't seem to change much in Wabasha Co...</td>\n",
       "      <td>comedy</td>\n",
       "    </tr>\n",
       "    <tr>\n",
       "      <th>3</th>\n",
       "      <td>6</td>\n",
       "      <td>Hunters and their prey--Neil and his professio...</td>\n",
       "      <td>action</td>\n",
       "    </tr>\n",
       "    <tr>\n",
       "      <th>4</th>\n",
       "      <td>7</td>\n",
       "      <td>An ugly duckling having undergone a remarkable...</td>\n",
       "      <td>romance</td>\n",
       "    </tr>\n",
       "  </tbody>\n",
       "</table>\n",
       "</div>"
      ],
      "text/plain": [
       "   movieId                                               plot        tag\n",
       "0        1  A little boy named Andy loves to be in his roo...  animation\n",
       "1        2  When two kids find and play a magical board ga...    fantasy\n",
       "2        3  Things don't seem to change much in Wabasha Co...     comedy\n",
       "3        6  Hunters and their prey--Neil and his professio...     action\n",
       "4        7  An ugly duckling having undergone a remarkable...    romance"
      ]
     },
     "execution_count": 99,
     "metadata": {},
     "output_type": "execute_result"
    }
   ],
   "source": [
    "##Load Data\n",
    "dataset=pd.read_csv(\"tagged_plots_movielens.csv\")\n",
    "dataset.drop(columns=['Unnamed: 0'],inplace=True)\n",
    "dataset.head()"
   ]
  },
  {
   "cell_type": "code",
   "execution_count": 100,
   "metadata": {
    "scrolled": true
   },
   "outputs": [
    {
     "name": "stdout",
     "output_type": "stream",
     "text": [
      "<class 'pandas.core.frame.DataFrame'>\n",
      "RangeIndex: 2448 entries, 0 to 2447\n",
      "Data columns (total 3 columns):\n",
      "movieId    2448 non-null int64\n",
      "plot       2427 non-null object\n",
      "tag        2448 non-null object\n",
      "dtypes: int64(1), object(2)\n",
      "memory usage: 57.5+ KB\n"
     ]
    }
   ],
   "source": [
    "##Data Info\n",
    "dataset.info()"
   ]
  },
  {
   "cell_type": "code",
   "execution_count": 101,
   "metadata": {},
   "outputs": [
    {
     "data": {
      "text/plain": [
       "True"
      ]
     },
     "execution_count": 101,
     "metadata": {},
     "output_type": "execute_result"
    }
   ],
   "source": [
    "##Find if any null record is present\n",
    "dataset['plot'].isnull().values.any()"
   ]
  },
  {
   "cell_type": "code",
   "execution_count": 102,
   "metadata": {},
   "outputs": [
    {
     "data": {
      "text/plain": [
       "21"
      ]
     },
     "execution_count": 102,
     "metadata": {},
     "output_type": "execute_result"
    }
   ],
   "source": [
    "##Count no of null records\n",
    "dataset['plot'].isnull().sum()"
   ]
  },
  {
   "cell_type": "code",
   "execution_count": 103,
   "metadata": {},
   "outputs": [],
   "source": [
    "##Delete Null records\n",
    "dataset= dataset.dropna(how='any',axis=0)"
   ]
  },
  {
   "cell_type": "code",
   "execution_count": 104,
   "metadata": {
    "scrolled": true
   },
   "outputs": [
    {
     "data": {
      "text/plain": [
       "<matplotlib.axes._subplots.AxesSubplot at 0x124df0c50>"
      ]
     },
     "execution_count": 104,
     "metadata": {},
     "output_type": "execute_result"
    },
    {
     "data": {
      "image/png": "[encoded data removed]",
      "text/plain": [
       "<Figure size 432x288 with 1 Axes>"
      ]
     },
     "metadata": {
      "needs_background": "light"
     },
     "output_type": "display_data"
    }
   ],
   "source": [
    "##Plotting Dataset\n",
    "###### Check Distribution of different Classes \n",
    "tags = dataset.tag.unique()\n",
    "dataset.tag.value_counts().plot(kind=\"bar\", rot=0)"
   ]
  },
  {
   "cell_type": "markdown",
   "metadata": {},
   "source": [
    "## Text Preprocessing"
   ]
  },
  {
   "cell_type": "code",
   "execution_count": 105,
   "metadata": {},
   "outputs": [],
   "source": [
    "##Clean Data\n",
    "def clean_text(doc):\n",
    "    clean_text=re.sub(\"[^A-Za-z]\", \" \",doc)\n",
    "    res_text=\"\".join(clean_text.lower())\n",
    "    return res_text\n",
    "  "
   ]
  },
  {
   "cell_type": "code",
   "execution_count": 106,
   "metadata": {},
   "outputs": [],
   "source": [
    "dataset['plot']=dataset['plot'].apply(lambda x: clean_text(x))\n"
   ]
  },
  {
   "cell_type": "code",
   "execution_count": 107,
   "metadata": {},
   "outputs": [],
   "source": [
    "##Split data into Train test split\n",
    "train_data,test_data = np.split(dataset.sample(frac=1), [int(.90*len(dataset))])"
   ]
  },
  {
   "cell_type": "code",
   "execution_count": 108,
   "metadata": {},
   "outputs": [
    {
     "data": {
      "text/plain": [
       "(6552, 729)"
      ]
     },
     "execution_count": 108,
     "metadata": {},
     "output_type": "execute_result"
    }
   ],
   "source": [
    "train_data.size,test_data.size"
   ]
  },
  {
   "cell_type": "code",
   "execution_count": 109,
   "metadata": {},
   "outputs": [
    {
     "data": {
      "text/html": [
       "<div>\n",
       "<style scoped>\n",
       "    .dataframe tbody tr th:only-of-type {\n",
       "        vertical-align: middle;\n",
       "    }\n",
       "\n",
       "    .dataframe tbody tr th {\n",
       "        vertical-align: top;\n",
       "    }\n",
       "\n",
       "    .dataframe thead th {\n",
       "        text-align: right;\n",
       "    }\n",
       "</style>\n",
       "<table border=\"1\" class=\"dataframe\">\n",
       "  <thead>\n",
       "    <tr style=\"text-align: right;\">\n",
       "      <th></th>\n",
       "      <th>movieId</th>\n",
       "      <th>plot</th>\n",
       "      <th>tag</th>\n",
       "    </tr>\n",
       "  </thead>\n",
       "  <tbody>\n",
       "    <tr>\n",
       "      <th>0</th>\n",
       "      <td>59709</td>\n",
       "      <td>martin  a phd student in mathematics  enrolls ...</td>\n",
       "      <td>romance</td>\n",
       "    </tr>\n",
       "    <tr>\n",
       "      <th>1</th>\n",
       "      <td>41769</td>\n",
       "      <td>a dramatic comedy  inspired by the lives of tw...</td>\n",
       "      <td>romance</td>\n",
       "    </tr>\n",
       "    <tr>\n",
       "      <th>2</th>\n",
       "      <td>117176</td>\n",
       "      <td>the theory of everything is the story of the m...</td>\n",
       "      <td>romance</td>\n",
       "    </tr>\n",
       "    <tr>\n",
       "      <th>3</th>\n",
       "      <td>5235</td>\n",
       "      <td>in a futuristic london  the rising sea levels ...</td>\n",
       "      <td>sci-fi</td>\n",
       "    </tr>\n",
       "    <tr>\n",
       "      <th>4</th>\n",
       "      <td>77364</td>\n",
       "      <td>a cia special forces team are betrayed and lef...</td>\n",
       "      <td>comedy</td>\n",
       "    </tr>\n",
       "  </tbody>\n",
       "</table>\n",
       "</div>"
      ],
      "text/plain": [
       "   movieId                                               plot      tag\n",
       "0    59709  martin  a phd student in mathematics  enrolls ...  romance\n",
       "1    41769  a dramatic comedy  inspired by the lives of tw...  romance\n",
       "2   117176  the theory of everything is the story of the m...  romance\n",
       "3     5235  in a futuristic london  the rising sea levels ...   sci-fi\n",
       "4    77364  a cia special forces team are betrayed and lef...   comedy"
      ]
     },
     "execution_count": 109,
     "metadata": {},
     "output_type": "execute_result"
    }
   ],
   "source": [
    "train_data=train_data.reset_index(drop=True)\n",
    "train_data.head()"
   ]
  },
  {
   "cell_type": "code",
   "execution_count": 110,
   "metadata": {},
   "outputs": [
    {
     "data": {
      "text/html": [
       "<div>\n",
       "<style scoped>\n",
       "    .dataframe tbody tr th:only-of-type {\n",
       "        vertical-align: middle;\n",
       "    }\n",
       "\n",
       "    .dataframe tbody tr th {\n",
       "        vertical-align: top;\n",
       "    }\n",
       "\n",
       "    .dataframe thead th {\n",
       "        text-align: right;\n",
       "    }\n",
       "</style>\n",
       "<table border=\"1\" class=\"dataframe\">\n",
       "  <thead>\n",
       "    <tr style=\"text-align: right;\">\n",
       "      <th></th>\n",
       "      <th>movieId</th>\n",
       "      <th>plot</th>\n",
       "      <th>tag</th>\n",
       "    </tr>\n",
       "  </thead>\n",
       "  <tbody>\n",
       "    <tr>\n",
       "      <th>238</th>\n",
       "      <td>7387</td>\n",
       "      <td>following the events of night of the living de...</td>\n",
       "      <td>action</td>\n",
       "    </tr>\n",
       "    <tr>\n",
       "      <th>239</th>\n",
       "      <td>90154</td>\n",
       "      <td>troubled divorcee mary kee is tormented by a s...</td>\n",
       "      <td>romance</td>\n",
       "    </tr>\n",
       "    <tr>\n",
       "      <th>240</th>\n",
       "      <td>78209</td>\n",
       "      <td>english rock star aldous snow relapses into dr...</td>\n",
       "      <td>comedy</td>\n",
       "    </tr>\n",
       "    <tr>\n",
       "      <th>241</th>\n",
       "      <td>2289</td>\n",
       "      <td>a studio script screener gets on the bad side ...</td>\n",
       "      <td>comedy</td>\n",
       "    </tr>\n",
       "    <tr>\n",
       "      <th>242</th>\n",
       "      <td>1480</td>\n",
       "      <td>based on peter hoeg s bestseller  this film is...</td>\n",
       "      <td>sci-fi</td>\n",
       "    </tr>\n",
       "  </tbody>\n",
       "</table>\n",
       "</div>"
      ],
      "text/plain": [
       "     movieId                                               plot      tag\n",
       "238     7387  following the events of night of the living de...   action\n",
       "239    90154  troubled divorcee mary kee is tormented by a s...  romance\n",
       "240    78209  english rock star aldous snow relapses into dr...   comedy\n",
       "241     2289  a studio script screener gets on the bad side ...   comedy\n",
       "242     1480  based on peter hoeg s bestseller  this film is...   sci-fi"
      ]
     },
     "execution_count": 110,
     "metadata": {},
     "output_type": "execute_result"
    }
   ],
   "source": [
    "test_data=test_data.reset_index(drop=True)\n",
    "test_data.tail()"
   ]
  },
  {
   "cell_type": "code",
   "execution_count": 111,
   "metadata": {},
   "outputs": [],
   "source": [
    "# def tokenize_text(doc):\n",
    "#     return word_tokenize(doc)\n",
    "\n",
    "def tokenize_text(text):\n",
    "    tokens = []\n",
    "    for sent in nltk.sent_tokenize(text):\n",
    "        for word in nltk.word_tokenize(sent):\n",
    "            if len(word) < 2:\n",
    "                continue\n",
    "            tokens.append(word.lower())\n",
    "    return tokens"
   ]
  },
  {
   "cell_type": "code",
   "execution_count": 112,
   "metadata": {},
   "outputs": [],
   "source": [
    "train_data = train_data.apply(\n",
    "    lambda r: TaggedDocument(words=tokenize_text(r['plot']), tags=[r.tag]),axis=1)"
   ]
  },
  {
   "cell_type": "code",
   "execution_count": 113,
   "metadata": {},
   "outputs": [],
   "source": [
    "test_data = test_data.apply(\n",
    "    lambda r: TaggedDocument(words=tokenize_text(r['plot']), tags=[r.tag]),axis=1)"
   ]
  },
  {
   "cell_type": "code",
   "execution_count": 114,
   "metadata": {},
   "outputs": [],
   "source": [
    "import multiprocessing\n",
    "cores = multiprocessing.cpu_count()"
   ]
  },
  {
   "cell_type": "markdown",
   "metadata": {},
   "source": [
    "## Doc2Vec Model"
   ]
  },
  {
   "cell_type": "code",
   "execution_count": 115,
   "metadata": {},
   "outputs": [
    {
     "name": "stderr",
     "output_type": "stream",
     "text": [
      "/opt/anaconda3/lib/python3.6/site-packages/gensim/models/doc2vec.py:570: UserWarning: The parameter `iter` is deprecated, will be removed in 4.0.0, use `epochs` instead.\n",
      "  warnings.warn(\"The parameter `iter` is deprecated, will be removed in 4.0.0, use `epochs` instead.\")\n",
      "/opt/anaconda3/lib/python3.6/site-packages/gensim/models/doc2vec.py:574: UserWarning: The parameter `size` is deprecated, will be removed in 4.0.0, use `vector_size` instead.\n",
      "  warnings.warn(\"The parameter `size` is deprecated, will be removed in 4.0.0, use `vector_size` instead.\")\n",
      "100%|██████████| 2184/2184 [00:00<00:00, 1303038.40it/s]\n"
     ]
    }
   ],
   "source": [
    "##Model Building\n",
    "\n",
    "modelDoc = Doc2Vec(size=300, window=5, dm=1, dbow_words=1, hs=0, negative=10, alpha=0.05, min_count=20,\n",
    "                            sample=1e-5, seed=0, iter=10)\n",
    "##Build Vocab\n",
    "modelDoc.build_vocab([x for x in tqdm(train_data.values)])"
   ]
  },
  {
   "cell_type": "code",
   "execution_count": 116,
   "metadata": {},
   "outputs": [
    {
     "name": "stderr",
     "output_type": "stream",
     "text": [
      "100%|██████████| 2184/2184 [00:00<00:00, 1359910.92it/s]\n",
      "100%|██████████| 2184/2184 [00:00<00:00, 3062641.24it/s]\n",
      "100%|██████████| 2184/2184 [00:00<00:00, 2803905.70it/s]\n",
      "100%|██████████| 2184/2184 [00:00<00:00, 2397372.40it/s]\n",
      "100%|██████████| 2184/2184 [00:00<00:00, 3070854.82it/s]\n",
      "100%|██████████| 2184/2184 [00:00<00:00, 3231167.53it/s]\n",
      "100%|██████████| 2184/2184 [00:00<00:00, 3175168.09it/s]\n",
      "100%|██████████| 2184/2184 [00:00<00:00, 3215289.55it/s]\n",
      "100%|██████████| 2184/2184 [00:00<00:00, 2383648.17it/s]\n",
      "100%|██████████| 2184/2184 [00:00<00:00, 3045332.43it/s]\n",
      "100%|██████████| 2184/2184 [00:00<00:00, 1895769.85it/s]\n",
      "100%|██████████| 2184/2184 [00:00<00:00, 2717401.35it/s]\n",
      "100%|██████████| 2184/2184 [00:00<00:00, 2078121.58it/s]\n",
      "100%|██████████| 2184/2184 [00:00<00:00, 3028218.16it/s]\n",
      "100%|██████████| 2184/2184 [00:00<00:00, 1711576.97it/s]\n",
      "100%|██████████| 2184/2184 [00:00<00:00, 3175168.09it/s]\n",
      "100%|██████████| 2184/2184 [00:00<00:00, 3107313.41it/s]\n",
      "100%|██████████| 2184/2184 [00:00<00:00, 3013276.29it/s]\n",
      "100%|██████████| 2184/2184 [00:00<00:00, 3125336.04it/s]\n",
      "100%|██████████| 2184/2184 [00:00<00:00, 3110478.76it/s]\n",
      "100%|██████████| 2184/2184 [00:00<00:00, 2951146.89it/s]\n",
      "100%|██████████| 2184/2184 [00:00<00:00, 3047358.59it/s]\n",
      "100%|██████████| 2184/2184 [00:00<00:00, 3235732.93it/s]\n",
      "100%|██████████| 2184/2184 [00:00<00:00, 2320841.13it/s]\n",
      "100%|██████████| 2184/2184 [00:00<00:00, 2309140.39it/s]\n",
      "100%|██████████| 2184/2184 [00:00<00:00, 3036247.91it/s]\n",
      "100%|██████████| 2184/2184 [00:00<00:00, 2356059.65it/s]\n",
      "100%|██████████| 2184/2184 [00:00<00:00, 2249597.23it/s]\n",
      "100%|██████████| 2184/2184 [00:00<00:00, 3124270.10it/s]\n",
      "100%|██████████| 2184/2184 [00:00<00:00, 3198449.70it/s]\n"
     ]
    },
    {
     "name": "stdout",
     "output_type": "stream",
     "text": [
      "CPU times: user 2.83 s, sys: 652 ms, total: 3.49 s\n",
      "Wall time: 2.42 s\n"
     ]
    }
   ],
   "source": [
    "%%time\n",
    "for epoch in range(30):\n",
    "    modelDoc.train(utils.shuffle([x for x in tqdm(train_data.values)]), total_examples=len(train_data.values), epochs=1)\n",
    "    modelDoc.alpha -= 0.002\n",
    "    modelDoc.min_alpha = modelDoc.alpha"
   ]
  },
  {
   "cell_type": "code",
   "execution_count": 117,
   "metadata": {},
   "outputs": [],
   "source": [
    "import random\n",
    "seed = 10\n",
    "\n",
    "modelDoc.seed = seed\n",
    "modelDoc.random = np.random.RandomState(seed)\n",
    "def vec_for_learning(model, tagged_docs):\n",
    "    sents = tagged_docs.values\n",
    "    targets, regressors = zip(*[(doc.tags[0], model.infer_vector(doc.words, steps=20)) for doc in sents])\n",
    "    return targets, regressors\n",
    "\n",
    "    "
   ]
  },
  {
   "cell_type": "code",
   "execution_count": 118,
   "metadata": {},
   "outputs": [],
   "source": [
    "y_train, X_train = vec_for_learning(modelDoc, train_data)\n",
    "y_test, X_test = vec_for_learning(modelDoc, test_data)\n"
   ]
  },
  {
   "cell_type": "markdown",
   "metadata": {},
   "source": [
    "## Logistic Regression"
   ]
  },
  {
   "cell_type": "code",
   "execution_count": 119,
   "metadata": {
    "scrolled": true
   },
   "outputs": [
    {
     "name": "stderr",
     "output_type": "stream",
     "text": [
      "/opt/anaconda3/lib/python3.6/site-packages/sklearn/linear_model/logistic.py:432: FutureWarning: Default solver will be changed to 'lbfgs' in 0.22. Specify a solver to silence this warning.\n",
      "  FutureWarning)\n",
      "/opt/anaconda3/lib/python3.6/site-packages/sklearn/linear_model/logistic.py:469: FutureWarning: Default multi_class will be changed to 'auto' in 0.22. Specify the multi_class option to silence this warning.\n",
      "  \"this warning.\", FutureWarning)\n"
     ]
    },
    {
     "name": "stdout",
     "output_type": "stream",
     "text": [
      "Testing accuracy 0.38271604938271603\n",
      "Testing F1 score: 0.3725995645947657\n"
     ]
    }
   ],
   "source": [
    "log_reg = LogisticRegression(n_jobs=1, C=1e5,random_state=42)\n",
    "log_reg.fit(X_train, y_train)\n",
    "y_pred = log_reg.predict(X_test)\n",
    "\n",
    "print('Testing accuracy %s' % accuracy_score(y_test, y_pred))\n",
    "print('Testing F1 score: {}'.format(f1_score(y_test, y_pred, average='weighted')))"
   ]
  },
  {
   "cell_type": "markdown",
   "metadata": {},
   "source": [
    "## Random Forest"
   ]
  },
  {
   "cell_type": "code",
   "execution_count": 120,
   "metadata": {},
   "outputs": [
    {
     "name": "stdout",
     "output_type": "stream",
     "text": [
      "Testing accuracy 0.411522633744856\n",
      "Testing F1 score: 0.3607040722775264\n"
     ]
    },
    {
     "name": "stderr",
     "output_type": "stream",
     "text": [
      "/opt/anaconda3/lib/python3.6/site-packages/sklearn/ensemble/forest.py:245: FutureWarning: The default value of n_estimators will change from 10 in version 0.20 to 100 in 0.22.\n",
      "  \"10 in version 0.20 to 100 in 0.22.\", FutureWarning)\n"
     ]
    }
   ],
   "source": [
    "clf = RandomForestClassifier(max_depth=5, random_state=0)\n",
    "clf.fit(X_train, y_train)\n",
    "y_pred = clf.predict(X_test)\n",
    "\n",
    "print('Testing accuracy %s' % accuracy_score(y_test, y_pred))\n",
    "print('Testing F1 score: {}'.format(f1_score(y_test, y_pred, average='weighted')))"
   ]
  },
  {
   "cell_type": "markdown",
   "metadata": {},
   "source": [
    "## KNN Classifier"
   ]
  },
  {
   "cell_type": "code",
   "execution_count": 121,
   "metadata": {},
   "outputs": [
    {
     "name": "stdout",
     "output_type": "stream",
     "text": [
      "Testing accuracy 0.35390946502057613\n",
      "Testing F1 score: 0.33715979510090366\n"
     ]
    }
   ],
   "source": [
    "neigh = KNeighborsClassifier(n_neighbors=3)\n",
    "neigh.fit(X_train, y_train)\n",
    "y_pred = neigh.predict(X_test)\n",
    "\n",
    "print('Testing accuracy %s' % accuracy_score(y_test, y_pred))\n",
    "print('Testing F1 score: {}'.format(f1_score(y_test, y_pred, average='weighted')))"
   ]
  },
  {
   "cell_type": "code",
   "execution_count": 122,
   "metadata": {},
   "outputs": [
    {
     "name": "stderr",
     "output_type": "stream",
     "text": [
      "/opt/anaconda3/lib/python3.6/site-packages/ipykernel_launcher.py:1: DeprecationWarning: Call to deprecated `most_similar` (Method will be removed in 4.0.0, use self.wv.most_similar() instead).\n",
      "  \"\"\"Entry point for launching an IPython kernel.\n"
     ]
    },
    {
     "data": {
      "text/plain": [
       "[('earth', 0.9768292903900146),\n",
       " ('planet', 0.9689270257949829),\n",
       " ('government', 0.965299665927887),\n",
       " ('military', 0.9649670124053955),\n",
       " ('humanity', 0.9649150371551514),\n",
       " ('survivors', 0.9631949067115784),\n",
       " ('space', 0.9630962610244751),\n",
       " ('evil', 0.9624673128128052),\n",
       " ('distant', 0.9622239470481873),\n",
       " ('captain', 0.9622179269790649)]"
      ]
     },
     "execution_count": 122,
     "metadata": {},
     "output_type": "execute_result"
    }
   ],
   "source": [
    "modelDoc.most_similar([modelDoc.docvecs['sci-fi']])"
   ]
  },
  {
   "cell_type": "markdown",
   "metadata": {},
   "source": [
    "### Conclusion:\n",
    "\n",
    "Random Forest classifier gives the best result!!!\n",
    "\n",
    "For improving scores:\n",
    "    1. Introduce stopwords while cleaning text\n",
    "    2. Using dm=1 while building doc2vec instance creation"
   ]
  }
 ],
 "metadata": {
  "kernelspec": {
   "display_name": "Python 3",
   "language": "python",
   "name": "python3"
  },
  "language_info": {
   "codemirror_mode": {
    "name": "ipython",
    "version": 3
   },
   "file_extension": ".py",
   "mimetype": "text/x-python",
   "name": "python",
   "nbconvert_exporter": "python",
   "pygments_lexer": "ipython3",
   "version": "3.6.9"
  }
 },
 "nbformat": 4,
 "nbformat_minor": 2
}

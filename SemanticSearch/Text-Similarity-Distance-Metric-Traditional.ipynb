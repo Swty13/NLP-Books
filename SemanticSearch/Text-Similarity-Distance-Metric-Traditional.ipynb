{
 "cells": [
  {
   "cell_type": "markdown",
   "id": "3c689763",
   "metadata": {},
   "source": [
    "# Traditional Search\n",
    "\n",
    "We start our journey down the road of search in the traditional camp, here we find a few key players like:\n",
    "\n",
    ">**1. Jaccard Similarity**\n",
    "\n",
    ">**2. w-shingling**\n",
    "\n",
    ">**3. Levenshtein distance**\n",
    "\n",
    "\n"
   ]
  },
  {
   "cell_type": "markdown",
   "id": "33df6ea3",
   "metadata": {},
   "source": [
    "## 1. Jaccard Similarity"
   ]
  },
  {
   "cell_type": "markdown",
   "id": "8f97d654",
   "metadata": {},
   "source": [
    ">Jaccard similarity is a simple, but sometimes powerful similarity metric. Given two sequences, A and B — we find the number of shared elements between both and divide this by the total number of elements from both sequences."
   ]
  },
  {
   "cell_type": "code",
   "execution_count": 2,
   "id": "ea5cdf80",
   "metadata": {},
   "outputs": [
    {
     "data": {
      "text/plain": [
       "({0, 1, 2, 3, 4}, {3, 4, 5, 6, 7})"
      ]
     },
     "execution_count": 2,
     "metadata": {},
     "output_type": "execute_result"
    }
   ],
   "source": [
    "a = [0, 1, 2, 3, 3, 3, 4]\n",
    "b = [7, 6, 5, 4, 4, 3]\n",
    "\n",
    "# convert to sets\n",
    "a = set(a)\n",
    "b = set(b)\n",
    "\n",
    "a,b"
   ]
  },
  {
   "cell_type": "code",
   "execution_count": 3,
   "id": "bdd81104",
   "metadata": {},
   "outputs": [
    {
     "data": {
      "text/plain": [
       "{3, 4}"
      ]
     },
     "execution_count": 3,
     "metadata": {},
     "output_type": "execute_result"
    }
   ],
   "source": [
    "# find the number of shared values between sets\n",
    "shared = a.intersection(b)\n",
    "shared"
   ]
  },
  {
   "cell_type": "code",
   "execution_count": 4,
   "id": "44ed01e6",
   "metadata": {},
   "outputs": [
    {
     "data": {
      "text/plain": [
       "{0, 1, 2, 3, 4, 5, 6, 7}"
      ]
     },
     "execution_count": 4,
     "metadata": {},
     "output_type": "execute_result"
    }
   ],
   "source": [
    "# find the total number of values in both sets\n",
    "total = a.union(b)\n",
    "total"
   ]
  },
  {
   "cell_type": "code",
   "execution_count": 5,
   "id": "8555e9e7",
   "metadata": {},
   "outputs": [
    {
     "data": {
      "text/plain": [
       "0.25"
      ]
     },
     "execution_count": 5,
     "metadata": {},
     "output_type": "execute_result"
    }
   ],
   "source": [
    "# and calculate Jaccard similarity\n",
    "len(shared) / len(total)"
   ]
  },
  {
   "cell_type": "code",
   "execution_count": 6,
   "id": "5c87e4f4",
   "metadata": {},
   "outputs": [
    {
     "name": "stdout",
     "output_type": "stream",
     "text": [
      "['it', 'is', 'not', 'often', 'you', 'find', 'soggy', 'bananas', 'on', 'the', 'street']\n"
     ]
    }
   ],
   "source": [
    "a = \"his thought process was on so many levels that he gave himself a phobia of heights\".split()\n",
    "b = \"there is an art to getting your way and throwing bananas on to the street is not it\".split()\n",
    "c = \"it is not often you find soggy bananas on the street\".split()\n",
    "\n",
    "print(c)"
   ]
  },
  {
   "cell_type": "code",
   "execution_count": 7,
   "id": "baf7f941",
   "metadata": {},
   "outputs": [
    {
     "name": "stdout",
     "output_type": "stream",
     "text": [
      "{'soggy', 'it', 'on', 'find', 'bananas', 'not', 'the', 'often', 'is', 'street', 'you'}\n"
     ]
    }
   ],
   "source": [
    "a = set(a)\n",
    "b = set(b)\n",
    "c = set(c)\n",
    "\n",
    "print(c)"
   ]
  },
  {
   "cell_type": "code",
   "execution_count": 8,
   "id": "9a6518ae",
   "metadata": {},
   "outputs": [],
   "source": [
    "def jac(x: set, y: set):\n",
    "    shared = x.intersection(y)  # selects shared tokens only\n",
    "    return len(shared) / len(x.union(y))  # union adds both sets together"
   ]
  },
  {
   "cell_type": "code",
   "execution_count": 9,
   "id": "53cd7965",
   "metadata": {},
   "outputs": [
    {
     "data": {
      "text/plain": [
       "0.03225806451612903"
      ]
     },
     "execution_count": 9,
     "metadata": {},
     "output_type": "execute_result"
    }
   ],
   "source": [
    "jac(a, b)"
   ]
  },
  {
   "cell_type": "code",
   "execution_count": 11,
   "id": "c1647660",
   "metadata": {},
   "outputs": [
    {
     "data": {
      "text/plain": [
       "0.35"
      ]
     },
     "execution_count": 11,
     "metadata": {},
     "output_type": "execute_result"
    }
   ],
   "source": [
    "jac(b, c)"
   ]
  },
  {
   "cell_type": "markdown",
   "id": "c25a1e07",
   "metadata": {},
   "source": [
    "*We find that sentences b and c score much better, as we would expect. Now, it isn’t perfect — two sentences that share nothing but words like ‘the’, ‘a’, ‘is’, etc — could return high Jaccard scores despite being semantically dissimilar.*"
   ]
  },
  {
   "cell_type": "markdown",
   "id": "ac7544cb",
   "metadata": {},
   "source": [
    "## 2. w-Shingling"
   ]
  },
  {
   "cell_type": "markdown",
   "id": "1de5889a",
   "metadata": {},
   "source": [
    "> w-shingling uses the exact same logic of intersection / union — but with ‘shingles’. A 2-shingle of sentence a would look something like:\n",
    "> `a = {'his thought', 'thought process', 'process is', ...}`"
   ]
  },
  {
   "cell_type": "code",
   "execution_count": 12,
   "id": "6cafe95e",
   "metadata": {},
   "outputs": [],
   "source": [
    "a = \"his thought process was on so many levels that he gave himself a phobia of heights\".split()\n",
    "b = \"there is an art to getting your way and throwing bananas on to the street is not it\".split()\n",
    "c = \"it is not often you find soggy bananas on the street\".split()"
   ]
  },
  {
   "cell_type": "code",
   "execution_count": 13,
   "id": "04640e82",
   "metadata": {},
   "outputs": [
    {
     "name": "stdout",
     "output_type": "stream",
     "text": [
      "{'on so', 'process was', 'he gave', 'many levels', 'a phobia', 'his thought', 'phobia of', 'levels that', 'of heights', 'was on', 'himself a', 'gave himself', 'so many', 'thought process', 'that he'}\n"
     ]
    }
   ],
   "source": [
    "a_shingle = set([' '.join([a[i], a[i+1]]) for i in range(len(a)) if i != len(a)-1])\n",
    "b_shingle = set([' '.join([b[i], b[i+1]]) for i in range(len(b)) if i != len(b)-1])\n",
    "c_shingle = set([' '.join([c[i], c[i+1]]) for i in range(len(c)) if i != len(c)-1])\n",
    "print(a_shingle)"
   ]
  },
  {
   "cell_type": "code",
   "execution_count": 17,
   "id": "59489873",
   "metadata": {},
   "outputs": [
    {
     "data": {
      "text/plain": [
       "set()"
      ]
     },
     "execution_count": 17,
     "metadata": {},
     "output_type": "execute_result"
    }
   ],
   "source": [
    "a_shingle.intersection(b_shingle)  # these are the matching shingles"
   ]
  },
  {
   "cell_type": "code",
   "execution_count": 14,
   "id": "7adf3530",
   "metadata": {},
   "outputs": [
    {
     "data": {
      "text/plain": [
       "0.0"
      ]
     },
     "execution_count": 14,
     "metadata": {},
     "output_type": "execute_result"
    }
   ],
   "source": [
    "jac(a_shingle, b_shingle)  # we use the exact same Jaccard similarity calculation"
   ]
  },
  {
   "cell_type": "code",
   "execution_count": 16,
   "id": "cca9e181",
   "metadata": {},
   "outputs": [
    {
     "data": {
      "text/plain": [
       "{'bananas on', 'is not', 'the street'}"
      ]
     },
     "execution_count": 16,
     "metadata": {},
     "output_type": "execute_result"
    }
   ],
   "source": [
    "b_shingle.intersection(c_shingle)  # these are the matching shingles"
   ]
  },
  {
   "cell_type": "code",
   "execution_count": 15,
   "id": "34dd4af9",
   "metadata": {},
   "outputs": [
    {
     "data": {
      "text/plain": [
       "0.125"
      ]
     },
     "execution_count": 15,
     "metadata": {},
     "output_type": "execute_result"
    }
   ],
   "source": [
    "jac(b_shingle, c_shingle)"
   ]
  },
  {
   "cell_type": "markdown",
   "id": "b2a8cc43",
   "metadata": {},
   "source": [
    "## 3.Levenshtein Distance\n",
    "\n",
    "> It is calculated as the number of operations required to change one string into another "
   ]
  },
  {
   "cell_type": "code",
   "execution_count": 18,
   "id": "d07ab8d2",
   "metadata": {},
   "outputs": [],
   "source": [
    "a = ' Levenshtein'\n",
    "b = ' Livinshten'  # we include empty space at start of each word"
   ]
  },
  {
   "cell_type": "code",
   "execution_count": 19,
   "id": "7fc6c3a2",
   "metadata": {},
   "outputs": [
    {
     "data": {
      "text/plain": [
       "array([[0., 0., 0., 0., 0., 0., 0., 0., 0., 0., 0.],\n",
       "       [0., 0., 0., 0., 0., 0., 0., 0., 0., 0., 0.],\n",
       "       [0., 0., 0., 0., 0., 0., 0., 0., 0., 0., 0.],\n",
       "       [0., 0., 0., 0., 0., 0., 0., 0., 0., 0., 0.],\n",
       "       [0., 0., 0., 0., 0., 0., 0., 0., 0., 0., 0.],\n",
       "       [0., 0., 0., 0., 0., 0., 0., 0., 0., 0., 0.],\n",
       "       [0., 0., 0., 0., 0., 0., 0., 0., 0., 0., 0.],\n",
       "       [0., 0., 0., 0., 0., 0., 0., 0., 0., 0., 0.],\n",
       "       [0., 0., 0., 0., 0., 0., 0., 0., 0., 0., 0.],\n",
       "       [0., 0., 0., 0., 0., 0., 0., 0., 0., 0., 0.],\n",
       "       [0., 0., 0., 0., 0., 0., 0., 0., 0., 0., 0.],\n",
       "       [0., 0., 0., 0., 0., 0., 0., 0., 0., 0., 0.]])"
      ]
     },
     "execution_count": 19,
     "metadata": {},
     "output_type": "execute_result"
    }
   ],
   "source": [
    "import numpy as np\n",
    "# initialize empty zero array\n",
    "lev = np.zeros((len(a), len(b)))\n",
    "lev"
   ]
  },
  {
   "cell_type": "code",
   "execution_count": 20,
   "id": "b7ec0cce",
   "metadata": {},
   "outputs": [
    {
     "data": {
      "text/plain": [
       "array([[ 0.,  1.,  2.,  3.,  4.,  5.,  6.,  7.,  8.,  9., 10.],\n",
       "       [ 1.,  0.,  0.,  0.,  0.,  0.,  0.,  0.,  0.,  0.,  0.],\n",
       "       [ 2.,  0.,  0.,  0.,  0.,  0.,  0.,  0.,  0.,  0.,  0.],\n",
       "       [ 3.,  0.,  0.,  0.,  0.,  0.,  0.,  0.,  0.,  0.,  0.],\n",
       "       [ 4.,  0.,  0.,  0.,  0.,  0.,  0.,  0.,  0.,  0.,  0.],\n",
       "       [ 5.,  0.,  0.,  0.,  0.,  0.,  0.,  0.,  0.,  0.,  0.],\n",
       "       [ 6.,  0.,  0.,  0.,  0.,  0.,  0.,  0.,  0.,  0.,  0.],\n",
       "       [ 7.,  0.,  0.,  0.,  0.,  0.,  0.,  0.,  0.,  0.,  0.],\n",
       "       [ 8.,  0.,  0.,  0.,  0.,  0.,  0.,  0.,  0.,  0.,  0.],\n",
       "       [ 9.,  0.,  0.,  0.,  0.,  0.,  0.,  0.,  0.,  0.,  0.],\n",
       "       [10.,  0.,  0.,  0.,  0.,  0.,  0.,  0.,  0.,  0.,  0.],\n",
       "       [11.,  0.,  0.,  0.,  0.,  0.,  0.,  0.,  0.,  0.,  0.]])"
      ]
     },
     "execution_count": 20,
     "metadata": {},
     "output_type": "execute_result"
    }
   ],
   "source": [
    "for i in range(len(a)):\n",
    "    for j in range(len(b)):\n",
    "        # if i or j are 0\n",
    "        if min([i, j]) == 0:\n",
    "            # we assign matrix value at position i, j = max(i, j)\n",
    "            lev[i, j] = max([i, j])\n",
    "lev"
   ]
  },
  {
   "cell_type": "code",
   "execution_count": 21,
   "id": "2d17046d",
   "metadata": {},
   "outputs": [
    {
     "data": {
      "text/plain": [
       "array([[ 0.,  1.,  2.,  3.,  4.,  5.,  6.,  7.,  8.,  9., 10.],\n",
       "       [ 1.,  0.,  1.,  2.,  3.,  4.,  5.,  6.,  7.,  8.,  9.],\n",
       "       [ 2.,  1.,  1.,  2.,  3.,  4.,  5.,  6.,  7.,  7.,  8.],\n",
       "       [ 3.,  2.,  2.,  1.,  2.,  3.,  4.,  5.,  6.,  7.,  8.],\n",
       "       [ 4.,  3.,  3.,  2.,  2.,  3.,  4.,  5.,  6.,  6.,  7.],\n",
       "       [ 5.,  4.,  4.,  3.,  3.,  2.,  3.,  4.,  5.,  6.,  6.],\n",
       "       [ 6.,  5.,  5.,  4.,  4.,  3.,  2.,  3.,  4.,  5.,  6.],\n",
       "       [ 7.,  6.,  6.,  5.,  5.,  4.,  3.,  2.,  3.,  4.,  5.],\n",
       "       [ 8.,  7.,  7.,  6.,  6.,  5.,  4.,  3.,  2.,  3.,  4.],\n",
       "       [ 9.,  8.,  8.,  7.,  7.,  6.,  5.,  4.,  3.,  2.,  3.],\n",
       "       [10.,  9.,  8.,  8.,  7.,  7.,  6.,  5.,  4.,  3.,  3.],\n",
       "       [11., 10.,  9.,  9.,  8.,  7.,  7.,  6.,  5.,  4.,  3.]])"
      ]
     },
     "execution_count": 21,
     "metadata": {},
     "output_type": "execute_result"
    }
   ],
   "source": [
    "for i in range(len(a)):\n",
    "    for j in range(len(b)):\n",
    "        # we did this before (for when i or j are 0)\n",
    "        if min([i, j]) == 0:\n",
    "            lev[i, j] = max([i, j])\n",
    "        else:\n",
    "            # calculate our three possible operations\n",
    "            x = lev[i-1, j]  # deletion\n",
    "            y = lev[i, j-1]  # insertion\n",
    "            z = lev[i-1, j-1]  # substitution\n",
    "            # take the minimum (eg best path/operation)\n",
    "            lev[i, j] = min([x, y, z])\n",
    "            # and if our two current characters don't match, add 1\n",
    "            if a[i] != b[j]:\n",
    "                # if we have a match, don't add 1\n",
    "                lev[i, j] += 1\n",
    "lev"
   ]
  },
  {
   "cell_type": "code",
   "execution_count": 31,
   "id": "2c848e8c",
   "metadata": {},
   "outputs": [],
   "source": [
    "from leven import levenshtein   "
   ]
  },
  {
   "cell_type": "code",
   "execution_count": 34,
   "id": "9485015c",
   "metadata": {},
   "outputs": [
    {
     "name": "stdout",
     "output_type": "stream",
     "text": [
      "['it', 'is', 'not', 'often', 'you', 'find', 'soggy', 'bananas', 'on', 'the', 'street']\n"
     ]
    }
   ],
   "source": [
    "a = \"dream\"\n",
    "b = \"steam\""
   ]
  },
  {
   "cell_type": "code",
   "execution_count": 35,
   "id": "82f5a00f",
   "metadata": {},
   "outputs": [
    {
     "data": {
      "text/plain": [
       "2"
      ]
     },
     "execution_count": 35,
     "metadata": {},
     "output_type": "execute_result"
    }
   ],
   "source": [
    "levenshtein(a,b)"
   ]
  }
 ],
 "metadata": {
  "kernelspec": {
   "display_name": "Python 3",
   "language": "python",
   "name": "python3"
  },
  "language_info": {
   "codemirror_mode": {
    "name": "ipython",
    "version": 3
   },
   "file_extension": ".py",
   "mimetype": "text/x-python",
   "name": "python",
   "nbconvert_exporter": "python",
   "pygments_lexer": "ipython3",
   "version": "3.6.10"
  }
 },
 "nbformat": 4,
 "nbformat_minor": 5
}

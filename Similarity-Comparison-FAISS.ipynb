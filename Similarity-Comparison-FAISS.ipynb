{
 "cells": [
  {
   "cell_type": "code",
   "execution_count": 3,
   "metadata": {},
   "outputs": [],
   "source": [
    "import hnswlib\n",
    "import numpy as np\n",
    "import pandas as pd\n",
    "import time\n",
    "import pickle\n",
    "from sentence_transformers import SentenceTransformer, util"
   ]
  },
  {
   "cell_type": "code",
   "execution_count": 4,
   "metadata": {},
   "outputs": [],
   "source": [
    "##Load Model\n",
    "model = SentenceTransformer('all-MiniLM-L6-v2')"
   ]
  },
  {
   "cell_type": "code",
   "execution_count": 5,
   "metadata": {},
   "outputs": [
    {
     "data": {
      "text/plain": [
       "(100000, 4)"
      ]
     },
     "execution_count": 5,
     "metadata": {},
     "output_type": "execute_result"
    }
   ],
   "source": [
    "##Load data\n",
    "data=pd.read_csv(\"data.csv\",index_col=[0]).reset_index()\n",
    "data.shape"
   ]
  },
  {
   "cell_type": "code",
   "execution_count": 9,
   "metadata": {},
   "outputs": [
    {
     "data": {
      "text/html": [
       "<div>\n",
       "<style scoped>\n",
       "    .dataframe tbody tr th:only-of-type {\n",
       "        vertical-align: middle;\n",
       "    }\n",
       "\n",
       "    .dataframe tbody tr th {\n",
       "        vertical-align: top;\n",
       "    }\n",
       "\n",
       "    .dataframe thead th {\n",
       "        text-align: right;\n",
       "    }\n",
       "</style>\n",
       "<table border=\"1\" class=\"dataframe\">\n",
       "  <thead>\n",
       "    <tr style=\"text-align: right;\">\n",
       "      <th></th>\n",
       "      <th>index</th>\n",
       "      <th>JobTitle</th>\n",
       "    </tr>\n",
       "  </thead>\n",
       "  <tbody>\n",
       "    <tr>\n",
       "      <th>0</th>\n",
       "      <td>0</td>\n",
       "      <td>production packaging</td>\n",
       "    </tr>\n",
       "    <tr>\n",
       "      <th>1</th>\n",
       "      <td>1</td>\n",
       "      <td>contract sr business analyst</td>\n",
       "    </tr>\n",
       "    <tr>\n",
       "      <th>2</th>\n",
       "      <td>2</td>\n",
       "      <td>senior digital growth marketing strategist</td>\n",
       "    </tr>\n",
       "    <tr>\n",
       "      <th>3</th>\n",
       "      <td>3</td>\n",
       "      <td>senior machine learning engineer</td>\n",
       "    </tr>\n",
       "    <tr>\n",
       "      <th>4</th>\n",
       "      <td>4</td>\n",
       "      <td>android developer</td>\n",
       "    </tr>\n",
       "    <tr>\n",
       "      <th>5</th>\n",
       "      <td>5</td>\n",
       "      <td>corporate staff accountant</td>\n",
       "    </tr>\n",
       "    <tr>\n",
       "      <th>6</th>\n",
       "      <td>6</td>\n",
       "      <td>regional sales manager</td>\n",
       "    </tr>\n",
       "    <tr>\n",
       "      <th>7</th>\n",
       "      <td>7</td>\n",
       "      <td>outside sales representative</td>\n",
       "    </tr>\n",
       "    <tr>\n",
       "      <th>8</th>\n",
       "      <td>8</td>\n",
       "      <td>technical support specialist</td>\n",
       "    </tr>\n",
       "    <tr>\n",
       "      <th>9</th>\n",
       "      <td>9</td>\n",
       "      <td>fire truck inspector</td>\n",
       "    </tr>\n",
       "  </tbody>\n",
       "</table>\n",
       "</div>"
      ],
      "text/plain": [
       "   index                                    JobTitle\n",
       "0      0                        production packaging\n",
       "1      1                contract sr business analyst\n",
       "2      2  senior digital growth marketing strategist\n",
       "3      3            senior machine learning engineer\n",
       "4      4                           android developer\n",
       "5      5                  corporate staff accountant\n",
       "6      6                      regional sales manager\n",
       "7      7                outside sales representative\n",
       "8      8                technical support specialist\n",
       "9      9                        fire truck inspector"
      ]
     },
     "execution_count": 9,
     "metadata": {},
     "output_type": "execute_result"
    }
   ],
   "source": [
    "data.head(10)"
   ]
  },
  {
   "cell_type": "code",
   "execution_count": 12,
   "metadata": {},
   "outputs": [],
   "source": [
    "##Query for similarity match\n",
    "query=['nurse practitioner']"
   ]
  },
  {
   "cell_type": "markdown",
   "metadata": {},
   "source": [
    "## 1. Elastic Search"
   ]
  },
  {
   "cell_type": "code",
   "execution_count": 10,
   "metadata": {},
   "outputs": [],
   "source": [
    "from sklearn.metrics.pairwise import cosine_similarity"
   ]
  },
  {
   "cell_type": "code",
   "execution_count": 13,
   "metadata": {},
   "outputs": [],
   "source": [
    "embeddings1 = model.encode(data['JobTitle'].tolist(),convert_to_tensor=False, convert_to_numpy=True,normalize_embeddings=True)\n",
    "embeddings2 = model.encode(query,convert_to_tensor=False, convert_to_numpy=True,normalize_embeddings=True)"
   ]
  },
  {
   "cell_type": "code",
   "execution_count": 15,
   "metadata": {},
   "outputs": [
    {
     "name": "stdout",
     "output_type": "stream",
     "text": [
      "CPU times: user 371 ms, sys: 295 ms, total: 666 ms\n",
      "Wall time: 250 ms\n"
     ]
    }
   ],
   "source": [
    "%%time\n",
    "topn=10\n",
    "data['distances'] = cosine_similarity(embeddings1, embeddings2) \n",
    "n_largest = data['distances'].nlargest(topn + 1) \n",
    "cos_list=list(n_largest.index)"
   ]
  },
  {
   "cell_type": "code",
   "execution_count": 16,
   "metadata": {},
   "outputs": [
    {
     "data": {
      "text/html": [
       "<div>\n",
       "<style scoped>\n",
       "    .dataframe tbody tr th:only-of-type {\n",
       "        vertical-align: middle;\n",
       "    }\n",
       "\n",
       "    .dataframe tbody tr th {\n",
       "        vertical-align: top;\n",
       "    }\n",
       "\n",
       "    .dataframe thead th {\n",
       "        text-align: right;\n",
       "    }\n",
       "</style>\n",
       "<table border=\"1\" class=\"dataframe\">\n",
       "  <thead>\n",
       "    <tr style=\"text-align: right;\">\n",
       "      <th></th>\n",
       "      <th>index</th>\n",
       "      <th>JobTitle</th>\n",
       "      <th>distances</th>\n",
       "    </tr>\n",
       "  </thead>\n",
       "  <tbody>\n",
       "    <tr>\n",
       "      <th>4294</th>\n",
       "      <td>4294</td>\n",
       "      <td>nurse practitioner</td>\n",
       "      <td>1.000000</td>\n",
       "    </tr>\n",
       "    <tr>\n",
       "      <th>11377</th>\n",
       "      <td>11377</td>\n",
       "      <td>nurse practitioner</td>\n",
       "      <td>1.000000</td>\n",
       "    </tr>\n",
       "    <tr>\n",
       "      <th>33932</th>\n",
       "      <td>33932</td>\n",
       "      <td>nurse practitioner</td>\n",
       "      <td>1.000000</td>\n",
       "    </tr>\n",
       "    <tr>\n",
       "      <th>42671</th>\n",
       "      <td>42671</td>\n",
       "      <td>advanced registered nurse practitioner</td>\n",
       "      <td>0.821825</td>\n",
       "    </tr>\n",
       "    <tr>\n",
       "      <th>49928</th>\n",
       "      <td>49928</td>\n",
       "      <td>nurse practitioner</td>\n",
       "      <td>1.000000</td>\n",
       "    </tr>\n",
       "    <tr>\n",
       "      <th>50008</th>\n",
       "      <td>50008</td>\n",
       "      <td>nurse practitioner primary care</td>\n",
       "      <td>0.822325</td>\n",
       "    </tr>\n",
       "    <tr>\n",
       "      <th>51547</th>\n",
       "      <td>51547</td>\n",
       "      <td>nurse practitioner</td>\n",
       "      <td>1.000000</td>\n",
       "    </tr>\n",
       "    <tr>\n",
       "      <th>52211</th>\n",
       "      <td>52211</td>\n",
       "      <td>nurse practitioner</td>\n",
       "      <td>1.000000</td>\n",
       "    </tr>\n",
       "    <tr>\n",
       "      <th>57771</th>\n",
       "      <td>57771</td>\n",
       "      <td>nurse practitioner or physician assistant</td>\n",
       "      <td>0.826532</td>\n",
       "    </tr>\n",
       "    <tr>\n",
       "      <th>85303</th>\n",
       "      <td>85303</td>\n",
       "      <td>nurse practitioner</td>\n",
       "      <td>1.000000</td>\n",
       "    </tr>\n",
       "    <tr>\n",
       "      <th>92013</th>\n",
       "      <td>92013</td>\n",
       "      <td>inpatient nurse practitioner</td>\n",
       "      <td>0.863217</td>\n",
       "    </tr>\n",
       "  </tbody>\n",
       "</table>\n",
       "</div>"
      ],
      "text/plain": [
       "       index                                   JobTitle  distances\n",
       "4294    4294                         nurse practitioner   1.000000\n",
       "11377  11377                         nurse practitioner   1.000000\n",
       "33932  33932                         nurse practitioner   1.000000\n",
       "42671  42671     advanced registered nurse practitioner   0.821825\n",
       "49928  49928                         nurse practitioner   1.000000\n",
       "50008  50008            nurse practitioner primary care   0.822325\n",
       "51547  51547                         nurse practitioner   1.000000\n",
       "52211  52211                         nurse practitioner   1.000000\n",
       "57771  57771  nurse practitioner or physician assistant   0.826532\n",
       "85303  85303                         nurse practitioner   1.000000\n",
       "92013  92013               inpatient nurse practitioner   0.863217"
      ]
     },
     "execution_count": 16,
     "metadata": {},
     "output_type": "execute_result"
    }
   ],
   "source": [
    "data[data['index'].isin(cos_list)]"
   ]
  },
  {
   "cell_type": "markdown",
   "metadata": {},
   "source": [
    "## 2.Sentence Transformer Util.semantic_search "
   ]
  },
  {
   "cell_type": "code",
   "execution_count": 37,
   "metadata": {},
   "outputs": [],
   "source": [
    "#Compute embeddings\n",
    "embeddings1_util = model.encode(data['JobTitle'].tolist(), convert_to_tensor=True)\n",
    "embeddings2_util = model.encode(query, convert_to_tensor=True)"
   ]
  },
  {
   "cell_type": "code",
   "execution_count": 63,
   "metadata": {},
   "outputs": [
    {
     "name": "stdout",
     "output_type": "stream",
     "text": [
      "CPU times: user 1.33 s, sys: 3.01 ms, total: 1.33 s\n",
      "Wall time: 436 ms\n"
     ]
    }
   ],
   "source": [
    "%%time\n",
    "hits = util.semantic_search(embeddings1_util, embeddings2_util, top_k=min(10, topn),\n",
    "                                    score_function=util.dot_score)\n"
   ]
  },
  {
   "cell_type": "code",
   "execution_count": 56,
   "metadata": {},
   "outputs": [
    {
     "data": {
      "text/html": [
       "<div>\n",
       "<style scoped>\n",
       "    .dataframe tbody tr th:only-of-type {\n",
       "        vertical-align: middle;\n",
       "    }\n",
       "\n",
       "    .dataframe tbody tr th {\n",
       "        vertical-align: top;\n",
       "    }\n",
       "\n",
       "    .dataframe thead th {\n",
       "        text-align: right;\n",
       "    }\n",
       "</style>\n",
       "<table border=\"1\" class=\"dataframe\">\n",
       "  <thead>\n",
       "    <tr style=\"text-align: right;\">\n",
       "      <th></th>\n",
       "      <th>index</th>\n",
       "      <th>JobTitle</th>\n",
       "      <th>distances</th>\n",
       "      <th>score</th>\n",
       "    </tr>\n",
       "  </thead>\n",
       "  <tbody>\n",
       "    <tr>\n",
       "      <th>4294</th>\n",
       "      <td>4294</td>\n",
       "      <td>nurse practitioner</td>\n",
       "      <td>1.000000</td>\n",
       "      <td>1.000000</td>\n",
       "    </tr>\n",
       "    <tr>\n",
       "      <th>11377</th>\n",
       "      <td>11377</td>\n",
       "      <td>nurse practitioner</td>\n",
       "      <td>1.000000</td>\n",
       "      <td>1.000000</td>\n",
       "    </tr>\n",
       "    <tr>\n",
       "      <th>33932</th>\n",
       "      <td>33932</td>\n",
       "      <td>nurse practitioner</td>\n",
       "      <td>1.000000</td>\n",
       "      <td>1.000000</td>\n",
       "    </tr>\n",
       "    <tr>\n",
       "      <th>42671</th>\n",
       "      <td>42671</td>\n",
       "      <td>advanced registered nurse practitioner</td>\n",
       "      <td>0.821825</td>\n",
       "      <td>0.821824</td>\n",
       "    </tr>\n",
       "    <tr>\n",
       "      <th>49928</th>\n",
       "      <td>49928</td>\n",
       "      <td>nurse practitioner</td>\n",
       "      <td>1.000000</td>\n",
       "      <td>1.000000</td>\n",
       "    </tr>\n",
       "    <tr>\n",
       "      <th>50008</th>\n",
       "      <td>50008</td>\n",
       "      <td>nurse practitioner primary care</td>\n",
       "      <td>0.822325</td>\n",
       "      <td>0.822324</td>\n",
       "    </tr>\n",
       "    <tr>\n",
       "      <th>51547</th>\n",
       "      <td>51547</td>\n",
       "      <td>nurse practitioner</td>\n",
       "      <td>1.000000</td>\n",
       "      <td>1.000000</td>\n",
       "    </tr>\n",
       "    <tr>\n",
       "      <th>52211</th>\n",
       "      <td>52211</td>\n",
       "      <td>nurse practitioner</td>\n",
       "      <td>1.000000</td>\n",
       "      <td>1.000000</td>\n",
       "    </tr>\n",
       "    <tr>\n",
       "      <th>57771</th>\n",
       "      <td>57771</td>\n",
       "      <td>nurse practitioner or physician assistant</td>\n",
       "      <td>0.826532</td>\n",
       "      <td>0.826533</td>\n",
       "    </tr>\n",
       "    <tr>\n",
       "      <th>85303</th>\n",
       "      <td>85303</td>\n",
       "      <td>nurse practitioner</td>\n",
       "      <td>1.000000</td>\n",
       "      <td>1.000000</td>\n",
       "    </tr>\n",
       "    <tr>\n",
       "      <th>92013</th>\n",
       "      <td>92013</td>\n",
       "      <td>inpatient nurse practitioner</td>\n",
       "      <td>0.863217</td>\n",
       "      <td>0.863217</td>\n",
       "    </tr>\n",
       "  </tbody>\n",
       "</table>\n",
       "</div>"
      ],
      "text/plain": [
       "       index                                   JobTitle  distances     score\n",
       "4294    4294                         nurse practitioner   1.000000  1.000000\n",
       "11377  11377                         nurse practitioner   1.000000  1.000000\n",
       "33932  33932                         nurse practitioner   1.000000  1.000000\n",
       "42671  42671     advanced registered nurse practitioner   0.821825  0.821824\n",
       "49928  49928                         nurse practitioner   1.000000  1.000000\n",
       "50008  50008            nurse practitioner primary care   0.822325  0.822324\n",
       "51547  51547                         nurse practitioner   1.000000  1.000000\n",
       "52211  52211                         nurse practitioner   1.000000  1.000000\n",
       "57771  57771  nurse practitioner or physician assistant   0.826532  0.826533\n",
       "85303  85303                         nurse practitioner   1.000000  1.000000\n",
       "92013  92013               inpatient nurse practitioner   0.863217  0.863217"
      ]
     },
     "execution_count": 56,
     "metadata": {},
     "output_type": "execute_result"
    }
   ],
   "source": [
    "s=[]\n",
    "for i in hits:\n",
    "    for j in i:\n",
    "        s.append(j['score'])\n",
    "data['score']=s\n",
    "n_largest = data['score'].nlargest(topn + 1) \n",
    "sem_list=list(n_largest.index)\n",
    "data[data['index'].isin(cos_list)]"
   ]
  },
  {
   "cell_type": "markdown",
   "metadata": {},
   "source": [
    "## 3. Faiss \n",
    "\n",
    "https://towardsdatascience.com/getting-started-with-faiss-93e19e887a0c"
   ]
  },
  {
   "cell_type": "code",
   "execution_count": 99,
   "metadata": {},
   "outputs": [],
   "source": [
    "##Installl Faiss Library\n",
    "# pip install faiss-cpu"
   ]
  },
  {
   "cell_type": "code",
   "execution_count": 17,
   "metadata": {},
   "outputs": [],
   "source": [
    "import faiss"
   ]
  },
  {
   "cell_type": "markdown",
   "metadata": {},
   "source": [
    "### IndexFlatL2 \n",
    "IndexFlatL2 measures the L2 (or Euclidean) distance between all given points between our query vector, and the vectors loaded into the index. It’s simple, very accurate, but not too fast."
   ]
  },
  {
   "cell_type": "code",
   "execution_count": 19,
   "metadata": {},
   "outputs": [
    {
     "data": {
      "text/plain": [
       "100000"
      ]
     },
     "execution_count": 19,
     "metadata": {},
     "output_type": "execute_result"
    }
   ],
   "source": [
    "# Step 2: Instantiate the index\n",
    "index = faiss.IndexFlatL2(embeddings1.shape[1])\n",
    "\n",
    "# Step 3: Add the index\n",
    "index.add(embeddings1)\n",
    "index.ntotal"
   ]
  },
  {
   "cell_type": "code",
   "execution_count": 20,
   "metadata": {},
   "outputs": [
    {
     "name": "stdout",
     "output_type": "stream",
     "text": [
      "CPU times: user 156 ms, sys: 2.01 ms, total: 158 ms\n",
      "Wall time: 62.1 ms\n"
     ]
    }
   ],
   "source": [
    "%%time\n",
    "# # Retrieve the 10 nearest neighbours\n",
    "num_results=10\n",
    "vector = model.encode(query)\n",
    "D, I = index.search(np.array(vector).astype(\"float32\"), k=num_results)"
   ]
  },
  {
   "cell_type": "code",
   "execution_count": 21,
   "metadata": {
    "scrolled": true
   },
   "outputs": [
    {
     "data": {
      "text/html": [
       "<div>\n",
       "<style scoped>\n",
       "    .dataframe tbody tr th:only-of-type {\n",
       "        vertical-align: middle;\n",
       "    }\n",
       "\n",
       "    .dataframe tbody tr th {\n",
       "        vertical-align: top;\n",
       "    }\n",
       "\n",
       "    .dataframe thead th {\n",
       "        text-align: right;\n",
       "    }\n",
       "</style>\n",
       "<table border=\"1\" class=\"dataframe\">\n",
       "  <thead>\n",
       "    <tr style=\"text-align: right;\">\n",
       "      <th></th>\n",
       "      <th>index</th>\n",
       "      <th>JobTitle</th>\n",
       "      <th>distances</th>\n",
       "    </tr>\n",
       "  </thead>\n",
       "  <tbody>\n",
       "    <tr>\n",
       "      <th>4294</th>\n",
       "      <td>4294</td>\n",
       "      <td>nurse practitioner</td>\n",
       "      <td>1.000000</td>\n",
       "    </tr>\n",
       "    <tr>\n",
       "      <th>11377</th>\n",
       "      <td>11377</td>\n",
       "      <td>nurse practitioner</td>\n",
       "      <td>1.000000</td>\n",
       "    </tr>\n",
       "    <tr>\n",
       "      <th>33932</th>\n",
       "      <td>33932</td>\n",
       "      <td>nurse practitioner</td>\n",
       "      <td>1.000000</td>\n",
       "    </tr>\n",
       "    <tr>\n",
       "      <th>49928</th>\n",
       "      <td>49928</td>\n",
       "      <td>nurse practitioner</td>\n",
       "      <td>1.000000</td>\n",
       "    </tr>\n",
       "    <tr>\n",
       "      <th>50008</th>\n",
       "      <td>50008</td>\n",
       "      <td>nurse practitioner primary care</td>\n",
       "      <td>0.822325</td>\n",
       "    </tr>\n",
       "    <tr>\n",
       "      <th>51547</th>\n",
       "      <td>51547</td>\n",
       "      <td>nurse practitioner</td>\n",
       "      <td>1.000000</td>\n",
       "    </tr>\n",
       "    <tr>\n",
       "      <th>52211</th>\n",
       "      <td>52211</td>\n",
       "      <td>nurse practitioner</td>\n",
       "      <td>1.000000</td>\n",
       "    </tr>\n",
       "    <tr>\n",
       "      <th>57771</th>\n",
       "      <td>57771</td>\n",
       "      <td>nurse practitioner or physician assistant</td>\n",
       "      <td>0.826532</td>\n",
       "    </tr>\n",
       "    <tr>\n",
       "      <th>85303</th>\n",
       "      <td>85303</td>\n",
       "      <td>nurse practitioner</td>\n",
       "      <td>1.000000</td>\n",
       "    </tr>\n",
       "    <tr>\n",
       "      <th>92013</th>\n",
       "      <td>92013</td>\n",
       "      <td>inpatient nurse practitioner</td>\n",
       "      <td>0.863217</td>\n",
       "    </tr>\n",
       "  </tbody>\n",
       "</table>\n",
       "</div>"
      ],
      "text/plain": [
       "       index                                   JobTitle  distances\n",
       "4294    4294                         nurse practitioner   1.000000\n",
       "11377  11377                         nurse practitioner   1.000000\n",
       "33932  33932                         nurse practitioner   1.000000\n",
       "49928  49928                         nurse practitioner   1.000000\n",
       "50008  50008            nurse practitioner primary care   0.822325\n",
       "51547  51547                         nurse practitioner   1.000000\n",
       "52211  52211                         nurse practitioner   1.000000\n",
       "57771  57771  nurse practitioner or physician assistant   0.826532\n",
       "85303  85303                         nurse practitioner   1.000000\n",
       "92013  92013               inpatient nurse practitioner   0.863217"
      ]
     },
     "execution_count": 21,
     "metadata": {},
     "output_type": "execute_result"
    }
   ],
   "source": [
    "data[data['index'].isin(I[0])]"
   ]
  },
  {
   "cell_type": "markdown",
   "metadata": {},
   "source": [
    "### IndexIVFFlat \n",
    "IndexIVFFlat returns suboptimal results from approximate search.We do this by increasing the nprobe attribute value — which defines how many nearby cells to search."
   ]
  },
  {
   "cell_type": "code",
   "execution_count": 23,
   "metadata": {},
   "outputs": [],
   "source": [
    "nlist = 50  # how many cells\n",
    "d=embeddings1.shape[1] ##How many dimension\n",
    "quantizer = faiss.IndexFlatL2(d)\n",
    "index = faiss.IndexIVFFlat(quantizer, d, nlist)"
   ]
  },
  {
   "cell_type": "code",
   "execution_count": 24,
   "metadata": {
    "scrolled": true
   },
   "outputs": [
    {
     "data": {
      "text/plain": [
       "True"
      ]
     },
     "execution_count": 24,
     "metadata": {},
     "output_type": "execute_result"
    }
   ],
   "source": [
    "index.train(embeddings1)\n",
    "index.is_trained  # check if index is now trained"
   ]
  },
  {
   "cell_type": "code",
   "execution_count": 25,
   "metadata": {},
   "outputs": [
    {
     "data": {
      "text/plain": [
       "100000"
      ]
     },
     "execution_count": 25,
     "metadata": {},
     "output_type": "execute_result"
    }
   ],
   "source": [
    "index.add(embeddings1)\n",
    "index.ntotal  # number of embeddings indexed"
   ]
  },
  {
   "cell_type": "code",
   "execution_count": 26,
   "metadata": {},
   "outputs": [
    {
     "name": "stdout",
     "output_type": "stream",
     "text": [
      "CPU times: user 75.4 ms, sys: 2.09 ms, total: 77.5 ms\n",
      "Wall time: 12.7 ms\n"
     ]
    }
   ],
   "source": [
    "%%time\n",
    "# # Retrieve the 10 nearest neighbours\n",
    "num_results=10\n",
    "vector = model.encode(query)\n",
    "D, I = index.search(np.array(vector).astype(\"float32\"), k=num_results)"
   ]
  },
  {
   "cell_type": "markdown",
   "metadata": {},
   "source": [
    "### IndexIVFPQ\n",
    "\n",
    "Where IVF allowed us to approximate by reducing the scope of our search, PQ approximates the distance/similarity calculation instead.PQ achieves this approximated similarity operation by compressing the vectors themselves, which consists of three steps.\n",
    "1. We split the original vector into several subvectors.\n",
    "\n",
    "2. For each set of subverters, we perform a clustering operation — creating multiple centroids for each sub-vector set.\n",
    "\n",
    "3. In our vector of sub-vectors, we replace each sub-vector with the ID of it’s nearest set-specific centroid."
   ]
  },
  {
   "cell_type": "code",
   "execution_count": 27,
   "metadata": {},
   "outputs": [],
   "source": [
    "m = 8  # number of centroid IDs in final compressed vectors\n",
    "bits = 8 # number of bits in each centroid\n",
    "\n",
    "quantizer = faiss.IndexFlatL2(d)  # we keep the same L2 distance flat index\n",
    "index = faiss.IndexIVFPQ(quantizer, d, nlist, m, bits) "
   ]
  },
  {
   "cell_type": "code",
   "execution_count": 28,
   "metadata": {},
   "outputs": [
    {
     "data": {
      "text/plain": [
       "False"
      ]
     },
     "execution_count": 28,
     "metadata": {},
     "output_type": "execute_result"
    }
   ],
   "source": [
    "index.is_trained"
   ]
  },
  {
   "cell_type": "code",
   "execution_count": 29,
   "metadata": {},
   "outputs": [
    {
     "data": {
      "text/plain": [
       "True"
      ]
     },
     "execution_count": 29,
     "metadata": {},
     "output_type": "execute_result"
    }
   ],
   "source": [
    "index.train(embeddings1)\n",
    "index.is_trained  # check if index is now trained"
   ]
  },
  {
   "cell_type": "code",
   "execution_count": 30,
   "metadata": {},
   "outputs": [
    {
     "data": {
      "text/plain": [
       "100000"
      ]
     },
     "execution_count": 30,
     "metadata": {},
     "output_type": "execute_result"
    }
   ],
   "source": [
    "index.add(embeddings1)\n",
    "index.ntotal  # number of embeddings indexed"
   ]
  },
  {
   "cell_type": "code",
   "execution_count": 31,
   "metadata": {},
   "outputs": [],
   "source": [
    "index.nprobe = 50  # align to previous IndexIVFFlat nprobe value"
   ]
  },
  {
   "cell_type": "code",
   "execution_count": 32,
   "metadata": {},
   "outputs": [
    {
     "name": "stdout",
     "output_type": "stream",
     "text": [
      "CPU times: user 79 ms, sys: 935 µs, total: 79.9 ms\n",
      "Wall time: 13.2 ms\n"
     ]
    }
   ],
   "source": [
    "%%time\n",
    "# # Retrieve the 10 nearest neighbours\n",
    "num_results=10\n",
    "vector = model.encode(query)\n",
    "D, I = index.search(np.array(vector).astype(\"float32\"), k=num_results)"
   ]
  },
  {
   "cell_type": "markdown",
   "metadata": {},
   "source": [
    "## 4. HNSW\n",
    "https://www.pinecone.io/learn/hnsw/\n"
   ]
  },
  {
   "cell_type": "code",
   "execution_count": 36,
   "metadata": {},
   "outputs": [],
   "source": [
    "import hnswlib"
   ]
  },
  {
   "cell_type": "code",
   "execution_count": 33,
   "metadata": {},
   "outputs": [],
   "source": [
    "# Declaring index\n",
    "d=embeddings1.shape[1] ##How many dimension\n",
    "M = 32\n",
    "p = hnswlib.Index(space = 'l2', dim = 384) # possible options are l2, cosine or ip\n",
    "\n",
    "# Initializing index - the maximum number of elements should be known beforehand\n",
    "p.init_index(max_elements = data.shape[0], ef_construction = 200, M = 16)\n",
    "\n",
    "# Element insertion (can be called several times):\n",
    "p.add_items(embeddings1, data['index'].tolist())\n",
    "\n",
    "# Controlling the recall by setting ef:\n",
    "p.set_ef(50) # ef should always be > k\n"
   ]
  },
  {
   "cell_type": "code",
   "execution_count": 34,
   "metadata": {},
   "outputs": [
    {
     "name": "stdout",
     "output_type": "stream",
     "text": [
      "CPU times: user 117 µs, sys: 1 ms, total: 1.12 ms\n",
      "Wall time: 527 µs\n"
     ]
    }
   ],
   "source": [
    "%%time\n",
    "# Query dataset, k - number of closest elements (returns 2 numpy arrays)\n",
    "labels, distances = p.knn_query(embeddings2, k = 10)"
   ]
  },
  {
   "cell_type": "code",
   "execution_count": 35,
   "metadata": {},
   "outputs": [
    {
     "data": {
      "text/html": [
       "<div>\n",
       "<style scoped>\n",
       "    .dataframe tbody tr th:only-of-type {\n",
       "        vertical-align: middle;\n",
       "    }\n",
       "\n",
       "    .dataframe tbody tr th {\n",
       "        vertical-align: top;\n",
       "    }\n",
       "\n",
       "    .dataframe thead th {\n",
       "        text-align: right;\n",
       "    }\n",
       "</style>\n",
       "<table border=\"1\" class=\"dataframe\">\n",
       "  <thead>\n",
       "    <tr style=\"text-align: right;\">\n",
       "      <th></th>\n",
       "      <th>index</th>\n",
       "      <th>JobTitle</th>\n",
       "      <th>distances</th>\n",
       "    </tr>\n",
       "  </thead>\n",
       "  <tbody>\n",
       "    <tr>\n",
       "      <th>4294</th>\n",
       "      <td>4294</td>\n",
       "      <td>nurse practitioner</td>\n",
       "      <td>1.000000</td>\n",
       "    </tr>\n",
       "    <tr>\n",
       "      <th>11377</th>\n",
       "      <td>11377</td>\n",
       "      <td>nurse practitioner</td>\n",
       "      <td>1.000000</td>\n",
       "    </tr>\n",
       "    <tr>\n",
       "      <th>33932</th>\n",
       "      <td>33932</td>\n",
       "      <td>nurse practitioner</td>\n",
       "      <td>1.000000</td>\n",
       "    </tr>\n",
       "    <tr>\n",
       "      <th>49928</th>\n",
       "      <td>49928</td>\n",
       "      <td>nurse practitioner</td>\n",
       "      <td>1.000000</td>\n",
       "    </tr>\n",
       "    <tr>\n",
       "      <th>50008</th>\n",
       "      <td>50008</td>\n",
       "      <td>nurse practitioner primary care</td>\n",
       "      <td>0.822325</td>\n",
       "    </tr>\n",
       "    <tr>\n",
       "      <th>51547</th>\n",
       "      <td>51547</td>\n",
       "      <td>nurse practitioner</td>\n",
       "      <td>1.000000</td>\n",
       "    </tr>\n",
       "    <tr>\n",
       "      <th>52211</th>\n",
       "      <td>52211</td>\n",
       "      <td>nurse practitioner</td>\n",
       "      <td>1.000000</td>\n",
       "    </tr>\n",
       "    <tr>\n",
       "      <th>57771</th>\n",
       "      <td>57771</td>\n",
       "      <td>nurse practitioner or physician assistant</td>\n",
       "      <td>0.826532</td>\n",
       "    </tr>\n",
       "    <tr>\n",
       "      <th>85303</th>\n",
       "      <td>85303</td>\n",
       "      <td>nurse practitioner</td>\n",
       "      <td>1.000000</td>\n",
       "    </tr>\n",
       "    <tr>\n",
       "      <th>92013</th>\n",
       "      <td>92013</td>\n",
       "      <td>inpatient nurse practitioner</td>\n",
       "      <td>0.863217</td>\n",
       "    </tr>\n",
       "  </tbody>\n",
       "</table>\n",
       "</div>"
      ],
      "text/plain": [
       "       index                                   JobTitle  distances\n",
       "4294    4294                         nurse practitioner   1.000000\n",
       "11377  11377                         nurse practitioner   1.000000\n",
       "33932  33932                         nurse practitioner   1.000000\n",
       "49928  49928                         nurse practitioner   1.000000\n",
       "50008  50008            nurse practitioner primary care   0.822325\n",
       "51547  51547                         nurse practitioner   1.000000\n",
       "52211  52211                         nurse practitioner   1.000000\n",
       "57771  57771  nurse practitioner or physician assistant   0.826532\n",
       "85303  85303                         nurse practitioner   1.000000\n",
       "92013  92013               inpatient nurse practitioner   0.863217"
      ]
     },
     "execution_count": 35,
     "metadata": {},
     "output_type": "execute_result"
    }
   ],
   "source": [
    "data[data['index'].isin(labels[0].tolist())]"
   ]
  },
  {
   "cell_type": "markdown",
   "metadata": {},
   "source": [
    "As you can see that time taken for similarity match is :\n",
    "   > HNSW < FAISS-IVFPQ/FAISSIVF < FAISSIVFL2 < Elastic Search"
   ]
  }
 ],
 "metadata": {
  "kernelspec": {
   "display_name": "Python 3",
   "language": "python",
   "name": "python3"
  },
  "language_info": {
   "codemirror_mode": {
    "name": "ipython",
    "version": 3
   },
   "file_extension": ".py",
   "mimetype": "text/x-python",
   "name": "python",
   "nbconvert_exporter": "python",
   "pygments_lexer": "ipython3",
   "version": "3.8.0"
  }
 },
 "nbformat": 4,
 "nbformat_minor": 4
}
